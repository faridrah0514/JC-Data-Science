{
 "cells": [
  {
   "cell_type": "code",
   "execution_count": null,
   "metadata": {},
   "outputs": [],
   "source": [
    "def Romawi(x):\n",
    "    simbol_romawi={\n",
    "        1 : 'I', #pengurangan\n",
    "        5 : 'V',\n",
    "        10 : 'X', #pengurangan \n",
    "        50 : 'L',\n",
    "        100: 'C', #pengurangan\n",
    "        500: 'D',\n",
    "        1000: 'M'\n",
    "    }\n",
    "\n",
    "    romawi=''\n",
    "    number=[1,5,10,50,100,500,1000]\n",
    "    komponen=[]\n",
    "\n",
    "    for i in range(len(number)):\n",
    "        if x >= number[i]:\n",
    "            batas_bawah=number[i]\n",
    "    print(batas_bawah)\n",
    "    sisa=1\n",
    "    while sisa > 0:\n",
    "        komponen.append(batas_bawah)\n",
    "        sisa=x-batas_bawah\n",
    "        if sisa < 0:\n",
    "            batas_bawah=number[number.index(batas_bawah)-1]\n",
    "    \n",
    "    print(komponen)\n",
    "\n",
    "\n",
    "Romawi(11)"
   ]
  },
  {
   "cell_type": "code",
   "execution_count": null,
   "metadata": {},
   "outputs": [],
   "source": []
  }
 ],
 "metadata": {
  "kernelspec": {
   "display_name": "Python 3",
   "language": "python",
   "name": "python3"
  },
  "language_info": {
   "codemirror_mode": {
    "name": "ipython",
    "version": 3
   },
   "file_extension": ".py",
   "mimetype": "text/x-python",
   "name": "python",
   "nbconvert_exporter": "python",
   "pygments_lexer": "ipython3",
   "version": "3.7.4"
  }
 },
 "nbformat": 4,
 "nbformat_minor": 2
}
