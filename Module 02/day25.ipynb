{
 "cells": [
  {
   "cell_type": "markdown",
   "metadata": {},
   "source": [
    "# Belajar Pandas"
   ]
  },
  {
   "cell_type": "code",
   "execution_count": 1,
   "metadata": {},
   "outputs": [
    {
     "name": "stdout",
     "output_type": "stream",
     "text": "[[1 2 3]\n [4 5 6]\n [7 8 9]]\n0    1\n1    2\n2    3\n3    4\n4    5\n5    6\n6    7\n7    8\n8    9\ndtype: int32\n"
    },
    {
     "data": {
      "text/plain": "1"
     },
     "execution_count": 1,
     "metadata": {},
     "output_type": "execute_result"
    }
   ],
   "source": [
    "#numpy = array, dimensi, shape\n",
    "#pandas = dataframe\n",
    "\n",
    "import numpy as np\n",
    "import pandas as pd\n",
    "\n",
    "\n",
    "x = np.array([1,2,3,4,5,6,7,8,9])\n",
    "list=[\n",
    "    [1,2,3],\n",
    "    [4,5,6],\n",
    "    [7,8,9]\n",
    "]\n",
    "x1=np.array(list)\n",
    "print(x1)\n",
    "xs = pd.Series(x)\n",
    "xdf=pd.DataFrame(x1, index=[1,2,3],columns=['satu', 'dua', 'tiga'])\n",
    "xdf['satu']\n",
    "\n",
    "print(xs)\n",
    "xs[0]"
   ]
  },
  {
   "cell_type": "code",
   "execution_count": 2,
   "metadata": {},
   "outputs": [
    {
     "data": {
      "text/plain": "0     8\n1     2\n2     6\n3     3\n4     2\n     ..\n95    7\n96    6\n97    8\n98    9\n99    6\nName: 0, Length: 100, dtype: int32"
     },
     "execution_count": 2,
     "metadata": {},
     "output_type": "execute_result"
    }
   ],
   "source": [
    "x=np.random.randint(10, size=(100,50))\n",
    "\n",
    "pdf=pd.DataFrame(x)\n",
    "pdf[0]"
   ]
  },
  {
   "cell_type": "code",
   "execution_count": 3,
   "metadata": {},
   "outputs": [
    {
     "data": {
      "text/html": "<div>\n<style scoped>\n    .dataframe tbody tr th:only-of-type {\n        vertical-align: middle;\n    }\n\n    .dataframe tbody tr th {\n        vertical-align: top;\n    }\n\n    .dataframe thead th {\n        text-align: right;\n    }\n</style>\n<table border=\"1\" class=\"dataframe\">\n  <thead>\n    <tr style=\"text-align: right;\">\n      <th></th>\n      <th>nama</th>\n      <th>kota</th>\n      <th>Job</th>\n    </tr>\n  </thead>\n  <tbody>\n    <tr>\n      <th>0</th>\n      <td>Andi</td>\n      <td>Jakarta</td>\n      <td>NaN</td>\n    </tr>\n    <tr>\n      <th>1</th>\n      <td>Budi</td>\n      <td>Bandung</td>\n      <td>NaN</td>\n    </tr>\n    <tr>\n      <th>2</th>\n      <td>Caca</td>\n      <td>Surabaya</td>\n      <td>NaN</td>\n    </tr>\n    <tr>\n      <th>3</th>\n      <td>Doni</td>\n      <td>Semarang</td>\n      <td>PNS</td>\n    </tr>\n  </tbody>\n</table>\n</div>",
      "text/plain": "   nama      kota  Job\n0  Andi   Jakarta  NaN\n1  Budi   Bandung  NaN\n2  Caca  Surabaya  NaN\n3  Doni  Semarang  PNS"
     },
     "execution_count": 3,
     "metadata": {},
     "output_type": "execute_result"
    }
   ],
   "source": [
    "data=[\n",
    "    {\"nama\":\"Andi\", \"kota\": \"Jakarta\"},\n",
    "    {\"nama\":\"Budi\", \"kota\": \"Bandung\"},\n",
    "    {\"nama\":\"Caca\", \"kota\": \"Surabaya\", \"Job\": np.nan},\n",
    "    {\"nama\":\"Doni\", \"kota\": \"Semarang\",\"Job\":\"PNS\"},\n",
    "\n",
    "]\n",
    "pdf=pd.DataFrame(data)\n",
    "pdf"
   ]
  },
  {
   "cell_type": "code",
   "execution_count": 4,
   "metadata": {},
   "outputs": [
    {
     "data": {
      "text/html": "<div>\n<style scoped>\n    .dataframe tbody tr th:only-of-type {\n        vertical-align: middle;\n    }\n\n    .dataframe tbody tr th {\n        vertical-align: top;\n    }\n\n    .dataframe thead th {\n        text-align: right;\n    }\n</style>\n<table border=\"1\" class=\"dataframe\">\n  <thead>\n    <tr style=\"text-align: right;\">\n      <th></th>\n      <th>0</th>\n    </tr>\n  </thead>\n  <tbody>\n    <tr>\n      <th>0</th>\n      <td>1</td>\n    </tr>\n    <tr>\n      <th>1</th>\n      <td>2</td>\n    </tr>\n    <tr>\n      <th>2</th>\n      <td>3</td>\n    </tr>\n    <tr>\n      <th>3</th>\n      <td>4</td>\n    </tr>\n    <tr>\n      <th>4</th>\n      <td>5</td>\n    </tr>\n  </tbody>\n</table>\n</div>",
      "text/plain": "   0\n0  1\n1  2\n2  3\n3  4\n4  5"
     },
     "execution_count": 4,
     "metadata": {},
     "output_type": "execute_result"
    }
   ],
   "source": [
    "x=[1,2,3,4,5]\n",
    "k=pd.Series(x)\n",
    "k\n",
    "pdf=pd.DataFrame(k)\n",
    "pdf"
   ]
  },
  {
   "cell_type": "code",
   "execution_count": 5,
   "metadata": {},
   "outputs": [
    {
     "name": "stdout",
     "output_type": "stream",
     "text": "[1, 2, 3, 4, 5] [6, 7, 8, 9, 10]\n('f', 'a', 'r', 'i', 'd')\n"
    }
   ],
   "source": [
    "x=[1,2,3,4,5]\n",
    "y=[6,7,8,9,10]\n",
    "print(x,y)\n",
    "x='farid'\n",
    "print(tuple(x))"
   ]
  },
  {
   "cell_type": "code",
   "execution_count": 6,
   "metadata": {},
   "outputs": [
    {
     "name": "stdout",
     "output_type": "stream",
     "text": "A   B  C    D\n0  20  10  0  1.0\n1  21  11  1  1.0\n2  22  12  4  1.0\n3  23  13  2  1.0\n4  24  14  0  1.0\n5  25  15  9  1.0\nIndex(['A', 'B', 'C', 'D'], dtype='object')\nRangeIndex(start=0, stop=6, step=1)\n"
    },
    {
     "data": {
      "text/html": "<div>\n<style scoped>\n    .dataframe tbody tr th:only-of-type {\n        vertical-align: middle;\n    }\n\n    .dataframe tbody tr th {\n        vertical-align: top;\n    }\n\n    .dataframe thead th {\n        text-align: right;\n    }\n</style>\n<table border=\"1\" class=\"dataframe\">\n  <thead>\n    <tr style=\"text-align: right;\">\n      <th></th>\n      <th>A</th>\n      <th>B</th>\n      <th>C</th>\n      <th>D</th>\n    </tr>\n  </thead>\n  <tbody>\n    <tr>\n      <th>count</th>\n      <td>6.000000</td>\n      <td>6.000000</td>\n      <td>6.000000</td>\n      <td>6.0</td>\n    </tr>\n    <tr>\n      <th>mean</th>\n      <td>22.500000</td>\n      <td>12.500000</td>\n      <td>2.666667</td>\n      <td>1.0</td>\n    </tr>\n    <tr>\n      <th>std</th>\n      <td>1.870829</td>\n      <td>1.870829</td>\n      <td>3.444803</td>\n      <td>0.0</td>\n    </tr>\n    <tr>\n      <th>min</th>\n      <td>20.000000</td>\n      <td>10.000000</td>\n      <td>0.000000</td>\n      <td>1.0</td>\n    </tr>\n    <tr>\n      <th>25%</th>\n      <td>21.250000</td>\n      <td>11.250000</td>\n      <td>0.250000</td>\n      <td>1.0</td>\n    </tr>\n    <tr>\n      <th>50%</th>\n      <td>22.500000</td>\n      <td>12.500000</td>\n      <td>1.500000</td>\n      <td>1.0</td>\n    </tr>\n    <tr>\n      <th>75%</th>\n      <td>23.750000</td>\n      <td>13.750000</td>\n      <td>3.500000</td>\n      <td>1.0</td>\n    </tr>\n    <tr>\n      <th>max</th>\n      <td>25.000000</td>\n      <td>15.000000</td>\n      <td>9.000000</td>\n      <td>1.0</td>\n    </tr>\n  </tbody>\n</table>\n</div>",
      "text/plain": "               A          B         C    D\ncount   6.000000   6.000000  6.000000  6.0\nmean   22.500000  12.500000  2.666667  1.0\nstd     1.870829   1.870829  3.444803  0.0\nmin    20.000000  10.000000  0.000000  1.0\n25%    21.250000  11.250000  0.250000  1.0\n50%    22.500000  12.500000  1.500000  1.0\n75%    23.750000  13.750000  3.500000  1.0\nmax    25.000000  15.000000  9.000000  1.0"
     },
     "execution_count": 6,
     "metadata": {},
     "output_type": "execute_result"
    }
   ],
   "source": [
    "df=pd.DataFrame({\n",
    "    \"A\": np.arange(20,26),\n",
    "    \"B\": [10,11,12,13,14,15],\n",
    "    \"C\": np.random.randint(10, size=6),\n",
    "    'D': np.ones(6)\n",
    "})\n",
    "print(df)\n",
    "print(df.columns)\n",
    "print(df.index)\n",
    "df.describe()"
   ]
  },
  {
   "cell_type": "code",
   "execution_count": 9,
   "metadata": {},
   "outputs": [
    {
     "name": "stdout",
     "output_type": "stream",
     "text": "Aa  Bb  Cc    Fg        GG   Dd\n0  20  10   9  0.07  0.971377  1.0\n1  21  11   1  0.06  0.917272  1.0\n2  22  12   3  0.00  0.355001  1.0\n3  23  13   2  0.01  0.696162  1.0\n4  24  14   7  0.07  0.340066  1.0\n5  25  15   9  0.09  0.679353  1.0\n"
    },
    {
     "data": {
      "text/html": "<div>\n<style scoped>\n    .dataframe tbody tr th:only-of-type {\n        vertical-align: middle;\n    }\n\n    .dataframe tbody tr th {\n        vertical-align: top;\n    }\n\n    .dataframe thead th {\n        text-align: right;\n    }\n</style>\n<table border=\"1\" class=\"dataframe\">\n  <thead>\n    <tr style=\"text-align: right;\">\n      <th></th>\n      <th>Bb</th>\n      <th>Cc</th>\n      <th>Fg</th>\n      <th>GG</th>\n      <th>Dd</th>\n    </tr>\n  </thead>\n  <tbody>\n    <tr>\n      <th>0</th>\n      <td>10</td>\n      <td>9</td>\n      <td>0.07</td>\n      <td>0.971377</td>\n      <td>1.0</td>\n    </tr>\n    <tr>\n      <th>1</th>\n      <td>11</td>\n      <td>1</td>\n      <td>0.06</td>\n      <td>0.917272</td>\n      <td>1.0</td>\n    </tr>\n    <tr>\n      <th>2</th>\n      <td>12</td>\n      <td>3</td>\n      <td>0.00</td>\n      <td>0.355001</td>\n      <td>1.0</td>\n    </tr>\n  </tbody>\n</table>\n</div>",
      "text/plain": "   Bb  Cc    Fg        GG   Dd\n0  10   9  0.07  0.971377  1.0\n1  11   1  0.06  0.917272  1.0\n2  12   3  0.00  0.355001  1.0"
     },
     "execution_count": 9,
     "metadata": {},
     "output_type": "execute_result"
    }
   ],
   "source": [
    "df=pd.DataFrame({\n",
    "    \"Aa\": np.arange(20,26),\n",
    "    \"Bb\": [10,11,12,13,14,15],\n",
    "    \"Cc\": np.random.randint(10, size=6),\n",
    "    \"Fg\": df[\"Cc\"]/100,\n",
    "    'GG': np.random.rand(6),\n",
    "    'Dd': np.ones(6)\n",
    "})\n",
    "print(df)\n",
    "df.iloc[:3,1:] #-> numpy-like selection and indexing"
   ]
  },
  {
   "cell_type": "code",
   "execution_count": 14,
   "metadata": {},
   "outputs": [
    {
     "data": {
      "text/html": "<div>\n<style scoped>\n    .dataframe tbody tr th:only-of-type {\n        vertical-align: middle;\n    }\n\n    .dataframe tbody tr th {\n        vertical-align: top;\n    }\n\n    .dataframe thead th {\n        text-align: right;\n    }\n</style>\n<table border=\"1\" class=\"dataframe\">\n  <thead>\n    <tr style=\"text-align: right;\">\n      <th></th>\n      <th>Aa</th>\n      <th>Bb</th>\n      <th>Cc</th>\n      <th>Fg</th>\n      <th>GG</th>\n      <th>Dd</th>\n    </tr>\n  </thead>\n  <tbody>\n    <tr>\n      <th>1</th>\n      <td>21</td>\n      <td>11</td>\n      <td>1</td>\n      <td>0.06</td>\n      <td>0.917272</td>\n      <td>1.0</td>\n    </tr>\n    <tr>\n      <th>3</th>\n      <td>23</td>\n      <td>13</td>\n      <td>2</td>\n      <td>0.01</td>\n      <td>0.696162</td>\n      <td>1.0</td>\n    </tr>\n    <tr>\n      <th>2</th>\n      <td>22</td>\n      <td>12</td>\n      <td>3</td>\n      <td>0.00</td>\n      <td>0.355001</td>\n      <td>1.0</td>\n    </tr>\n    <tr>\n      <th>4</th>\n      <td>24</td>\n      <td>14</td>\n      <td>7</td>\n      <td>0.07</td>\n      <td>0.340066</td>\n      <td>1.0</td>\n    </tr>\n    <tr>\n      <th>0</th>\n      <td>20</td>\n      <td>10</td>\n      <td>9</td>\n      <td>0.07</td>\n      <td>0.971377</td>\n      <td>1.0</td>\n    </tr>\n    <tr>\n      <th>5</th>\n      <td>25</td>\n      <td>15</td>\n      <td>9</td>\n      <td>0.09</td>\n      <td>0.679353</td>\n      <td>1.0</td>\n    </tr>\n  </tbody>\n</table>\n</div>",
      "text/plain": "   Aa  Bb  Cc    Fg        GG   Dd\n1  21  11   1  0.06  0.917272  1.0\n3  23  13   2  0.01  0.696162  1.0\n2  22  12   3  0.00  0.355001  1.0\n4  24  14   7  0.07  0.340066  1.0\n0  20  10   9  0.07  0.971377  1.0\n5  25  15   9  0.09  0.679353  1.0"
     },
     "execution_count": 14,
     "metadata": {},
     "output_type": "execute_result"
    }
   ],
   "source": [
    "df.sort_values(by='Cc',ascending=True)"
   ]
  },
  {
   "cell_type": "code",
   "execution_count": 19,
   "metadata": {},
   "outputs": [
    {
     "data": {
      "text/html": "<div>\n<style scoped>\n    .dataframe tbody tr th:only-of-type {\n        vertical-align: middle;\n    }\n\n    .dataframe tbody tr th {\n        vertical-align: top;\n    }\n\n    .dataframe thead th {\n        text-align: right;\n    }\n</style>\n<table border=\"1\" class=\"dataframe\">\n  <thead>\n    <tr style=\"text-align: right;\">\n      <th></th>\n      <th>Bb</th>\n      <th>Cc</th>\n    </tr>\n  </thead>\n  <tbody>\n    <tr>\n      <th>0</th>\n      <td>10</td>\n      <td>9</td>\n    </tr>\n    <tr>\n      <th>2</th>\n      <td>12</td>\n      <td>3</td>\n    </tr>\n    <tr>\n      <th>4</th>\n      <td>14</td>\n      <td>7</td>\n    </tr>\n  </tbody>\n</table>\n</div>",
      "text/plain": "   Bb  Cc\n0  10   9\n2  12   3\n4  14   7"
     },
     "execution_count": 19,
     "metadata": {},
     "output_type": "execute_result"
    }
   ],
   "source": [
    "df.iloc[::2,0:3].sort_values(by='Aa', ascending=True)[['Bb','Cc']]"
   ]
  },
  {
   "cell_type": "code",
   "execution_count": null,
   "metadata": {},
   "outputs": [],
   "source": []
  }
 ],
 "metadata": {
  "file_extension": ".py",
  "kernelspec": {
   "display_name": "Python 3",
   "language": "python",
   "name": "python3"
  },
  "language_info": {
   "codemirror_mode": {
    "name": "ipython",
    "version": 3
   },
   "file_extension": ".py",
   "mimetype": "text/x-python",
   "name": "python",
   "nbconvert_exporter": "python",
   "pygments_lexer": "ipython3",
   "version": "3.8.0"
  },
  "mimetype": "text/x-python",
  "name": "python",
  "npconvert_exporter": "python",
  "pygments_lexer": "ipython3",
  "version": 3
 },
 "nbformat": 4,
 "nbformat_minor": 2
}