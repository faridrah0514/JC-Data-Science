{
 "nbformat": 4,
 "nbformat_minor": 2,
 "metadata": {
  "language_info": {
   "name": "python",
   "codemirror_mode": {
    "name": "ipython",
    "version": 3
   },
   "version": "3.7.5"
  },
  "orig_nbformat": 2,
  "file_extension": ".py",
  "mimetype": "text/x-python",
  "name": "python",
  "npconvert_exporter": "python",
  "pygments_lexer": "ipython3",
  "version": 3
 },
 "cells": [
  {
   "cell_type": "markdown",
   "execution_count": null,
   "metadata": {},
   "outputs": [],
   "source": [
    "## belajar pandas (3)"
   ]
  },
  {
   "cell_type": "code",
   "execution_count": 1,
   "metadata": {},
   "outputs": [
    {
     "data": {
      "text/plain": "'/Users/fithrirosalia/Dropbox/JCDS/Module 02'"
     },
     "execution_count": 1,
     "metadata": {},
     "output_type": "execute_result"
    }
   ],
   "source": [
    "import numpy as np\n",
    "import pandas as pd\n",
    "import os\n",
    "os.getcwd()"
   ]
  },
  {
   "cell_type": "code",
   "execution_count": 2,
   "metadata": {},
   "outputs": [
    {
     "data": {
      "text/html": "<div>\n<style scoped>\n    .dataframe tbody tr th:only-of-type {\n        vertical-align: middle;\n    }\n\n    .dataframe tbody tr th {\n        vertical-align: top;\n    }\n\n    .dataframe thead th {\n        text-align: right;\n    }\n</style>\n<table border=\"1\" class=\"dataframe\">\n  <thead>\n    <tr style=\"text-align: right;\">\n      <th></th>\n      <th>nama</th>\n      <th>usia</th>\n      <th>kota</th>\n      <th>gaji</th>\n    </tr>\n  </thead>\n  <tbody>\n    <tr>\n      <th>0</th>\n      <td>andi</td>\n      <td>21</td>\n      <td>jakarta</td>\n      <td>5000000.0</td>\n    </tr>\n    <tr>\n      <th>1</th>\n      <td>budi</td>\n      <td>22</td>\n      <td>bandung</td>\n      <td>6000000.0</td>\n    </tr>\n    <tr>\n      <th>2</th>\n      <td>caca</td>\n      <td>23</td>\n      <td>bogor</td>\n      <td>7000000.0</td>\n    </tr>\n    <tr>\n      <th>3</th>\n      <td>euis</td>\n      <td>24</td>\n      <td>surabaya</td>\n      <td>7000000.0</td>\n    </tr>\n    <tr>\n      <th>4</th>\n      <td>deni</td>\n      <td>25</td>\n      <td>semarang</td>\n      <td>8000000.0</td>\n    </tr>\n    <tr>\n      <th>5</th>\n      <td>-</td>\n      <td>26</td>\n      <td>depok</td>\n      <td>7500000.0</td>\n    </tr>\n    <tr>\n      <th>6</th>\n      <td>miki</td>\n      <td>27</td>\n      <td>tangerang</td>\n      <td>7600000.0</td>\n    </tr>\n    <tr>\n      <th>7</th>\n      <td>kiki</td>\n      <td>28</td>\n      <td>n.a</td>\n      <td>NaN</td>\n    </tr>\n    <tr>\n      <th>8</th>\n      <td>kuku</td>\n      <td>30</td>\n      <td>0</td>\n      <td>NaN</td>\n    </tr>\n    <tr>\n      <th>9</th>\n      <td>meri</td>\n      <td>NaN</td>\n      <td>8700000</td>\n      <td>NaN</td>\n    </tr>\n  </tbody>\n</table>\n</div>",
      "text/plain": "   nama usia       kota       gaji\n0  andi   21    jakarta  5000000.0\n1  budi   22    bandung  6000000.0\n2  caca   23      bogor  7000000.0\n3  euis   24   surabaya  7000000.0\n4  deni   25   semarang  8000000.0\n5     -   26      depok  7500000.0\n6  miki   27  tangerang  7600000.0\n7  kiki   28        n.a        NaN\n8  kuku   30          0        NaN\n9  meri  NaN    8700000        NaN"
     },
     "execution_count": 2,
     "metadata": {},
     "output_type": "execute_result"
    }
   ],
   "source": [
    "df=pd.read_csv('misc/filebaru.csv')\n",
    "df=df.replace({\n",
    "    \"usia\": \"#\"\n",
    "}, np.NaN)\n",
    "df"
   ]
  },
  {
   "cell_type": "code",
   "execution_count": 29,
   "metadata": {},
   "outputs": [
    {
     "data": {
      "text/plain": "dict_keys([90, 91, 92, 94, 95])"
     },
     "execution_count": 29,
     "metadata": {},
     "output_type": "execute_result"
    }
   ],
   "source": [
    "df=pd.DataFrame([\n",
    "    {'nama':'Andi', 'nilai' :90},\n",
    "    {'nama':'Andi', 'nilai' :91},\n",
    "    {'nama':'Andi', 'nilai' :92},\n",
    "    {'nama':'Budi', 'nilai' :90},\n",
    "    {'nama':'Budi', 'nilai' :94},\n",
    "    {'nama':'Budi', 'nilai' :95}\n",
    "])\n",
    "df\n",
    "# df[df['nama'] == 'Budi']\n",
    "dfGroup=df.groupby('nilai')\n",
    "# dfGroup.get_group('Andi')\n",
    "dfGroup.groups.keys()\n",
    "# dfGroup.mean()\n",
    "# dfGroup.max()\n",
    "# dfGroup.get_group(90)"
   ]
  },
  {
   "cell_type": "code",
   "execution_count": 4,
   "metadata": {},
   "outputs": [
    {
     "name": "stdout",
     "output_type": "stream",
     "text": "<pandas.core.groupby.generic.DataFrameGroupBy object at 0x10cb15590>\n   nama  fisika  biologi\n3  Budi      93       83\n4  Budi      94       84\n5  Budi      95       95\ndict_keys(['Andi', 'Budi'])\n      fisika    biologi\nnama                   \nAndi    91.0  81.000000\nBudi    94.0  87.333333\n      fisika  biologi\nnama                 \nAndi      92       82\nBudi      95       95\n92\n92\n"
    }
   ],
   "source": [
    "df=pd.DataFrame([\n",
    "    {'nama':'Andi', 'fisika' :90, 'biologi':80},\n",
    "    {'nama':'Andi', 'fisika' :91,'biologi':81},\n",
    "    {'nama':'Andi', 'fisika' :92,'biologi':82},\n",
    "    {'nama':'Budi', 'fisika' :93,'biologi':83},\n",
    "    {'nama':'Budi', 'fisika' :94,'biologi':84},\n",
    "    {'nama':'Budi', 'fisika' :95,'biologi':95}\n",
    "])\n",
    "df\n",
    "dfGroup=df.groupby('nama')\n",
    "print(dfGroup)\n",
    "print(dfGroup.get_group('Budi'))\n",
    "print(dfGroup.groups.keys())\n",
    "print(dfGroup.mean())\n",
    "print(dfGroup.max())\n",
    "\n",
    "print(df[df['nama'] == 'Andi']['fisika'].max())\n",
    "print(dfGroup.get_group('Andi')['fisika'].max())"
   ]
  },
  {
   "cell_type": "code",
   "execution_count": 5,
   "metadata": {},
   "outputs": [
    {
     "name": "stdout",
     "output_type": "stream",
     "text": "<class 'pandas.core.indexes.multi.MultiIndex'>\nMultiIndex([('mata pelajaran',     'fisika'),\n            ('mata pelajaran',    'biologi'),\n            ('mata pelajaran', 'matematika'),\n            ('mata pelajaran',   'olahraga')],\n           )\n"
    },
    {
     "ename": "NameError",
     "evalue": "name 'df3' is not defined",
     "output_type": "error",
     "traceback": [
      "\u001b[0;31m---------------------------------------------------------------------------\u001b[0m",
      "\u001b[0;31mNameError\u001b[0m                                 Traceback (most recent call last)",
      "\u001b[0;32m<ipython-input-5-df96f722d1f7>\u001b[0m in \u001b[0;36m<module>\u001b[0;34m\u001b[0m\n\u001b[1;32m     23\u001b[0m \u001b[0mprint\u001b[0m\u001b[0;34m(\u001b[0m\u001b[0mmultindex\u001b[0m\u001b[0;34m)\u001b[0m\u001b[0;34m\u001b[0m\u001b[0;34m\u001b[0m\u001b[0m\n\u001b[1;32m     24\u001b[0m \u001b[0;34m\u001b[0m\u001b[0m\n\u001b[0;32m---> 25\u001b[0;31m \u001b[0mnew_df\u001b[0m\u001b[0;34m=\u001b[0m\u001b[0mpd\u001b[0m\u001b[0;34m.\u001b[0m\u001b[0mconcat\u001b[0m\u001b[0;34m(\u001b[0m\u001b[0;34m[\u001b[0m\u001b[0mdf1\u001b[0m\u001b[0;34m,\u001b[0m\u001b[0mdf2\u001b[0m\u001b[0;34m,\u001b[0m\u001b[0mdf3\u001b[0m\u001b[0;34m]\u001b[0m\u001b[0;34m,\u001b[0m \u001b[0mignore_index\u001b[0m\u001b[0;34m=\u001b[0m\u001b[0;32mTrue\u001b[0m\u001b[0;34m,\u001b[0m \u001b[0msort\u001b[0m\u001b[0;34m=\u001b[0m\u001b[0;32mFalse\u001b[0m\u001b[0;34m,\u001b[0m \u001b[0maxis\u001b[0m\u001b[0;34m=\u001b[0m\u001b[0;36m0\u001b[0m\u001b[0;34m)\u001b[0m\u001b[0;34m\u001b[0m\u001b[0;34m\u001b[0m\u001b[0m\n\u001b[0m\u001b[1;32m     26\u001b[0m \u001b[0mprint\u001b[0m\u001b[0;34m(\u001b[0m\u001b[0;34m\"new_df\\n\"\u001b[0m\u001b[0;34m,\u001b[0m \u001b[0mnew_df\u001b[0m\u001b[0;34m)\u001b[0m\u001b[0;34m\u001b[0m\u001b[0;34m\u001b[0m\u001b[0m\n\u001b[1;32m     27\u001b[0m \u001b[0mnew_df_merge\u001b[0m\u001b[0;34m=\u001b[0m\u001b[0mpd\u001b[0m\u001b[0;34m.\u001b[0m\u001b[0mmerge\u001b[0m\u001b[0;34m(\u001b[0m\u001b[0mdf1\u001b[0m\u001b[0;34m,\u001b[0m\u001b[0mdf2\u001b[0m\u001b[0;34m,\u001b[0m \u001b[0mhow\u001b[0m\u001b[0;34m=\u001b[0m\u001b[0;34m'outer'\u001b[0m\u001b[0;34m,\u001b[0m \u001b[0mon\u001b[0m\u001b[0;34m=\u001b[0m\u001b[0;34m'nama'\u001b[0m\u001b[0;34m)\u001b[0m\u001b[0;34m\u001b[0m\u001b[0;34m\u001b[0m\u001b[0m\n",
      "\u001b[0;31mNameError\u001b[0m: name 'df3' is not defined"
     ]
    }
   ],
   "source": [
    "df1=pd.DataFrame([\n",
    "    {'nama':'Andi', 'fisika' :90, 'biologi':80},\n",
    "    {'nama':'Budi', 'fisika' :91,'biologi':81},\n",
    "    {'nama':'Caca', 'fisika' :92,'biologi':82}\n",
    "])\n",
    "df2=pd.DataFrame([\n",
    "    {'nama':'Doni', 'fisika' :90, 'biologi':80, 'matematika': 70},\n",
    "    {'nama':'Ella', 'fisika' :91,'biologi':81},\n",
    "    {'nama':'Andi', 'kimia' :92,'olah raga':82}\n",
    "])\n",
    "\n",
    "'''\n",
    "df3=pd.DataFrame([\n",
    "    {'nama':'Doni', 'kimia' :90, 'agama':80, 'mulok': 70},\n",
    "    {'nama':'Ella', 'kimia' :91,'agama':81},\n",
    "    {'nama':'Fira', 'kimia' :92,'agama':82}\n",
    "])\n",
    "'''\n",
    "\n",
    "arr=[['mata pelajaran'],['fisika','biologi','matematika','olahraga']]\n",
    "multindex=pd.MultiIndex.from_product(arr)\n",
    "print(type(multindex))\n",
    "print(multindex)\n",
    "\n",
    "new_df=pd.concat([df1,df2,df3], ignore_index=True, sort=False, axis=0)\n",
    "print(\"new_df\\n\", new_df)\n",
    "new_df_merge=pd.merge(df1,df2, how='outer', on='nama')\n",
    "new_df_merge\n"
   ]
  },
  {
   "cell_type": "markdown",
   "execution_count": null,
   "metadata": {},
   "outputs": [],
   "source": [
    "## Multiindex and pivot"
   ]
  },
  {
   "cell_type": "code",
   "execution_count": 0,
   "metadata": {},
   "outputs": [],
   "source": [
    "kamus=[\n",
    "    {'nomor':1, 'nama':'Andi', 'fisika': 90, 'biologi': 78},\n",
    "    {'nomor':2, 'nama':'Andi', 'fisika': 91, 'biologi': 77},\n",
    "    {'nomor':3, 'nama':'Andi', 'fisika': 92, 'biologi': 76},\n",
    "    {'nomor':1, 'nama':'Budi', 'fisika': 93, 'biologi': 75},\n",
    "    {'nomor':2, 'nama':'Budi', 'fisika': 95, 'biologi': 74},\n",
    "    {'nomor':3, 'nama':'Budi', 'fisika': 90, 'biologi': 73},\n",
    "]\n",
    "df=pd.DataFrame(kamus)\n",
    "print(df)\n",
    "new_df1=df.pivot(index='nama', columns='nomor')\n",
    "new_df2=df.pivot(index='nomor', columns='nama')\n",
    "print(\"new_df1\")\n",
    "print(new_df1)\n",
    "print(\"new_df2\")\n",
    "print(new_df2)\n",
    "print(new_df.columns)\n",
    "print('''\n",
    "\n",
    "\n",
    "''')\n",
    "new_df2['fisika','Andi'][1]"
   ]
  },
  {
   "cell_type": "code",
   "execution_count": 0,
   "metadata": {},
   "outputs": [],
   "source": [
    "df=pd.DataFrame({\n",
    "    # 'mata pelajaran': ['biologi', 'biologi', 'matematika', 'matematika'],\n",
    "    # 'nama': ['andi', 'budi', 'andi', 'budi'],\n",
    "    'nilai1': [90,91,72,71],\n",
    "    'nilai2': [65,66,67,68]\n",
    "}, index=[['biologi', 'biologi', 'matematika', 'matematika'],['andi', 'budi', 'andi', 'budi']])\n",
    "df"
   ]
  },
  {
   "cell_type": "code",
   "execution_count": 0,
   "metadata": {},
   "outputs": [],
   "source": [
    "df=pd.DataFrame({\n",
    "    'mapel': ['biologi', 'biologi', 'biologi', 'fisika', 'fisika', 'fisika'],\n",
    "    'test': [1,2,3,1,2,3],\n",
    "    'Andi': [70,80,90,76,78,98],\n",
    "    'Budi': [67,76,54,45,67,89]\n",
    "})\n",
    "print(df)\n",
    "df=df.set_index(['test','mapel'])\n",
    "print(df)\n",
    "df=df.unstack() #=> biar si dataframe itu jadi single index\n",
    "print(df)\n",
    "print(\"\\nswap level\")\n",
    "df=df.swaplevel(0,1,1).sort_index(1)\n",
    "print(df)\n",
    "df.columns"
   ]
  },
  {
   "cell_type": "code",
   "execution_count": 0,
   "metadata": {},
   "outputs": [],
   "source": [
    "df1=pd.DataFrame([\n",
    "    {'nama':'Andi', 'fisika' :90, 'biologi':80},\n",
    "    {'nama':'Budi', 'fisika' :91,'biologi':81},\n",
    "    {'nama':'Caca', 'fisika' :92,'biologi':82}\n",
    "])\n",
    "df2=pd.DataFrame([\n",
    "    {'nama':'Doni', 'fisika' :90, 'biologi':80, 'matematika': 70},\n",
    "    {'nama':'Ella', 'fisika' :91,'biologi':81},\n",
    "    {'nama':'Andi', 'kimia' :92,'olah raga':82}\n",
    "])\n",
    "df=pd.concat([df1,df2], sort=False, keys=['satu', 'dua'])\n",
    "print(df.index)\n",
    "print(df.columns)\n",
    "print(df)"
   ]
  },
  {
   "cell_type": "markdown",
   "execution_count": 113,
   "metadata": {},
   "outputs": [
    {
     "ename": "SyntaxError",
     "evalue": "invalid syntax (<ipython-input-113-b908baae1f3e>, line 1)",
     "output_type": "error",
     "traceback": [
      "\u001b[1;36m  File \u001b[1;32m\"<ipython-input-113-b908baae1f3e>\"\u001b[1;36m, line \u001b[1;32m1\u001b[0m\n\u001b[1;33m    1. data BPS, baca sebagai multi index\u001b[0m\n\u001b[1;37m       ^\u001b[0m\n\u001b[1;31mSyntaxError\u001b[0m\u001b[1;31m:\u001b[0m invalid syntax\n"
     ]
    }
   ],
   "source": [
    "# PR\n",
    "1. data BPS, baca sebagai multi index, kerjain tugas2nya\n",
    "2. pd.melt\n",
    "3. pd.crosstab\n",
    "4. pd.read_sql => membaca query\n",
    "4. pd_read_sql_table => membaca table langsung"
   ]
  },
  {
   "cell_type": "code",
   "execution_count": 0,
   "metadata": {},
   "outputs": [],
   "source": [
    "df=pd.read_excel('misc/bps_file.xlsx', header=[2,3], skipfooter=1, na_values=['-'])\n",
    "print(df.columns)\n",
    "# df.rename(columns={'Unnamed: 0_level_0':\"\", 'Unnamed: 0_level_1': \"Provinsi\"}, inplace=True)\n",
    "# df.set_index((\"\",\"Provinsi\"),inplace=True)\n",
    "df.set_index(('Unnamed: 0_level_0', 'Unnamed: 0_level_1'), inplace=True)\n",
    "# df.rename(index={'(, Provinsi)': 'Provinsi'}, inplace=True)\n",
    "df.index.names=['Provinsi']\n",
    "df.columns.names=['Area','Tahun']\n",
    "# new_df=df[[('Tepi Laut', 2003),('Bukan Tepi Laut', 2003)]]\n",
    "# new_df['total']=df[('Tepi Laut', 2003)] + df[('Bukan Tepi Laut', 2003)]\n",
    "# new_df[new_df['total'] == new_df['total'].max()]\n",
    "arr=[]\n",
    "for i in df.columns:\n",
    "    arr.append(i[1])\n",
    "arr.sort()\n",
    "arr=set(arr)\n",
    "print(\"===========menampilakan desa terbanyak=================\")\n",
    "for j in arr:\n",
    "    new_df=df[[('Tepi Laut', j),('Bukan Tepi Laut', j)]]\n",
    "    new_df['total']=df[('Tepi Laut', j)] + df[('Bukan Tepi Laut', j)]\n",
    "    print(new_df[new_df['total'] == new_df['total'].max()])\n",
    "    print(\"\")\n",
    "\n",
    "print(\"===========menampilakan desa tersedikit=================\")\n",
    "for j in arr:\n",
    "    new_df=df[[('Tepi Laut', j),('Bukan Tepi Laut', j)]]\n",
    "    new_df['total']=df[('Tepi Laut', j)] + df[('Bukan Tepi Laut', j)]\n",
    "    print(new_df[new_df['total'] == new_df['total'].min()])\n",
    "    print(\"\")\n",
    "\n",
    "\n",
    "print('''\n",
    "\n",
    "\n",
    "\n",
    "''')\n",
    "df"
   ]
  },
  {
   "cell_type": "code",
   "execution_count": 0,
   "metadata": {},
   "outputs": [],
   "source": [
    "df.describe()"
   ]
  },
  {
   "cell_type": "code",
   "execution_count": 0,
   "metadata": {},
   "outputs": [],
   "source": [
    "df.info()"
   ]
  },
  {
   "cell_type": "code",
   "execution_count": 55,
   "metadata": {},
   "outputs": [
    {
     "ename": "ValueError",
     "evalue": "Shape of passed values is (4, 2), indices imply (1, 2)",
     "output_type": "error",
     "traceback": [
      "\u001b[0;31m---------------------------------------------------------------------------\u001b[0m",
      "\u001b[0;31mValueError\u001b[0m                                Traceback (most recent call last)",
      "\u001b[0;32m/usr/local/lib/python3.7/site-packages/pandas/core/internals/managers.py\u001b[0m in \u001b[0;36mcreate_block_manager_from_arrays\u001b[0;34m(arrays, names, axes)\u001b[0m\n\u001b[1;32m   1694\u001b[0m         \u001b[0mblocks\u001b[0m \u001b[0;34m=\u001b[0m \u001b[0mform_blocks\u001b[0m\u001b[0;34m(\u001b[0m\u001b[0marrays\u001b[0m\u001b[0;34m,\u001b[0m \u001b[0mnames\u001b[0m\u001b[0;34m,\u001b[0m \u001b[0maxes\u001b[0m\u001b[0;34m)\u001b[0m\u001b[0;34m\u001b[0m\u001b[0;34m\u001b[0m\u001b[0m\n\u001b[0;32m-> 1695\u001b[0;31m         \u001b[0mmgr\u001b[0m \u001b[0;34m=\u001b[0m \u001b[0mBlockManager\u001b[0m\u001b[0;34m(\u001b[0m\u001b[0mblocks\u001b[0m\u001b[0;34m,\u001b[0m \u001b[0maxes\u001b[0m\u001b[0;34m)\u001b[0m\u001b[0;34m\u001b[0m\u001b[0;34m\u001b[0m\u001b[0m\n\u001b[0m\u001b[1;32m   1696\u001b[0m         \u001b[0mmgr\u001b[0m\u001b[0;34m.\u001b[0m\u001b[0m_consolidate_inplace\u001b[0m\u001b[0;34m(\u001b[0m\u001b[0;34m)\u001b[0m\u001b[0;34m\u001b[0m\u001b[0;34m\u001b[0m\u001b[0m\n",
      "\u001b[0;32m/usr/local/lib/python3.7/site-packages/pandas/core/internals/managers.py\u001b[0m in \u001b[0;36m__init__\u001b[0;34m(self, blocks, axes, do_integrity_check)\u001b[0m\n\u001b[1;32m    142\u001b[0m         \u001b[0;32mif\u001b[0m \u001b[0mdo_integrity_check\u001b[0m\u001b[0;34m:\u001b[0m\u001b[0;34m\u001b[0m\u001b[0;34m\u001b[0m\u001b[0m\n\u001b[0;32m--> 143\u001b[0;31m             \u001b[0mself\u001b[0m\u001b[0;34m.\u001b[0m\u001b[0m_verify_integrity\u001b[0m\u001b[0;34m(\u001b[0m\u001b[0;34m)\u001b[0m\u001b[0;34m\u001b[0m\u001b[0;34m\u001b[0m\u001b[0m\n\u001b[0m\u001b[1;32m    144\u001b[0m \u001b[0;34m\u001b[0m\u001b[0m\n",
      "\u001b[0;32m/usr/local/lib/python3.7/site-packages/pandas/core/internals/managers.py\u001b[0m in \u001b[0;36m_verify_integrity\u001b[0;34m(self)\u001b[0m\n\u001b[1;32m    344\u001b[0m             \u001b[0;32mif\u001b[0m \u001b[0mblock\u001b[0m\u001b[0;34m.\u001b[0m\u001b[0m_verify_integrity\u001b[0m \u001b[0;32mand\u001b[0m \u001b[0mblock\u001b[0m\u001b[0;34m.\u001b[0m\u001b[0mshape\u001b[0m\u001b[0;34m[\u001b[0m\u001b[0;36m1\u001b[0m\u001b[0;34m:\u001b[0m\u001b[0;34m]\u001b[0m \u001b[0;34m!=\u001b[0m \u001b[0mmgr_shape\u001b[0m\u001b[0;34m[\u001b[0m\u001b[0;36m1\u001b[0m\u001b[0;34m:\u001b[0m\u001b[0;34m]\u001b[0m\u001b[0;34m:\u001b[0m\u001b[0;34m\u001b[0m\u001b[0;34m\u001b[0m\u001b[0m\n\u001b[0;32m--> 345\u001b[0;31m                 \u001b[0mconstruction_error\u001b[0m\u001b[0;34m(\u001b[0m\u001b[0mtot_items\u001b[0m\u001b[0;34m,\u001b[0m \u001b[0mblock\u001b[0m\u001b[0;34m.\u001b[0m\u001b[0mshape\u001b[0m\u001b[0;34m[\u001b[0m\u001b[0;36m1\u001b[0m\u001b[0;34m:\u001b[0m\u001b[0;34m]\u001b[0m\u001b[0;34m,\u001b[0m \u001b[0mself\u001b[0m\u001b[0;34m.\u001b[0m\u001b[0maxes\u001b[0m\u001b[0;34m)\u001b[0m\u001b[0;34m\u001b[0m\u001b[0;34m\u001b[0m\u001b[0m\n\u001b[0m\u001b[1;32m    346\u001b[0m         \u001b[0;32mif\u001b[0m \u001b[0mlen\u001b[0m\u001b[0;34m(\u001b[0m\u001b[0mself\u001b[0m\u001b[0;34m.\u001b[0m\u001b[0mitems\u001b[0m\u001b[0;34m)\u001b[0m \u001b[0;34m!=\u001b[0m \u001b[0mtot_items\u001b[0m\u001b[0;34m:\u001b[0m\u001b[0;34m\u001b[0m\u001b[0;34m\u001b[0m\u001b[0m\n",
      "\u001b[0;32m/usr/local/lib/python3.7/site-packages/pandas/core/internals/managers.py\u001b[0m in \u001b[0;36mconstruction_error\u001b[0;34m(tot_items, block_shape, axes, e)\u001b[0m\n\u001b[1;32m   1718\u001b[0m     raise ValueError(\n\u001b[0;32m-> 1719\u001b[0;31m         \u001b[0;34m\"Shape of passed values is {0}, indices imply {1}\"\u001b[0m\u001b[0;34m.\u001b[0m\u001b[0mformat\u001b[0m\u001b[0;34m(\u001b[0m\u001b[0mpassed\u001b[0m\u001b[0;34m,\u001b[0m \u001b[0mimplied\u001b[0m\u001b[0;34m)\u001b[0m\u001b[0;34m\u001b[0m\u001b[0;34m\u001b[0m\u001b[0m\n\u001b[0m\u001b[1;32m   1720\u001b[0m     )\n",
      "\u001b[0;31mValueError\u001b[0m: Shape of passed values is (4, 2), indices imply (1, 2)",
      "\nDuring handling of the above exception, another exception occurred:\n",
      "\u001b[0;31mValueError\u001b[0m                                Traceback (most recent call last)",
      "\u001b[0;32m<ipython-input-55-4d9d841877b2>\u001b[0m in \u001b[0;36m<module>\u001b[0;34m\u001b[0m\n\u001b[1;32m      6\u001b[0m     \u001b[0;34m\"x\"\u001b[0m\u001b[0;34m:\u001b[0m\u001b[0;34m[\u001b[0m\u001b[0;36m1\u001b[0m\u001b[0;34m,\u001b[0m\u001b[0;36m2\u001b[0m\u001b[0;34m,\u001b[0m\u001b[0;36m3\u001b[0m\u001b[0;34m,\u001b[0m\u001b[0;36m4\u001b[0m\u001b[0;34m]\u001b[0m\u001b[0;34m,\u001b[0m\u001b[0;34m\u001b[0m\u001b[0;34m\u001b[0m\u001b[0m\n\u001b[1;32m      7\u001b[0m     \u001b[0;34m\"y\"\u001b[0m\u001b[0;34m:\u001b[0m\u001b[0;34m[\u001b[0m\u001b[0;36m5\u001b[0m\u001b[0;34m,\u001b[0m\u001b[0;36m6\u001b[0m\u001b[0;34m,\u001b[0m\u001b[0;36m7\u001b[0m\u001b[0;34m,\u001b[0m\u001b[0;36m8\u001b[0m\u001b[0;34m]\u001b[0m\u001b[0;34m\u001b[0m\u001b[0;34m\u001b[0m\u001b[0m\n\u001b[0;32m----> 8\u001b[0;31m }, index=['satu'])\n\u001b[0m\u001b[1;32m      9\u001b[0m \u001b[0mdf\u001b[0m\u001b[0;34m\u001b[0m\u001b[0;34m\u001b[0m\u001b[0m\n",
      "\u001b[0;32m/usr/local/lib/python3.7/site-packages/pandas/core/frame.py\u001b[0m in \u001b[0;36m__init__\u001b[0;34m(self, data, index, columns, dtype, copy)\u001b[0m\n\u001b[1;32m    409\u001b[0m             )\n\u001b[1;32m    410\u001b[0m         \u001b[0;32melif\u001b[0m \u001b[0misinstance\u001b[0m\u001b[0;34m(\u001b[0m\u001b[0mdata\u001b[0m\u001b[0;34m,\u001b[0m \u001b[0mdict\u001b[0m\u001b[0;34m)\u001b[0m\u001b[0;34m:\u001b[0m\u001b[0;34m\u001b[0m\u001b[0;34m\u001b[0m\u001b[0m\n\u001b[0;32m--> 411\u001b[0;31m             \u001b[0mmgr\u001b[0m \u001b[0;34m=\u001b[0m \u001b[0minit_dict\u001b[0m\u001b[0;34m(\u001b[0m\u001b[0mdata\u001b[0m\u001b[0;34m,\u001b[0m \u001b[0mindex\u001b[0m\u001b[0;34m,\u001b[0m \u001b[0mcolumns\u001b[0m\u001b[0;34m,\u001b[0m \u001b[0mdtype\u001b[0m\u001b[0;34m=\u001b[0m\u001b[0mdtype\u001b[0m\u001b[0;34m)\u001b[0m\u001b[0;34m\u001b[0m\u001b[0;34m\u001b[0m\u001b[0m\n\u001b[0m\u001b[1;32m    412\u001b[0m         \u001b[0;32melif\u001b[0m \u001b[0misinstance\u001b[0m\u001b[0;34m(\u001b[0m\u001b[0mdata\u001b[0m\u001b[0;34m,\u001b[0m \u001b[0mma\u001b[0m\u001b[0;34m.\u001b[0m\u001b[0mMaskedArray\u001b[0m\u001b[0;34m)\u001b[0m\u001b[0;34m:\u001b[0m\u001b[0;34m\u001b[0m\u001b[0;34m\u001b[0m\u001b[0m\n\u001b[1;32m    413\u001b[0m             \u001b[0;32mimport\u001b[0m \u001b[0mnumpy\u001b[0m\u001b[0;34m.\u001b[0m\u001b[0mma\u001b[0m\u001b[0;34m.\u001b[0m\u001b[0mmrecords\u001b[0m \u001b[0;32mas\u001b[0m \u001b[0mmrecords\u001b[0m\u001b[0;34m\u001b[0m\u001b[0;34m\u001b[0m\u001b[0m\n",
      "\u001b[0;32m/usr/local/lib/python3.7/site-packages/pandas/core/internals/construction.py\u001b[0m in \u001b[0;36minit_dict\u001b[0;34m(data, index, columns, dtype)\u001b[0m\n\u001b[1;32m    255\u001b[0m             \u001b[0marr\u001b[0m \u001b[0;32mif\u001b[0m \u001b[0;32mnot\u001b[0m \u001b[0mis_datetime64tz_dtype\u001b[0m\u001b[0;34m(\u001b[0m\u001b[0marr\u001b[0m\u001b[0;34m)\u001b[0m \u001b[0;32melse\u001b[0m \u001b[0marr\u001b[0m\u001b[0;34m.\u001b[0m\u001b[0mcopy\u001b[0m\u001b[0;34m(\u001b[0m\u001b[0;34m)\u001b[0m \u001b[0;32mfor\u001b[0m \u001b[0marr\u001b[0m \u001b[0;32min\u001b[0m \u001b[0marrays\u001b[0m\u001b[0;34m\u001b[0m\u001b[0;34m\u001b[0m\u001b[0m\n\u001b[1;32m    256\u001b[0m         ]\n\u001b[0;32m--> 257\u001b[0;31m     \u001b[0;32mreturn\u001b[0m \u001b[0marrays_to_mgr\u001b[0m\u001b[0;34m(\u001b[0m\u001b[0marrays\u001b[0m\u001b[0;34m,\u001b[0m \u001b[0mdata_names\u001b[0m\u001b[0;34m,\u001b[0m \u001b[0mindex\u001b[0m\u001b[0;34m,\u001b[0m \u001b[0mcolumns\u001b[0m\u001b[0;34m,\u001b[0m \u001b[0mdtype\u001b[0m\u001b[0;34m=\u001b[0m\u001b[0mdtype\u001b[0m\u001b[0;34m)\u001b[0m\u001b[0;34m\u001b[0m\u001b[0;34m\u001b[0m\u001b[0m\n\u001b[0m\u001b[1;32m    258\u001b[0m \u001b[0;34m\u001b[0m\u001b[0m\n\u001b[1;32m    259\u001b[0m \u001b[0;34m\u001b[0m\u001b[0m\n",
      "\u001b[0;32m/usr/local/lib/python3.7/site-packages/pandas/core/internals/construction.py\u001b[0m in \u001b[0;36marrays_to_mgr\u001b[0;34m(arrays, arr_names, index, columns, dtype)\u001b[0m\n\u001b[1;32m     85\u001b[0m     \u001b[0maxes\u001b[0m \u001b[0;34m=\u001b[0m \u001b[0;34m[\u001b[0m\u001b[0mensure_index\u001b[0m\u001b[0;34m(\u001b[0m\u001b[0mcolumns\u001b[0m\u001b[0;34m)\u001b[0m\u001b[0;34m,\u001b[0m \u001b[0mindex\u001b[0m\u001b[0;34m]\u001b[0m\u001b[0;34m\u001b[0m\u001b[0;34m\u001b[0m\u001b[0m\n\u001b[1;32m     86\u001b[0m \u001b[0;34m\u001b[0m\u001b[0m\n\u001b[0;32m---> 87\u001b[0;31m     \u001b[0;32mreturn\u001b[0m \u001b[0mcreate_block_manager_from_arrays\u001b[0m\u001b[0;34m(\u001b[0m\u001b[0marrays\u001b[0m\u001b[0;34m,\u001b[0m \u001b[0marr_names\u001b[0m\u001b[0;34m,\u001b[0m \u001b[0maxes\u001b[0m\u001b[0;34m)\u001b[0m\u001b[0;34m\u001b[0m\u001b[0;34m\u001b[0m\u001b[0m\n\u001b[0m\u001b[1;32m     88\u001b[0m \u001b[0;34m\u001b[0m\u001b[0m\n\u001b[1;32m     89\u001b[0m \u001b[0;34m\u001b[0m\u001b[0m\n",
      "\u001b[0;32m/usr/local/lib/python3.7/site-packages/pandas/core/internals/managers.py\u001b[0m in \u001b[0;36mcreate_block_manager_from_arrays\u001b[0;34m(arrays, names, axes)\u001b[0m\n\u001b[1;32m   1697\u001b[0m         \u001b[0;32mreturn\u001b[0m \u001b[0mmgr\u001b[0m\u001b[0;34m\u001b[0m\u001b[0;34m\u001b[0m\u001b[0m\n\u001b[1;32m   1698\u001b[0m     \u001b[0;32mexcept\u001b[0m \u001b[0mValueError\u001b[0m \u001b[0;32mas\u001b[0m \u001b[0me\u001b[0m\u001b[0;34m:\u001b[0m\u001b[0;34m\u001b[0m\u001b[0;34m\u001b[0m\u001b[0m\n\u001b[0;32m-> 1699\u001b[0;31m         \u001b[0mconstruction_error\u001b[0m\u001b[0;34m(\u001b[0m\u001b[0mlen\u001b[0m\u001b[0;34m(\u001b[0m\u001b[0marrays\u001b[0m\u001b[0;34m)\u001b[0m\u001b[0;34m,\u001b[0m \u001b[0marrays\u001b[0m\u001b[0;34m[\u001b[0m\u001b[0;36m0\u001b[0m\u001b[0;34m]\u001b[0m\u001b[0;34m.\u001b[0m\u001b[0mshape\u001b[0m\u001b[0;34m,\u001b[0m \u001b[0maxes\u001b[0m\u001b[0;34m,\u001b[0m \u001b[0me\u001b[0m\u001b[0;34m)\u001b[0m\u001b[0;34m\u001b[0m\u001b[0;34m\u001b[0m\u001b[0m\n\u001b[0m\u001b[1;32m   1700\u001b[0m \u001b[0;34m\u001b[0m\u001b[0m\n\u001b[1;32m   1701\u001b[0m \u001b[0;34m\u001b[0m\u001b[0m\n",
      "\u001b[0;32m/usr/local/lib/python3.7/site-packages/pandas/core/internals/managers.py\u001b[0m in \u001b[0;36mconstruction_error\u001b[0;34m(tot_items, block_shape, axes, e)\u001b[0m\n\u001b[1;32m   1717\u001b[0m         \u001b[0;32mraise\u001b[0m \u001b[0mValueError\u001b[0m\u001b[0;34m(\u001b[0m\u001b[0;34m\"Empty data passed with indices specified.\"\u001b[0m\u001b[0;34m)\u001b[0m\u001b[0;34m\u001b[0m\u001b[0;34m\u001b[0m\u001b[0m\n\u001b[1;32m   1718\u001b[0m     raise ValueError(\n\u001b[0;32m-> 1719\u001b[0;31m         \u001b[0;34m\"Shape of passed values is {0}, indices imply {1}\"\u001b[0m\u001b[0;34m.\u001b[0m\u001b[0mformat\u001b[0m\u001b[0;34m(\u001b[0m\u001b[0mpassed\u001b[0m\u001b[0;34m,\u001b[0m \u001b[0mimplied\u001b[0m\u001b[0;34m)\u001b[0m\u001b[0;34m\u001b[0m\u001b[0;34m\u001b[0m\u001b[0m\n\u001b[0m\u001b[1;32m   1720\u001b[0m     )\n\u001b[1;32m   1721\u001b[0m \u001b[0;34m\u001b[0m\u001b[0m\n",
      "\u001b[0;31mValueError\u001b[0m: Shape of passed values is (4, 2), indices imply (1, 2)"
     ]
    }
   ],
   "source": [
    "# df=pd.read_excel('misc/bps_file.xlsx', header=[2,3], skipfooter=1, na_values=['-'])\n",
    "# df.set_index(('Unnamed: 0_level_0', 'Unnamed: 0_level_1'), inplace=True)\n",
    "# df\n",
    "df=pd.read_excel('misc/bps_file.xlsx', header=[2,3], skipfooter=1)\n",
    "df=pd.DataFrame({\n",
    "    \"x\":[1,2,3,4],\n",
    "    \"y\":[5,6,7,8]\n",
    "})\n",
    "df"
   ]
  },
  {
   "cell_type": "code",
   "execution_count": null,
   "metadata": {},
   "outputs": [],
   "source": []
  }
 ]
}