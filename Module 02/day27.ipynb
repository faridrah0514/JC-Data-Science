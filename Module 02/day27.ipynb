{
 "nbformat": 4,
 "nbformat_minor": 2,
 "metadata": {
  "language_info": {
   "name": "python",
   "codemirror_mode": {
    "name": "ipython",
    "version": 3
   },
   "version": "3.8.0"
  },
  "orig_nbformat": 2,
  "file_extension": ".py",
  "mimetype": "text/x-python",
  "name": "python",
  "npconvert_exporter": "python",
  "pygments_lexer": "ipython3",
  "version": 3
 },
 "cells": [
  {
   "cell_type": "markdown",
   "execution_count": null,
   "metadata": {},
   "outputs": [],
   "source": [
    "## belajar pandas (3)"
   ]
  },
  {
   "cell_type": "code",
   "execution_count": 1,
   "metadata": {},
   "outputs": [
    {
     "data": {
      "text/plain": "'c:\\\\Users\\\\Farid Rahman\\\\Desktop\\\\Dropbox\\\\JCDS\\\\Module 02'"
     },
     "execution_count": 1,
     "metadata": {},
     "output_type": "execute_result"
    }
   ],
   "source": [
    "import numpy as np\n",
    "import pandas as pd\n",
    "import os\n",
    "os.getcwd()"
   ]
  },
  {
   "cell_type": "code",
   "execution_count": 2,
   "metadata": {},
   "outputs": [
    {
     "data": {
      "text/html": "<div>\n<style scoped>\n    .dataframe tbody tr th:only-of-type {\n        vertical-align: middle;\n    }\n\n    .dataframe tbody tr th {\n        vertical-align: top;\n    }\n\n    .dataframe thead th {\n        text-align: right;\n    }\n</style>\n<table border=\"1\" class=\"dataframe\">\n  <thead>\n    <tr style=\"text-align: right;\">\n      <th></th>\n      <th>nama</th>\n      <th>usia</th>\n      <th>kota</th>\n      <th>gaji</th>\n    </tr>\n  </thead>\n  <tbody>\n    <tr>\n      <th>0</th>\n      <td>andi</td>\n      <td>21</td>\n      <td>jakarta</td>\n      <td>5000000.0</td>\n    </tr>\n    <tr>\n      <th>1</th>\n      <td>budi</td>\n      <td>22</td>\n      <td>bandung</td>\n      <td>6000000.0</td>\n    </tr>\n    <tr>\n      <th>2</th>\n      <td>caca</td>\n      <td>23</td>\n      <td>bogor</td>\n      <td>7000000.0</td>\n    </tr>\n    <tr>\n      <th>3</th>\n      <td>euis</td>\n      <td>24</td>\n      <td>surabaya</td>\n      <td>7000000.0</td>\n    </tr>\n    <tr>\n      <th>4</th>\n      <td>deni</td>\n      <td>25</td>\n      <td>semarang</td>\n      <td>8000000.0</td>\n    </tr>\n    <tr>\n      <th>5</th>\n      <td>-</td>\n      <td>26</td>\n      <td>depok</td>\n      <td>7500000.0</td>\n    </tr>\n    <tr>\n      <th>6</th>\n      <td>miki</td>\n      <td>27</td>\n      <td>tangerang</td>\n      <td>7600000.0</td>\n    </tr>\n    <tr>\n      <th>7</th>\n      <td>kiki</td>\n      <td>28</td>\n      <td>n.a</td>\n      <td>NaN</td>\n    </tr>\n    <tr>\n      <th>8</th>\n      <td>kuku</td>\n      <td>30</td>\n      <td>0</td>\n      <td>NaN</td>\n    </tr>\n    <tr>\n      <th>9</th>\n      <td>meri</td>\n      <td>NaN</td>\n      <td>8700000</td>\n      <td>NaN</td>\n    </tr>\n  </tbody>\n</table>\n</div>",
      "text/plain": "   nama usia       kota       gaji\n0  andi   21    jakarta  5000000.0\n1  budi   22    bandung  6000000.0\n2  caca   23      bogor  7000000.0\n3  euis   24   surabaya  7000000.0\n4  deni   25   semarang  8000000.0\n5     -   26      depok  7500000.0\n6  miki   27  tangerang  7600000.0\n7  kiki   28        n.a        NaN\n8  kuku   30          0        NaN\n9  meri  NaN    8700000        NaN"
     },
     "execution_count": 2,
     "metadata": {},
     "output_type": "execute_result"
    }
   ],
   "source": [
    "df=pd.read_csv('misc/filebaru.csv')\n",
    "df=df.replace({\n",
    "    \"usia\": \"#\"\n",
    "}, np.NaN)\n",
    "df"
   ]
  },
  {
   "cell_type": "code",
   "execution_count": 3,
   "metadata": {},
   "outputs": [
    {
     "data": {
      "text/html": "<div>\n<style scoped>\n    .dataframe tbody tr th:only-of-type {\n        vertical-align: middle;\n    }\n\n    .dataframe tbody tr th {\n        vertical-align: top;\n    }\n\n    .dataframe thead th {\n        text-align: right;\n    }\n</style>\n<table border=\"1\" class=\"dataframe\">\n  <thead>\n    <tr style=\"text-align: right;\">\n      <th></th>\n      <th>nilai</th>\n    </tr>\n    <tr>\n      <th>nama</th>\n      <th></th>\n    </tr>\n  </thead>\n  <tbody>\n    <tr>\n      <th>Andi</th>\n      <td>92</td>\n    </tr>\n    <tr>\n      <th>Budi</th>\n      <td>95</td>\n    </tr>\n  </tbody>\n</table>\n</div>",
      "text/plain": "      nilai\nnama       \nAndi     92\nBudi     95"
     },
     "execution_count": 3,
     "metadata": {},
     "output_type": "execute_result"
    }
   ],
   "source": [
    "df=pd.DataFrame([\n",
    "    {'nama':'Andi', 'nilai' :90},\n",
    "    {'nama':'Andi', 'nilai' :91},\n",
    "    {'nama':'Andi', 'nilai' :92},\n",
    "    {'nama':'Budi', 'nilai' :93},\n",
    "    {'nama':'Budi', 'nilai' :94},\n",
    "    {'nama':'Budi', 'nilai' :95}\n",
    "])\n",
    "df\n",
    "dfGroup=df.groupby('nama')\n",
    "dfGroup.get_group('Budi')\n",
    "dfGroup.groups.keys()\n",
    "dfGroup.mean()\n",
    "dfGroup.max()"
   ]
  },
  {
   "cell_type": "code",
   "execution_count": 4,
   "metadata": {},
   "outputs": [
    {
     "name": "stdout",
     "output_type": "stream",
     "text": "<pandas.core.groupby.generic.DataFrameGroupBy object at 0x00000211A571A0D0>\n   nama  fisika  biologi\n3  Budi      93       83\n4  Budi      94       84\n5  Budi      95       95\ndict_keys(['Andi', 'Budi'])\n      fisika    biologi\nnama                   \nAndi    91.0  81.000000\nBudi    94.0  87.333333\n      fisika  biologi\nnama                 \nAndi      92       82\nBudi      95       95\n92\n92\n"
    }
   ],
   "source": [
    "df=pd.DataFrame([\n",
    "    {'nama':'Andi', 'fisika' :90, 'biologi':80},\n",
    "    {'nama':'Andi', 'fisika' :91,'biologi':81},\n",
    "    {'nama':'Andi', 'fisika' :92,'biologi':82},\n",
    "    {'nama':'Budi', 'fisika' :93,'biologi':83},\n",
    "    {'nama':'Budi', 'fisika' :94,'biologi':84},\n",
    "    {'nama':'Budi', 'fisika' :95,'biologi':95}\n",
    "])\n",
    "df\n",
    "dfGroup=df.groupby('nama')\n",
    "print(dfGroup)\n",
    "print(dfGroup.get_group('Budi'))\n",
    "print(dfGroup.groups.keys())\n",
    "print(dfGroup.mean())\n",
    "print(dfGroup.max())\n",
    "\n",
    "print(df[df['nama'] == 'Andi']['fisika'].max())\n",
    "print(dfGroup.get_group('Andi')['fisika'].max())"
   ]
  },
  {
   "cell_type": "code",
   "execution_count": 5,
   "metadata": {},
   "outputs": [
    {
     "name": "stdout",
     "output_type": "stream",
     "text": "<class 'pandas.core.indexes.multi.MultiIndex'>\nMultiIndex([('mata pelajaran',     'fisika'),\n            ('mata pelajaran',    'biologi'),\n            ('mata pelajaran', 'matematika'),\n            ('mata pelajaran',   'olahraga')],\n           )\n"
    },
    {
     "ename": "NameError",
     "evalue": "name 'df3' is not defined",
     "output_type": "error",
     "traceback": [
      "\u001b[1;31m---------------------------------------------------------------------------\u001b[0m",
      "\u001b[1;31mNameError\u001b[0m                                 Traceback (most recent call last)",
      "\u001b[1;32m<ipython-input-5-df96f722d1f7>\u001b[0m in \u001b[0;36m<module>\u001b[1;34m\u001b[0m\n\u001b[0;32m     23\u001b[0m \u001b[0mprint\u001b[0m\u001b[1;33m(\u001b[0m\u001b[0mmultindex\u001b[0m\u001b[1;33m)\u001b[0m\u001b[1;33m\u001b[0m\u001b[1;33m\u001b[0m\u001b[0m\n\u001b[0;32m     24\u001b[0m \u001b[1;33m\u001b[0m\u001b[0m\n\u001b[1;32m---> 25\u001b[1;33m \u001b[0mnew_df\u001b[0m\u001b[1;33m=\u001b[0m\u001b[0mpd\u001b[0m\u001b[1;33m.\u001b[0m\u001b[0mconcat\u001b[0m\u001b[1;33m(\u001b[0m\u001b[1;33m[\u001b[0m\u001b[0mdf1\u001b[0m\u001b[1;33m,\u001b[0m\u001b[0mdf2\u001b[0m\u001b[1;33m,\u001b[0m\u001b[0mdf3\u001b[0m\u001b[1;33m]\u001b[0m\u001b[1;33m,\u001b[0m \u001b[0mignore_index\u001b[0m\u001b[1;33m=\u001b[0m\u001b[1;32mTrue\u001b[0m\u001b[1;33m,\u001b[0m \u001b[0msort\u001b[0m\u001b[1;33m=\u001b[0m\u001b[1;32mFalse\u001b[0m\u001b[1;33m,\u001b[0m \u001b[0maxis\u001b[0m\u001b[1;33m=\u001b[0m\u001b[1;36m0\u001b[0m\u001b[1;33m)\u001b[0m\u001b[1;33m\u001b[0m\u001b[1;33m\u001b[0m\u001b[0m\n\u001b[0m\u001b[0;32m     26\u001b[0m \u001b[0mprint\u001b[0m\u001b[1;33m(\u001b[0m\u001b[1;34m\"new_df\\n\"\u001b[0m\u001b[1;33m,\u001b[0m \u001b[0mnew_df\u001b[0m\u001b[1;33m)\u001b[0m\u001b[1;33m\u001b[0m\u001b[1;33m\u001b[0m\u001b[0m\n\u001b[0;32m     27\u001b[0m \u001b[0mnew_df_merge\u001b[0m\u001b[1;33m=\u001b[0m\u001b[0mpd\u001b[0m\u001b[1;33m.\u001b[0m\u001b[0mmerge\u001b[0m\u001b[1;33m(\u001b[0m\u001b[0mdf1\u001b[0m\u001b[1;33m,\u001b[0m\u001b[0mdf2\u001b[0m\u001b[1;33m,\u001b[0m \u001b[0mhow\u001b[0m\u001b[1;33m=\u001b[0m\u001b[1;34m'outer'\u001b[0m\u001b[1;33m,\u001b[0m \u001b[0mon\u001b[0m\u001b[1;33m=\u001b[0m\u001b[1;34m'nama'\u001b[0m\u001b[1;33m)\u001b[0m\u001b[1;33m\u001b[0m\u001b[1;33m\u001b[0m\u001b[0m\n",
      "\u001b[1;31mNameError\u001b[0m: name 'df3' is not defined"
     ]
    }
   ],
   "source": [
    "df1=pd.DataFrame([\n",
    "    {'nama':'Andi', 'fisika' :90, 'biologi':80},\n",
    "    {'nama':'Budi', 'fisika' :91,'biologi':81},\n",
    "    {'nama':'Caca', 'fisika' :92,'biologi':82}\n",
    "])\n",
    "df2=pd.DataFrame([\n",
    "    {'nama':'Doni', 'fisika' :90, 'biologi':80, 'matematika': 70},\n",
    "    {'nama':'Ella', 'fisika' :91,'biologi':81},\n",
    "    {'nama':'Andi', 'kimia' :92,'olah raga':82}\n",
    "])\n",
    "\n",
    "'''\n",
    "df3=pd.DataFrame([\n",
    "    {'nama':'Doni', 'kimia' :90, 'agama':80, 'mulok': 70},\n",
    "    {'nama':'Ella', 'kimia' :91,'agama':81},\n",
    "    {'nama':'Fira', 'kimia' :92,'agama':82}\n",
    "])\n",
    "'''\n",
    "\n",
    "arr=[['mata pelajaran'],['fisika','biologi','matematika','olahraga']]\n",
    "multindex=pd.MultiIndex.from_product(arr)\n",
    "print(type(multindex))\n",
    "print(multindex)\n",
    "\n",
    "new_df=pd.concat([df1,df2,df3], ignore_index=True, sort=False, axis=0)\n",
    "print(\"new_df\\n\", new_df)\n",
    "new_df_merge=pd.merge(df1,df2, how='outer', on='nama')\n",
    "new_df_merge\n"
   ]
  },
  {
   "cell_type": "markdown",
   "execution_count": null,
   "metadata": {},
   "outputs": [],
   "source": [
    "## Multiindex and pivot"
   ]
  },
  {
   "cell_type": "code",
   "execution_count": 0,
   "metadata": {},
   "outputs": [],
   "source": [
    "kamus=[\n",
    "    {'nomor':1, 'nama':'Andi', 'fisika': 90, 'biologi': 78},\n",
    "    {'nomor':2, 'nama':'Andi', 'fisika': 91, 'biologi': 77},\n",
    "    {'nomor':3, 'nama':'Andi', 'fisika': 92, 'biologi': 76},\n",
    "    {'nomor':1, 'nama':'Budi', 'fisika': 93, 'biologi': 75},\n",
    "    {'nomor':2, 'nama':'Budi', 'fisika': 95, 'biologi': 74},\n",
    "    {'nomor':3, 'nama':'Budi', 'fisika': 90, 'biologi': 73},\n",
    "]\n",
    "df=pd.DataFrame(kamus)\n",
    "print(df)\n",
    "new_df1=df.pivot(index='nama', columns='nomor')\n",
    "new_df2=df.pivot(index='nomor', columns='nama')\n",
    "print(\"new_df1\")\n",
    "print(new_df1)\n",
    "print(\"new_df2\")\n",
    "print(new_df2)\n",
    "print(new_df.columns)\n",
    "print('''\n",
    "\n",
    "\n",
    "''')\n",
    "new_df2['fisika','Andi'][1]"
   ]
  },
  {
   "cell_type": "code",
   "execution_count": 0,
   "metadata": {},
   "outputs": [],
   "source": [
    "df=pd.DataFrame({\n",
    "    # 'mata pelajaran': ['biologi', 'biologi', 'matematika', 'matematika'],\n",
    "    # 'nama': ['andi', 'budi', 'andi', 'budi'],\n",
    "    'nilai1': [90,91,72,71],\n",
    "    'nilai2': [65,66,67,68]\n",
    "}, index=[['biologi', 'biologi', 'matematika', 'matematika'],['andi', 'budi', 'andi', 'budi']])\n",
    "df"
   ]
  },
  {
   "cell_type": "code",
   "execution_count": 0,
   "metadata": {},
   "outputs": [],
   "source": [
    "df=pd.DataFrame({\n",
    "    'mapel': ['biologi', 'biologi', 'biologi', 'fisika', 'fisika', 'fisika'],\n",
    "    'test': [1,2,3,1,2,3],\n",
    "    'Andi': [70,80,90,76,78,98],\n",
    "    'Budi': [67,76,54,45,67,89]\n",
    "})\n",
    "print(df)\n",
    "df=df.set_index(['test','mapel'])\n",
    "print(df)\n",
    "df=df.unstack() #=> biar si dataframe itu jadi single index\n",
    "print(df)\n",
    "print(\"\\nswap level\")\n",
    "df=df.swaplevel(0,1,1).sort_index(1)\n",
    "print(df)\n",
    "df.columns"
   ]
  },
  {
   "cell_type": "code",
   "execution_count": 0,
   "metadata": {},
   "outputs": [],
   "source": [
    "df1=pd.DataFrame([\n",
    "    {'nama':'Andi', 'fisika' :90, 'biologi':80},\n",
    "    {'nama':'Budi', 'fisika' :91,'biologi':81},\n",
    "    {'nama':'Caca', 'fisika' :92,'biologi':82}\n",
    "])\n",
    "df2=pd.DataFrame([\n",
    "    {'nama':'Doni', 'fisika' :90, 'biologi':80, 'matematika': 70},\n",
    "    {'nama':'Ella', 'fisika' :91,'biologi':81},\n",
    "    {'nama':'Andi', 'kimia' :92,'olah raga':82}\n",
    "])\n",
    "df=pd.concat([df1,df2], sort=False, keys=['satu', 'dua'])\n",
    "print(df.index)\n",
    "print(df.columns)\n",
    "print(df)"
   ]
  },
  {
   "cell_type": "markdown",
   "execution_count": 113,
   "metadata": {},
   "outputs": [
    {
     "ename": "SyntaxError",
     "evalue": "invalid syntax (<ipython-input-113-b908baae1f3e>, line 1)",
     "output_type": "error",
     "traceback": [
      "\u001b[1;36m  File \u001b[1;32m\"<ipython-input-113-b908baae1f3e>\"\u001b[1;36m, line \u001b[1;32m1\u001b[0m\n\u001b[1;33m    1. data BPS, baca sebagai multi index\u001b[0m\n\u001b[1;37m       ^\u001b[0m\n\u001b[1;31mSyntaxError\u001b[0m\u001b[1;31m:\u001b[0m invalid syntax\n"
     ]
    }
   ],
   "source": [
    "# PR\n",
    "1. data BPS, baca sebagai multi index, kerjain tugas2nya\n",
    "2. pd.melt\n",
    "3. pd.crosstab\n",
    "4. pd.read_sql => membaca query\n",
    "4. pd_read_sql_table => membaca table langsung"
   ]
  },
  {
   "cell_type": "code",
   "execution_count": 128,
   "metadata": {},
   "outputs": [
    {
     "name": "stdout",
     "output_type": "stream",
     "text": "MultiIndex([('Unnamed: 0_level_0', 'Unnamed: 0_level_1'),\n            (         'Tepi Laut',                 2003),\n            (         'Tepi Laut',                 2005),\n            (         'Tepi Laut',                 2008),\n            (         'Tepi Laut',                 2011),\n            (         'Tepi Laut',                 2014),\n            (         'Tepi Laut',                 2018),\n            (   'Bukan Tepi Laut',                 2003),\n            (   'Bukan Tepi Laut',                 2005),\n            (   'Bukan Tepi Laut',                 2008),\n            (   'Bukan Tepi Laut',                 2011),\n            (   'Bukan Tepi Laut',                 2014),\n            (   'Bukan Tepi Laut',                 2018)],\n           )\n===========menampilakan desa terbanyak=================\nArea        Tepi Laut Bukan Tepi Laut total\nTahun            2018            2018      \nProvinsi                                   \nJAWA TENGAH       355            8204  8559\n\nArea        Tepi Laut Bukan Tepi Laut   total\nTahun            2003            2003        \nProvinsi                                     \nJAWA TENGAH     334.0          8221.0  8555.0\n\nArea        Tepi Laut Bukan Tepi Laut   total\nTahun            2005            2005        \nProvinsi                                     \nJAWA TENGAH     334.0          8230.0  8564.0\n\nArea        Tepi Laut Bukan Tepi Laut   total\nTahun            2008            2008        \nProvinsi                                     \nJAWA TENGAH     329.0          8245.0  8574.0\n\nArea        Tepi Laut Bukan Tepi Laut   total\nTahun            2011            2011        \nProvinsi                                     \nJAWA TENGAH     347.0          8230.0  8577.0\n\nArea        Tepi Laut Bukan Tepi Laut total\nTahun            2014            2014      \nProvinsi                                   \nJAWA TENGAH       357            8221  8578\n\n===========menampilakan desa tersedikit=================\nArea        Tepi Laut Bukan Tepi Laut total\nTahun            2018            2018      \nProvinsi                                   \nDKI JAKARTA        15             252   267\n\nArea        Tepi Laut Bukan Tepi Laut  total\nTahun            2003            2003       \nProvinsi                                    \nDKI JAKARTA      16.0           251.0  267.0\n\nArea        Tepi Laut Bukan Tepi Laut  total\nTahun            2005            2005       \nProvinsi                                    \nDKI JAKARTA      16.0           251.0  267.0\n\nArea        Tepi Laut Bukan Tepi Laut  total\nTahun            2008            2008       \nProvinsi                                    \nDKI JAKARTA      15.0           252.0  267.0\n\nArea        Tepi Laut Bukan Tepi Laut  total\nTahun            2011            2011       \nProvinsi                                    \nDKI JAKARTA      16.0           251.0  267.0\n\nArea        Tepi Laut Bukan Tepi Laut total\nTahun            2014            2014      \nProvinsi                                   \nDKI JAKARTA        16             251   267\n\n\n\n\n\n\n<ipython-input-128-47ac89498a5f>:20: SettingWithCopyWarning: \nA value is trying to be set on a copy of a slice from a DataFrame.\nTry using .loc[row_indexer,col_indexer] = value instead\n\nSee the caveats in the documentation: http://pandas.pydata.org/pandas-docs/stable/user_guide/indexing.html#returning-a-view-versus-a-copy\n  new_df['total']=df[('Tepi Laut', j)] + df[('Bukan Tepi Laut', j)]\n<ipython-input-128-47ac89498a5f>:27: SettingWithCopyWarning: \nA value is trying to be set on a copy of a slice from a DataFrame.\nTry using .loc[row_indexer,col_indexer] = value instead\n\nSee the caveats in the documentation: http://pandas.pydata.org/pandas-docs/stable/user_guide/indexing.html#returning-a-view-versus-a-copy\n  new_df['total']=df[('Tepi Laut', j)] + df[('Bukan Tepi Laut', j)]\n"
    },
    {
     "data": {
      "text/html": "<div>\n<style scoped>\n    .dataframe tbody tr th:only-of-type {\n        vertical-align: middle;\n    }\n\n    .dataframe tbody tr th {\n        vertical-align: top;\n    }\n\n    .dataframe thead tr th {\n        text-align: left;\n    }\n\n    .dataframe thead tr:last-of-type th {\n        text-align: right;\n    }\n</style>\n<table border=\"1\" class=\"dataframe\">\n  <thead>\n    <tr>\n      <th>Area</th>\n      <th colspan=\"6\" halign=\"left\">Tepi Laut</th>\n      <th colspan=\"6\" halign=\"left\">Bukan Tepi Laut</th>\n    </tr>\n    <tr>\n      <th>Tahun</th>\n      <th>2003</th>\n      <th>2005</th>\n      <th>2008</th>\n      <th>2011</th>\n      <th>2014</th>\n      <th>2018</th>\n      <th>2003</th>\n      <th>2005</th>\n      <th>2008</th>\n      <th>2011</th>\n      <th>2014</th>\n      <th>2018</th>\n    </tr>\n    <tr>\n      <th>Provinsi</th>\n      <th></th>\n      <th></th>\n      <th></th>\n      <th></th>\n      <th></th>\n      <th></th>\n      <th></th>\n      <th></th>\n      <th></th>\n      <th></th>\n      <th></th>\n      <th></th>\n    </tr>\n  </thead>\n  <tbody>\n    <tr>\n      <th>ACEH</th>\n      <td>507.0</td>\n      <td>660.0</td>\n      <td>678.0</td>\n      <td>761.0</td>\n      <td>748</td>\n      <td>723</td>\n      <td>5229.0</td>\n      <td>5308.0</td>\n      <td>5746.0</td>\n      <td>5722.0</td>\n      <td>5764</td>\n      <td>5785</td>\n    </tr>\n    <tr>\n      <th>SUMATERA UTARA</th>\n      <td>336.0</td>\n      <td>175.0</td>\n      <td>375.0</td>\n      <td>396.0</td>\n      <td>459</td>\n      <td>423</td>\n      <td>5043.0</td>\n      <td>4740.0</td>\n      <td>5392.0</td>\n      <td>5401.0</td>\n      <td>5645</td>\n      <td>5709</td>\n    </tr>\n    <tr>\n      <th>SUMATERA BARAT</th>\n      <td>80.0</td>\n      <td>99.0</td>\n      <td>102.0</td>\n      <td>116.0</td>\n      <td>127</td>\n      <td>132</td>\n      <td>795.0</td>\n      <td>802.0</td>\n      <td>822.0</td>\n      <td>917.0</td>\n      <td>1018</td>\n      <td>1143</td>\n    </tr>\n    <tr>\n      <th>RIAU</th>\n      <td>346.0</td>\n      <td>406.0</td>\n      <td>186.0</td>\n      <td>232.0</td>\n      <td>271</td>\n      <td>254</td>\n      <td>1279.0</td>\n      <td>1326.0</td>\n      <td>1418.0</td>\n      <td>1423.0</td>\n      <td>1564</td>\n      <td>1621</td>\n    </tr>\n    <tr>\n      <th>JAMBI</th>\n      <td>28.0</td>\n      <td>28.0</td>\n      <td>28.0</td>\n      <td>29.0</td>\n      <td>30</td>\n      <td>28</td>\n      <td>1161.0</td>\n      <td>1207.0</td>\n      <td>1275.0</td>\n      <td>1343.0</td>\n      <td>1521</td>\n      <td>1534</td>\n    </tr>\n    <tr>\n      <th>SUMATERA SELATAN</th>\n      <td>16.0</td>\n      <td>19.0</td>\n      <td>22.0</td>\n      <td>34.0</td>\n      <td>29</td>\n      <td>25</td>\n      <td>2691.0</td>\n      <td>2759.0</td>\n      <td>3057.0</td>\n      <td>3152.0</td>\n      <td>3208</td>\n      <td>3237</td>\n    </tr>\n    <tr>\n      <th>BENGKULU</th>\n      <td>134.0</td>\n      <td>157.0</td>\n      <td>166.0</td>\n      <td>182.0</td>\n      <td>186</td>\n      <td>184</td>\n      <td>1029.0</td>\n      <td>1067.0</td>\n      <td>1185.0</td>\n      <td>1327.0</td>\n      <td>1346</td>\n      <td>1330</td>\n    </tr>\n    <tr>\n      <th>LAMPUNG</th>\n      <td>170.0</td>\n      <td>186.0</td>\n      <td>203.0</td>\n      <td>231.0</td>\n      <td>241</td>\n      <td>231</td>\n      <td>1958.0</td>\n      <td>2005.0</td>\n      <td>2136.0</td>\n      <td>2233.0</td>\n      <td>2391</td>\n      <td>2423</td>\n    </tr>\n    <tr>\n      <th>KEP. BANGKA BELITUNG</th>\n      <td>122.0</td>\n      <td>105.0</td>\n      <td>137.0</td>\n      <td>163.0</td>\n      <td>166</td>\n      <td>160</td>\n      <td>195.0</td>\n      <td>216.0</td>\n      <td>207.0</td>\n      <td>198.0</td>\n      <td>215</td>\n      <td>231</td>\n    </tr>\n    <tr>\n      <th>KEP. RIAU</th>\n      <td>NaN</td>\n      <td>NaN</td>\n      <td>267.0</td>\n      <td>299.0</td>\n      <td>361</td>\n      <td>355</td>\n      <td>NaN</td>\n      <td>NaN</td>\n      <td>59.0</td>\n      <td>54.0</td>\n      <td>54</td>\n      <td>61</td>\n    </tr>\n    <tr>\n      <th>DKI JAKARTA</th>\n      <td>16.0</td>\n      <td>16.0</td>\n      <td>15.0</td>\n      <td>16.0</td>\n      <td>16</td>\n      <td>15</td>\n      <td>251.0</td>\n      <td>251.0</td>\n      <td>252.0</td>\n      <td>251.0</td>\n      <td>251</td>\n      <td>252</td>\n    </tr>\n    <tr>\n      <th>JAWA BARAT</th>\n      <td>219.0</td>\n      <td>193.0</td>\n      <td>217.0</td>\n      <td>217.0</td>\n      <td>227</td>\n      <td>221</td>\n      <td>5539.0</td>\n      <td>5615.0</td>\n      <td>5654.0</td>\n      <td>5688.0</td>\n      <td>5735</td>\n      <td>5736</td>\n    </tr>\n    <tr>\n      <th>JAWA TENGAH</th>\n      <td>334.0</td>\n      <td>334.0</td>\n      <td>329.0</td>\n      <td>347.0</td>\n      <td>357</td>\n      <td>355</td>\n      <td>8221.0</td>\n      <td>8230.0</td>\n      <td>8245.0</td>\n      <td>8230.0</td>\n      <td>8221</td>\n      <td>8204</td>\n    </tr>\n    <tr>\n      <th>DI YOGYAKARTA</th>\n      <td>30.0</td>\n      <td>32.0</td>\n      <td>33.0</td>\n      <td>33.0</td>\n      <td>33</td>\n      <td>33</td>\n      <td>408.0</td>\n      <td>406.0</td>\n      <td>405.0</td>\n      <td>405.0</td>\n      <td>405</td>\n      <td>405</td>\n    </tr>\n    <tr>\n      <th>JAWA TIMUR</th>\n      <td>567.0</td>\n      <td>571.0</td>\n      <td>611.0</td>\n      <td>655.0</td>\n      <td>678</td>\n      <td>655</td>\n      <td>7898.0</td>\n      <td>7906.0</td>\n      <td>7894.0</td>\n      <td>7847.0</td>\n      <td>7824</td>\n      <td>7841</td>\n    </tr>\n    <tr>\n      <th>BANTEN</th>\n      <td>114.0</td>\n      <td>123.0</td>\n      <td>124.0</td>\n      <td>131.0</td>\n      <td>135</td>\n      <td>133</td>\n      <td>1365.0</td>\n      <td>1359.0</td>\n      <td>1380.0</td>\n      <td>1404.0</td>\n      <td>1416</td>\n      <td>1419</td>\n    </tr>\n    <tr>\n      <th>BALI</th>\n      <td>150.0</td>\n      <td>156.0</td>\n      <td>167.0</td>\n      <td>177.0</td>\n      <td>175</td>\n      <td>175</td>\n      <td>536.0</td>\n      <td>545.0</td>\n      <td>545.0</td>\n      <td>539.0</td>\n      <td>541</td>\n      <td>541</td>\n    </tr>\n    <tr>\n      <th>NUSA TENGGARA BARAT</th>\n      <td>183.0</td>\n      <td>184.0</td>\n      <td>241.0</td>\n      <td>279.0</td>\n      <td>301</td>\n      <td>297</td>\n      <td>555.0</td>\n      <td>636.0</td>\n      <td>672.0</td>\n      <td>805.0</td>\n      <td>840</td>\n      <td>846</td>\n    </tr>\n    <tr>\n      <th>NUSA TENGGARA TIMUR</th>\n      <td>768.0</td>\n      <td>815.0</td>\n      <td>841.0</td>\n      <td>943.0</td>\n      <td>1011</td>\n      <td>1018</td>\n      <td>1782.0</td>\n      <td>1923.0</td>\n      <td>1962.0</td>\n      <td>2023.0</td>\n      <td>2259</td>\n      <td>2335</td>\n    </tr>\n    <tr>\n      <th>KALIMANTAN BARAT</th>\n      <td>130.0</td>\n      <td>138.0</td>\n      <td>153.0</td>\n      <td>163.0</td>\n      <td>161</td>\n      <td>158</td>\n      <td>1309.0</td>\n      <td>1392.0</td>\n      <td>1638.0</td>\n      <td>1804.0</td>\n      <td>1948</td>\n      <td>1979</td>\n    </tr>\n    <tr>\n      <th>KALIMANTAN TENGAH</th>\n      <td>40.0</td>\n      <td>34.0</td>\n      <td>41.0</td>\n      <td>45.0</td>\n      <td>44</td>\n      <td>45</td>\n      <td>1290.0</td>\n      <td>1317.0</td>\n      <td>1407.0</td>\n      <td>1483.0</td>\n      <td>1525</td>\n      <td>1531</td>\n    </tr>\n    <tr>\n      <th>KALIMANTAN SELATAN</th>\n      <td>135.0</td>\n      <td>131.0</td>\n      <td>135.0</td>\n      <td>166.0</td>\n      <td>165</td>\n      <td>165</td>\n      <td>1814.0</td>\n      <td>1828.0</td>\n      <td>1839.0</td>\n      <td>1834.0</td>\n      <td>1843</td>\n      <td>1843</td>\n    </tr>\n    <tr>\n      <th>KALIMANTAN TIMUR</th>\n      <td>131.0</td>\n      <td>168.0</td>\n      <td>179.0</td>\n      <td>218.0</td>\n      <td>175</td>\n      <td>156</td>\n      <td>1168.0</td>\n      <td>1176.0</td>\n      <td>1238.0</td>\n      <td>1247.0</td>\n      <td>851</td>\n      <td>882</td>\n    </tr>\n    <tr>\n      <th>KALIMANTAN UTARA</th>\n      <td>NaN</td>\n      <td>NaN</td>\n      <td>NaN</td>\n      <td>NaN</td>\n      <td>55</td>\n      <td>56</td>\n      <td>NaN</td>\n      <td>NaN</td>\n      <td>NaN</td>\n      <td>NaN</td>\n      <td>424</td>\n      <td>426</td>\n    </tr>\n    <tr>\n      <th>SULAWESI UTARA</th>\n      <td>456.0</td>\n      <td>509.0</td>\n      <td>627.0</td>\n      <td>721.0</td>\n      <td>778</td>\n      <td>783</td>\n      <td>740.0</td>\n      <td>760.0</td>\n      <td>867.0</td>\n      <td>972.0</td>\n      <td>1058</td>\n      <td>1055</td>\n    </tr>\n    <tr>\n      <th>SULAWESI TENGAH</th>\n      <td>684.0</td>\n      <td>770.0</td>\n      <td>839.0</td>\n      <td>901.0</td>\n      <td>1021</td>\n      <td>1011</td>\n      <td>756.0</td>\n      <td>760.0</td>\n      <td>847.0</td>\n      <td>914.0</td>\n      <td>965</td>\n      <td>1009</td>\n    </tr>\n    <tr>\n      <th>SULAWESI SELATAN</th>\n      <td>547.0</td>\n      <td>547.0</td>\n      <td>485.0</td>\n      <td>504.0</td>\n      <td>531</td>\n      <td>527</td>\n      <td>2537.0</td>\n      <td>2739.0</td>\n      <td>2461.0</td>\n      <td>2478.0</td>\n      <td>2499</td>\n      <td>2522</td>\n    </tr>\n    <tr>\n      <th>SULAWESI TENGGARA</th>\n      <td>590.0</td>\n      <td>658.0</td>\n      <td>771.0</td>\n      <td>813.0</td>\n      <td>947</td>\n      <td>954</td>\n      <td>974.0</td>\n      <td>1027.0</td>\n      <td>1257.0</td>\n      <td>1308.0</td>\n      <td>1325</td>\n      <td>1400</td>\n    </tr>\n    <tr>\n      <th>GORONTALO</th>\n      <td>82.0</td>\n      <td>110.0</td>\n      <td>136.0</td>\n      <td>191.0</td>\n      <td>203</td>\n      <td>201</td>\n      <td>294.0</td>\n      <td>340.0</td>\n      <td>448.0</td>\n      <td>540.0</td>\n      <td>533</td>\n      <td>533</td>\n    </tr>\n    <tr>\n      <th>SULAWESI BARAT</th>\n      <td>NaN</td>\n      <td>NaN</td>\n      <td>122.0</td>\n      <td>148.0</td>\n      <td>152</td>\n      <td>152</td>\n      <td>NaN</td>\n      <td>NaN</td>\n      <td>414.0</td>\n      <td>490.0</td>\n      <td>496</td>\n      <td>498</td>\n    </tr>\n    <tr>\n      <th>MALUKU</th>\n      <td>708.0</td>\n      <td>733.0</td>\n      <td>772.0</td>\n      <td>859.0</td>\n      <td>914</td>\n      <td>1064</td>\n      <td>128.0</td>\n      <td>140.0</td>\n      <td>134.0</td>\n      <td>165.0</td>\n      <td>174</td>\n      <td>176</td>\n    </tr>\n    <tr>\n      <th>MALUKU UTARA</th>\n      <td>551.0</td>\n      <td>568.0</td>\n      <td>772.0</td>\n      <td>856.0</td>\n      <td>941</td>\n      <td>934</td>\n      <td>190.0</td>\n      <td>213.0</td>\n      <td>264.0</td>\n      <td>223.0</td>\n      <td>255</td>\n      <td>262</td>\n    </tr>\n    <tr>\n      <th>PAPUA BARAT</th>\n      <td>NaN</td>\n      <td>NaN</td>\n      <td>416.0</td>\n      <td>536.0</td>\n      <td>543</td>\n      <td>572</td>\n      <td>NaN</td>\n      <td>NaN</td>\n      <td>789.0</td>\n      <td>903.0</td>\n      <td>1024</td>\n      <td>1415</td>\n    </tr>\n    <tr>\n      <th>PAPUA</th>\n      <td>846.0</td>\n      <td>827.0</td>\n      <td>474.0</td>\n      <td>522.0</td>\n      <td>646</td>\n      <td>662</td>\n      <td>2661.0</td>\n      <td>2512.0</td>\n      <td>2837.0</td>\n      <td>3402.0</td>\n      <td>4225</td>\n      <td>4890</td>\n    </tr>\n  </tbody>\n</table>\n</div>",
      "text/plain": "Area                 Tepi Laut                                   \\\nTahun                     2003   2005   2008   2011  2014  2018   \nProvinsi                                                          \nACEH                     507.0  660.0  678.0  761.0   748   723   \nSUMATERA UTARA           336.0  175.0  375.0  396.0   459   423   \nSUMATERA BARAT            80.0   99.0  102.0  116.0   127   132   \nRIAU                     346.0  406.0  186.0  232.0   271   254   \nJAMBI                     28.0   28.0   28.0   29.0    30    28   \nSUMATERA SELATAN          16.0   19.0   22.0   34.0    29    25   \nBENGKULU                 134.0  157.0  166.0  182.0   186   184   \nLAMPUNG                  170.0  186.0  203.0  231.0   241   231   \nKEP. BANGKA BELITUNG     122.0  105.0  137.0  163.0   166   160   \nKEP. RIAU                  NaN    NaN  267.0  299.0   361   355   \nDKI JAKARTA               16.0   16.0   15.0   16.0    16    15   \nJAWA BARAT               219.0  193.0  217.0  217.0   227   221   \nJAWA TENGAH              334.0  334.0  329.0  347.0   357   355   \nDI YOGYAKARTA             30.0   32.0   33.0   33.0    33    33   \nJAWA TIMUR               567.0  571.0  611.0  655.0   678   655   \nBANTEN                   114.0  123.0  124.0  131.0   135   133   \nBALI                     150.0  156.0  167.0  177.0   175   175   \nNUSA TENGGARA BARAT      183.0  184.0  241.0  279.0   301   297   \nNUSA TENGGARA TIMUR      768.0  815.0  841.0  943.0  1011  1018   \nKALIMANTAN BARAT         130.0  138.0  153.0  163.0   161   158   \nKALIMANTAN TENGAH         40.0   34.0   41.0   45.0    44    45   \nKALIMANTAN SELATAN       135.0  131.0  135.0  166.0   165   165   \nKALIMANTAN TIMUR         131.0  168.0  179.0  218.0   175   156   \nKALIMANTAN UTARA           NaN    NaN    NaN    NaN    55    56   \nSULAWESI UTARA           456.0  509.0  627.0  721.0   778   783   \nSULAWESI TENGAH          684.0  770.0  839.0  901.0  1021  1011   \nSULAWESI SELATAN         547.0  547.0  485.0  504.0   531   527   \nSULAWESI TENGGARA        590.0  658.0  771.0  813.0   947   954   \nGORONTALO                 82.0  110.0  136.0  191.0   203   201   \nSULAWESI BARAT             NaN    NaN  122.0  148.0   152   152   \nMALUKU                   708.0  733.0  772.0  859.0   914  1064   \nMALUKU UTARA             551.0  568.0  772.0  856.0   941   934   \nPAPUA BARAT                NaN    NaN  416.0  536.0   543   572   \nPAPUA                    846.0  827.0  474.0  522.0   646   662   \n\nArea                 Bukan Tepi Laut                                      \nTahun                           2003    2005    2008    2011  2014  2018  \nProvinsi                                                                  \nACEH                          5229.0  5308.0  5746.0  5722.0  5764  5785  \nSUMATERA UTARA                5043.0  4740.0  5392.0  5401.0  5645  5709  \nSUMATERA BARAT                 795.0   802.0   822.0   917.0  1018  1143  \nRIAU                          1279.0  1326.0  1418.0  1423.0  1564  1621  \nJAMBI                         1161.0  1207.0  1275.0  1343.0  1521  1534  \nSUMATERA SELATAN              2691.0  2759.0  3057.0  3152.0  3208  3237  \nBENGKULU                      1029.0  1067.0  1185.0  1327.0  1346  1330  \nLAMPUNG                       1958.0  2005.0  2136.0  2233.0  2391  2423  \nKEP. BANGKA BELITUNG           195.0   216.0   207.0   198.0   215   231  \nKEP. RIAU                        NaN     NaN    59.0    54.0    54    61  \nDKI JAKARTA                    251.0   251.0   252.0   251.0   251   252  \nJAWA BARAT                    5539.0  5615.0  5654.0  5688.0  5735  5736  \nJAWA TENGAH                   8221.0  8230.0  8245.0  8230.0  8221  8204  \nDI YOGYAKARTA                  408.0   406.0   405.0   405.0   405   405  \nJAWA TIMUR                    7898.0  7906.0  7894.0  7847.0  7824  7841  \nBANTEN                        1365.0  1359.0  1380.0  1404.0  1416  1419  \nBALI                           536.0   545.0   545.0   539.0   541   541  \nNUSA TENGGARA BARAT            555.0   636.0   672.0   805.0   840   846  \nNUSA TENGGARA TIMUR           1782.0  1923.0  1962.0  2023.0  2259  2335  \nKALIMANTAN BARAT              1309.0  1392.0  1638.0  1804.0  1948  1979  \nKALIMANTAN TENGAH             1290.0  1317.0  1407.0  1483.0  1525  1531  \nKALIMANTAN SELATAN            1814.0  1828.0  1839.0  1834.0  1843  1843  \nKALIMANTAN TIMUR              1168.0  1176.0  1238.0  1247.0   851   882  \nKALIMANTAN UTARA                 NaN     NaN     NaN     NaN   424   426  \nSULAWESI UTARA                 740.0   760.0   867.0   972.0  1058  1055  \nSULAWESI TENGAH                756.0   760.0   847.0   914.0   965  1009  \nSULAWESI SELATAN              2537.0  2739.0  2461.0  2478.0  2499  2522  \nSULAWESI TENGGARA              974.0  1027.0  1257.0  1308.0  1325  1400  \nGORONTALO                      294.0   340.0   448.0   540.0   533   533  \nSULAWESI BARAT                   NaN     NaN   414.0   490.0   496   498  \nMALUKU                         128.0   140.0   134.0   165.0   174   176  \nMALUKU UTARA                   190.0   213.0   264.0   223.0   255   262  \nPAPUA BARAT                      NaN     NaN   789.0   903.0  1024  1415  \nPAPUA                         2661.0  2512.0  2837.0  3402.0  4225  4890  "
     },
     "execution_count": 128,
     "metadata": {},
     "output_type": "execute_result"
    }
   ],
   "source": [
    "df=pd.read_excel('misc/bps_file.xlsx', header=[2,3], skipfooter=1, na_values=['-'])\n",
    "print(df.columns)\n",
    "# df.rename(columns={'Unnamed: 0_level_0':\"\", 'Unnamed: 0_level_1': \"Provinsi\"}, inplace=True)\n",
    "# df.set_index((\"\",\"Provinsi\"),inplace=True)\n",
    "df.set_index(('Unnamed: 0_level_0', 'Unnamed: 0_level_1'), inplace=True)\n",
    "# df.rename(index={'(, Provinsi)': 'Provinsi'}, inplace=True)\n",
    "df.index.names=['Provinsi']\n",
    "df.columns.names=['Area','Tahun']\n",
    "# new_df=df[[('Tepi Laut', 2003),('Bukan Tepi Laut', 2003)]]\n",
    "# new_df['total']=df[('Tepi Laut', 2003)] + df[('Bukan Tepi Laut', 2003)]\n",
    "# new_df[new_df['total'] == new_df['total'].max()]\n",
    "arr=[]\n",
    "for i in df.columns:\n",
    "    arr.append(i[1])\n",
    "arr.sort()\n",
    "arr=set(arr)\n",
    "print(\"===========menampilakan desa terbanyak=================\")\n",
    "for j in arr:\n",
    "    new_df=df[[('Tepi Laut', j),('Bukan Tepi Laut', j)]]\n",
    "    new_df['total']=df[('Tepi Laut', j)] + df[('Bukan Tepi Laut', j)]\n",
    "    print(new_df[new_df['total'] == new_df['total'].max()])\n",
    "    print(\"\")\n",
    "\n",
    "print(\"===========menampilakan desa tersedikit=================\")\n",
    "for j in arr:\n",
    "    new_df=df[[('Tepi Laut', j),('Bukan Tepi Laut', j)]]\n",
    "    new_df['total']=df[('Tepi Laut', j)] + df[('Bukan Tepi Laut', j)]\n",
    "    print(new_df[new_df['total'] == new_df['total'].min()])\n",
    "    print(\"\")\n",
    "\n",
    "\n",
    "print('''\n",
    "\n",
    "\n",
    "\n",
    "''')\n",
    "df"
   ]
  },
  {
   "cell_type": "code",
   "execution_count": 129,
   "metadata": {},
   "outputs": [
    {
     "data": {
      "text/html": "<div>\n<style scoped>\n    .dataframe tbody tr th:only-of-type {\n        vertical-align: middle;\n    }\n\n    .dataframe tbody tr th {\n        vertical-align: top;\n    }\n\n    .dataframe thead tr th {\n        text-align: left;\n    }\n</style>\n<table border=\"1\" class=\"dataframe\">\n  <thead>\n    <tr>\n      <th>Area</th>\n      <th colspan=\"6\" halign=\"left\">Tepi Laut</th>\n      <th colspan=\"6\" halign=\"left\">Bukan Tepi Laut</th>\n    </tr>\n    <tr>\n      <th>Tahun</th>\n      <th>2003</th>\n      <th>2005</th>\n      <th>2008</th>\n      <th>2011</th>\n      <th>2014</th>\n      <th>2018</th>\n      <th>2003</th>\n      <th>2005</th>\n      <th>2008</th>\n      <th>2011</th>\n      <th>2014</th>\n      <th>2018</th>\n    </tr>\n  </thead>\n  <tbody>\n    <tr>\n      <th>count</th>\n      <td>30.000000</td>\n      <td>30.000000</td>\n      <td>33.000000</td>\n      <td>33.000000</td>\n      <td>34.000000</td>\n      <td>34.000000</td>\n      <td>30.000000</td>\n      <td>30.000000</td>\n      <td>33.000000</td>\n      <td>33.000000</td>\n      <td>34.000000</td>\n      <td>34.000000</td>\n    </tr>\n    <tr>\n      <th>mean</th>\n      <td>300.666667</td>\n      <td>315.066667</td>\n      <td>323.151515</td>\n      <td>360.121212</td>\n      <td>377.264706</td>\n      <td>378.147059</td>\n      <td>1993.200000</td>\n      <td>2016.833333</td>\n      <td>1962.000000</td>\n      <td>2021.969697</td>\n      <td>2040.088235</td>\n      <td>2090.411765</td>\n    </tr>\n    <tr>\n      <th>std</th>\n      <td>255.430041</td>\n      <td>272.511934</td>\n      <td>269.435535</td>\n      <td>294.773192</td>\n      <td>325.065803</td>\n      <td>333.856722</td>\n      <td>2194.354235</td>\n      <td>2182.446809</td>\n      <td>2176.117443</td>\n      <td>2167.101326</td>\n      <td>2183.049068</td>\n      <td>2201.595085</td>\n    </tr>\n    <tr>\n      <th>min</th>\n      <td>16.000000</td>\n      <td>16.000000</td>\n      <td>15.000000</td>\n      <td>16.000000</td>\n      <td>16.000000</td>\n      <td>15.000000</td>\n      <td>128.000000</td>\n      <td>140.000000</td>\n      <td>59.000000</td>\n      <td>54.000000</td>\n      <td>54.000000</td>\n      <td>61.000000</td>\n    </tr>\n    <tr>\n      <th>25%</th>\n      <td>116.000000</td>\n      <td>113.250000</td>\n      <td>135.000000</td>\n      <td>163.000000</td>\n      <td>154.250000</td>\n      <td>153.000000</td>\n      <td>601.250000</td>\n      <td>667.000000</td>\n      <td>545.000000</td>\n      <td>540.000000</td>\n      <td>535.000000</td>\n      <td>535.000000</td>\n    </tr>\n    <tr>\n      <th>50%</th>\n      <td>176.500000</td>\n      <td>179.500000</td>\n      <td>203.000000</td>\n      <td>231.000000</td>\n      <td>234.000000</td>\n      <td>226.000000</td>\n      <td>1223.500000</td>\n      <td>1262.000000</td>\n      <td>1257.000000</td>\n      <td>1327.000000</td>\n      <td>1335.500000</td>\n      <td>1407.500000</td>\n    </tr>\n    <tr>\n      <th>75%</th>\n      <td>537.000000</td>\n      <td>562.750000</td>\n      <td>485.000000</td>\n      <td>536.000000</td>\n      <td>620.250000</td>\n      <td>634.250000</td>\n      <td>2392.250000</td>\n      <td>2385.250000</td>\n      <td>2136.000000</td>\n      <td>2233.000000</td>\n      <td>2358.000000</td>\n      <td>2401.000000</td>\n    </tr>\n    <tr>\n      <th>max</th>\n      <td>846.000000</td>\n      <td>827.000000</td>\n      <td>841.000000</td>\n      <td>943.000000</td>\n      <td>1021.000000</td>\n      <td>1064.000000</td>\n      <td>8221.000000</td>\n      <td>8230.000000</td>\n      <td>8245.000000</td>\n      <td>8230.000000</td>\n      <td>8221.000000</td>\n      <td>8204.000000</td>\n    </tr>\n  </tbody>\n</table>\n</div>",
      "text/plain": "Area    Tepi Laut                                                   \\\nTahun        2003        2005        2008        2011         2014   \ncount   30.000000   30.000000   33.000000   33.000000    34.000000   \nmean   300.666667  315.066667  323.151515  360.121212   377.264706   \nstd    255.430041  272.511934  269.435535  294.773192   325.065803   \nmin     16.000000   16.000000   15.000000   16.000000    16.000000   \n25%    116.000000  113.250000  135.000000  163.000000   154.250000   \n50%    176.500000  179.500000  203.000000  231.000000   234.000000   \n75%    537.000000  562.750000  485.000000  536.000000   620.250000   \nmax    846.000000  827.000000  841.000000  943.000000  1021.000000   \n\nArea               Bukan Tepi Laut                                         \\\nTahun         2018            2003         2005         2008         2011   \ncount    34.000000       30.000000    30.000000    33.000000    33.000000   \nmean    378.147059     1993.200000  2016.833333  1962.000000  2021.969697   \nstd     333.856722     2194.354235  2182.446809  2176.117443  2167.101326   \nmin      15.000000      128.000000   140.000000    59.000000    54.000000   \n25%     153.000000      601.250000   667.000000   545.000000   540.000000   \n50%     226.000000     1223.500000  1262.000000  1257.000000  1327.000000   \n75%     634.250000     2392.250000  2385.250000  2136.000000  2233.000000   \nmax    1064.000000     8221.000000  8230.000000  8245.000000  8230.000000   \n\nArea                             \nTahun         2014         2018  \ncount    34.000000    34.000000  \nmean   2040.088235  2090.411765  \nstd    2183.049068  2201.595085  \nmin      54.000000    61.000000  \n25%     535.000000   535.000000  \n50%    1335.500000  1407.500000  \n75%    2358.000000  2401.000000  \nmax    8221.000000  8204.000000  "
     },
     "execution_count": 129,
     "metadata": {},
     "output_type": "execute_result"
    }
   ],
   "source": [
    "df.describe()"
   ]
  },
  {
   "cell_type": "code",
   "execution_count": 130,
   "metadata": {},
   "outputs": [
    {
     "name": "stdout",
     "output_type": "stream",
     "text": "<class 'pandas.core.frame.DataFrame'>\nIndex: 34 entries, ACEH to PAPUA\nData columns (total 12 columns):\n(Tepi Laut, 2003)          30 non-null float64\n(Tepi Laut, 2005)          30 non-null float64\n(Tepi Laut, 2008)          33 non-null float64\n(Tepi Laut, 2011)          33 non-null float64\n(Tepi Laut, 2014)          34 non-null int64\n(Tepi Laut, 2018)          34 non-null int64\n(Bukan Tepi Laut, 2003)    30 non-null float64\n(Bukan Tepi Laut, 2005)    30 non-null float64\n(Bukan Tepi Laut, 2008)    33 non-null float64\n(Bukan Tepi Laut, 2011)    33 non-null float64\n(Bukan Tepi Laut, 2014)    34 non-null int64\n(Bukan Tepi Laut, 2018)    34 non-null int64\ndtypes: float64(8), int64(4)\nmemory usage: 4.7+ KB\n"
    }
   ],
   "source": [
    "df.info()"
   ]
  },
  {
   "cell_type": "code",
   "execution_count": null,
   "metadata": {},
   "outputs": [],
   "source": []
  }
 ]
}