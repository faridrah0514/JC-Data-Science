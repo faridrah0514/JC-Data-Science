{
 "nbformat": 4,
 "nbformat_minor": 2,
 "metadata": {
  "language_info": {
   "name": "python",
   "codemirror_mode": {
    "name": "ipython",
    "version": 3
   },
   "version": "3.8.0"
  },
  "orig_nbformat": 2,
  "file_extension": ".py",
  "mimetype": "text/x-python",
  "name": "python",
  "npconvert_exporter": "python",
  "pygments_lexer": "ipython3",
  "version": 3
 },
 "cells": [
  {
   "cell_type": "code",
   "execution_count": 2,
   "metadata": {},
   "outputs": [],
   "source": [
    "import pandas as pd\n",
    "import numpy as np"
   ]
  },
  {
   "cell_type": "markdown",
   "execution_count": null,
   "metadata": {},
   "outputs": [],
   "source": [
    "## From CSV to DataFrame"
   ]
  },
  {
   "cell_type": "code",
   "execution_count": 3,
   "metadata": {},
   "outputs": [
    {
     "data": {
      "text/plain": "(17007, 18)"
     },
     "execution_count": 3,
     "metadata": {},
     "output_type": "execute_result"
    }
   ],
   "source": [
    "import csv\n",
    "import pandas as pd\n",
    "\n",
    "csv_file = open('misc/appstore_games.csv', 'r')\n",
    "reader=list(csv.reader(csv_file))\n",
    "df = pd.DataFrame(reader[1:], columns=reader[0])\n",
    "df.shape"
   ]
  },
  {
   "cell_type": "markdown",
   "execution_count": null,
   "metadata": {},
   "outputs": [],
   "source": [
    "## From XLSX to DataFrame"
   ]
  },
  {
   "cell_type": "code",
   "execution_count": 4,
   "metadata": {},
   "outputs": [
    {
     "data": {
      "text/html": "<div>\n<style scoped>\n    .dataframe tbody tr th:only-of-type {\n        vertical-align: middle;\n    }\n\n    .dataframe tbody tr th {\n        vertical-align: top;\n    }\n\n    .dataframe thead th {\n        text-align: right;\n    }\n</style>\n<table border=\"1\" class=\"dataframe\">\n  <thead>\n    <tr style=\"text-align: right;\">\n      <th></th>\n      <th>URL</th>\n      <th>ID</th>\n      <th>Name</th>\n      <th>Subtitle</th>\n      <th>Icon URL</th>\n      <th>Average User Rating</th>\n      <th>User Rating Count</th>\n      <th>Price</th>\n      <th>In-app Purchases</th>\n      <th>Description</th>\n      <th>Developer</th>\n      <th>Age Rating</th>\n      <th>Languages</th>\n      <th>Size</th>\n      <th>Primary Genre</th>\n      <th>Genres</th>\n      <th>Original Release Date</th>\n      <th>Current Version Release Date</th>\n    </tr>\n  </thead>\n  <tbody>\n    <tr>\n      <th>0</th>\n      <td>https://apps.apple.com/us/app/sudoku/id284921427</td>\n      <td>2.849214e+08</td>\n      <td>Sudoku</td>\n      <td></td>\n      <td>https://is2-ssl.mzstatic.com/image/thumb/Purpl...</td>\n      <td>4</td>\n      <td>3553</td>\n      <td>2.99</td>\n      <td></td>\n      <td>Join over 21,000,000 of our fans and download ...</td>\n      <td>Mighty Mighty Good Games</td>\n      <td>4+</td>\n      <td>DA, NL, EN, FI, FR, DE, IT, JA, KO, NB, PL, PT...</td>\n      <td>1.58536e+07</td>\n      <td>Games</td>\n      <td>Games, Strategy, Puzzle</td>\n      <td>39640</td>\n      <td>42885</td>\n    </tr>\n    <tr>\n      <th>1</th>\n      <td>https://apps.apple.com/us/app/reversi/id284926400</td>\n      <td>2.849264e+08</td>\n      <td>Reversi</td>\n      <td></td>\n      <td>https://is4-ssl.mzstatic.com/image/thumb/Purpl...</td>\n      <td>3.5</td>\n      <td>284</td>\n      <td>1.99</td>\n      <td></td>\n      <td>The classic game of Reversi, also known as Oth...</td>\n      <td>Kiss The Machine</td>\n      <td>4+</td>\n      <td>EN</td>\n      <td>1.2329e+07</td>\n      <td>Games</td>\n      <td>Games, Strategy, Board</td>\n      <td>39640</td>\n      <td>43237</td>\n    </tr>\n    <tr>\n      <th>2</th>\n      <td>https://apps.apple.com/us/app/morocco/id284946595</td>\n      <td>2.849466e+08</td>\n      <td>Morocco</td>\n      <td></td>\n      <td>https://is5-ssl.mzstatic.com/image/thumb/Purpl...</td>\n      <td>3</td>\n      <td>8376</td>\n      <td>0</td>\n      <td></td>\n      <td>Play the classic strategy game Othello (also k...</td>\n      <td>Bayou Games</td>\n      <td>4+</td>\n      <td>EN</td>\n      <td>674816</td>\n      <td>Games</td>\n      <td>Games, Board, Strategy</td>\n      <td>39640</td>\n      <td>42983</td>\n    </tr>\n    <tr>\n      <th>3</th>\n      <td>https://apps.apple.com/us/app/sudoku-free/id28...</td>\n      <td>2.857555e+08</td>\n      <td>Sudoku (Free)</td>\n      <td></td>\n      <td>https://is3-ssl.mzstatic.com/image/thumb/Purpl...</td>\n      <td>3.5</td>\n      <td>190394</td>\n      <td>0</td>\n      <td></td>\n      <td>Top 100 free app for over a year.\\nRated \"Best...</td>\n      <td>Mighty Mighty Good Games</td>\n      <td>4+</td>\n      <td>DA, NL, EN, FI, FR, DE, IT, JA, KO, NB, PL, PT...</td>\n      <td>2.15521e+07</td>\n      <td>Games</td>\n      <td>Games, Strategy, Puzzle</td>\n      <td>39652</td>\n      <td>42885</td>\n    </tr>\n    <tr>\n      <th>4</th>\n      <td>https://apps.apple.com/us/app/senet-deluxe/id2...</td>\n      <td>2.858312e+08</td>\n      <td>Senet Deluxe</td>\n      <td></td>\n      <td>https://is1-ssl.mzstatic.com/image/thumb/Purpl...</td>\n      <td>3.5</td>\n      <td>28</td>\n      <td>2.99</td>\n      <td></td>\n      <td>\"Senet Deluxe - The Ancient Game of Life and A...</td>\n      <td>RoGame Software</td>\n      <td>4+</td>\n      <td>DA, NL, EN, FR, DE, EL, IT, JA, KO, NO, PT, RU...</td>\n      <td>3.4689e+07</td>\n      <td>Games</td>\n      <td>Games, Strategy, Board, Education</td>\n      <td>39647</td>\n      <td>43303</td>\n    </tr>\n    <tr>\n      <th>...</th>\n      <td>...</td>\n      <td>...</td>\n      <td>...</td>\n      <td>...</td>\n      <td>...</td>\n      <td>...</td>\n      <td>...</td>\n      <td>...</td>\n      <td>...</td>\n      <td>...</td>\n      <td>...</td>\n      <td>...</td>\n      <td>...</td>\n      <td>...</td>\n      <td>...</td>\n      <td>...</td>\n      <td>...</td>\n      <td>...</td>\n    </tr>\n    <tr>\n      <th>17002</th>\n      <td>https://apps.apple.com/us/app/stack-puzzle-ris...</td>\n      <td>1.474626e+09</td>\n      <td>Stack Puzzle : Rise Tower</td>\n      <td>Blast the cubes, solve puzzle!</td>\n      <td>https://is5-ssl.mzstatic.com/image/thumb/Purpl...</td>\n      <td></td>\n      <td></td>\n      <td>0</td>\n      <td></td>\n      <td>The goal is very simple, move the square horiz...</td>\n      <td>Zhigang Pei</td>\n      <td>4+</td>\n      <td>EN</td>\n      <td>6.47956e+07</td>\n      <td>Games</td>\n      <td>Games, Entertainment, Casual, Strategy</td>\n      <td>43676</td>\n      <td>43676</td>\n    </tr>\n    <tr>\n      <th>17003</th>\n      <td>https://apps.apple.com/us/app/eachother/id1474...</td>\n      <td>1.474919e+09</td>\n      <td>EachOther</td>\n      <td></td>\n      <td>https://is2-ssl.mzstatic.com/image/thumb/Purpl...</td>\n      <td></td>\n      <td></td>\n      <td>0</td>\n      <td></td>\n      <td>Collect a score while you play!!\\n\\nBy linking...</td>\n      <td>Sultan Shindi</td>\n      <td>4+</td>\n      <td>EN</td>\n      <td>1.10341e+08</td>\n      <td>Games</td>\n      <td>Games, Family, Strategy</td>\n      <td>43678</td>\n      <td>43678</td>\n    </tr>\n    <tr>\n      <th>17004</th>\n      <td>https://apps.apple.com/us/app/rabbit-vs-tortoi...</td>\n      <td>1.474962e+09</td>\n      <td>Rabbit Vs Tortoise</td>\n      <td></td>\n      <td>https://is2-ssl.mzstatic.com/image/thumb/Purpl...</td>\n      <td></td>\n      <td></td>\n      <td>0</td>\n      <td></td>\n      <td>\"Rabbit Vs Tortoise is chess type cool simple ...</td>\n      <td>Vishal Baldha</td>\n      <td>4+</td>\n      <td>EN</td>\n      <td>2.32079e+07</td>\n      <td>Games</td>\n      <td>Games, Strategy</td>\n      <td>43680</td>\n      <td>43680</td>\n    </tr>\n    <tr>\n      <th>17005</th>\n      <td>https://apps.apple.com/us/app/fatall/id1474963671</td>\n      <td>1.474964e+09</td>\n      <td>FaTaLL</td>\n      <td>Most fun game!!!</td>\n      <td>https://is1-ssl.mzstatic.com/image/thumb/Purpl...</td>\n      <td></td>\n      <td></td>\n      <td>0</td>\n      <td>9.99, 49.99, 3.99</td>\n      <td>Upgrade your character and use your skills to ...</td>\n      <td>Tayrem Games</td>\n      <td>4+</td>\n      <td>EN</td>\n      <td>1.9675e+08</td>\n      <td>Games</td>\n      <td>Games, Strategy, Action</td>\n      <td>43678</td>\n      <td>43678</td>\n    </tr>\n    <tr>\n      <th>17006</th>\n      <td>https://apps.apple.com/us/app/the-three-kingdo...</td>\n      <td>1.475077e+09</td>\n      <td>The Three Kingdoms :Bomb</td>\n      <td></td>\n      <td>https://is1-ssl.mzstatic.com/image/thumb/Purpl...</td>\n      <td></td>\n      <td></td>\n      <td>0</td>\n      <td></td>\n      <td>The protagonist uses the method of placing a b...</td>\n      <td>ming bo tang</td>\n      <td>4+</td>\n      <td>EN, ZH</td>\n      <td>2.2953e+07</td>\n      <td>Games</td>\n      <td>Games, Strategy, Puzzle</td>\n      <td>43679</td>\n      <td>43679</td>\n    </tr>\n  </tbody>\n</table>\n<p>17007 rows × 18 columns</p>\n</div>",
      "text/plain": "                                                     URL            ID  \\\n0       https://apps.apple.com/us/app/sudoku/id284921427  2.849214e+08   \n1      https://apps.apple.com/us/app/reversi/id284926400  2.849264e+08   \n2      https://apps.apple.com/us/app/morocco/id284946595  2.849466e+08   \n3      https://apps.apple.com/us/app/sudoku-free/id28...  2.857555e+08   \n4      https://apps.apple.com/us/app/senet-deluxe/id2...  2.858312e+08   \n...                                                  ...           ...   \n17002  https://apps.apple.com/us/app/stack-puzzle-ris...  1.474626e+09   \n17003  https://apps.apple.com/us/app/eachother/id1474...  1.474919e+09   \n17004  https://apps.apple.com/us/app/rabbit-vs-tortoi...  1.474962e+09   \n17005  https://apps.apple.com/us/app/fatall/id1474963671  1.474964e+09   \n17006  https://apps.apple.com/us/app/the-three-kingdo...  1.475077e+09   \n\n                            Name                        Subtitle  \\\n0                         Sudoku                                   \n1                        Reversi                                   \n2                        Morocco                                   \n3                  Sudoku (Free)                                   \n4                   Senet Deluxe                                   \n...                          ...                             ...   \n17002  Stack Puzzle : Rise Tower  Blast the cubes, solve puzzle!   \n17003                  EachOther                                   \n17004         Rabbit Vs Tortoise                                   \n17005                     FaTaLL                Most fun game!!!   \n17006   The Three Kingdoms :Bomb                                   \n\n                                                Icon URL Average User Rating  \\\n0      https://is2-ssl.mzstatic.com/image/thumb/Purpl...                   4   \n1      https://is4-ssl.mzstatic.com/image/thumb/Purpl...                 3.5   \n2      https://is5-ssl.mzstatic.com/image/thumb/Purpl...                   3   \n3      https://is3-ssl.mzstatic.com/image/thumb/Purpl...                 3.5   \n4      https://is1-ssl.mzstatic.com/image/thumb/Purpl...                 3.5   \n...                                                  ...                 ...   \n17002  https://is5-ssl.mzstatic.com/image/thumb/Purpl...                       \n17003  https://is2-ssl.mzstatic.com/image/thumb/Purpl...                       \n17004  https://is2-ssl.mzstatic.com/image/thumb/Purpl...                       \n17005  https://is1-ssl.mzstatic.com/image/thumb/Purpl...                       \n17006  https://is1-ssl.mzstatic.com/image/thumb/Purpl...                       \n\n      User Rating Count Price   In-app Purchases  \\\n0                  3553  2.99                      \n1                   284  1.99                      \n2                  8376     0                      \n3                190394     0                      \n4                    28  2.99                      \n...                 ...   ...                ...   \n17002                       0                      \n17003                       0                      \n17004                       0                      \n17005                       0  9.99, 49.99, 3.99   \n17006                       0                      \n\n                                             Description  \\\n0      Join over 21,000,000 of our fans and download ...   \n1      The classic game of Reversi, also known as Oth...   \n2      Play the classic strategy game Othello (also k...   \n3      Top 100 free app for over a year.\\nRated \"Best...   \n4      \"Senet Deluxe - The Ancient Game of Life and A...   \n...                                                  ...   \n17002  The goal is very simple, move the square horiz...   \n17003  Collect a score while you play!!\\n\\nBy linking...   \n17004  \"Rabbit Vs Tortoise is chess type cool simple ...   \n17005  Upgrade your character and use your skills to ...   \n17006  The protagonist uses the method of placing a b...   \n\n                      Developer Age Rating  \\\n0      Mighty Mighty Good Games         4+   \n1              Kiss The Machine         4+   \n2                   Bayou Games         4+   \n3      Mighty Mighty Good Games         4+   \n4               RoGame Software         4+   \n...                         ...        ...   \n17002               Zhigang Pei         4+   \n17003             Sultan Shindi         4+   \n17004             Vishal Baldha         4+   \n17005              Tayrem Games         4+   \n17006              ming bo tang         4+   \n\n                                               Languages         Size  \\\n0      DA, NL, EN, FI, FR, DE, IT, JA, KO, NB, PL, PT...  1.58536e+07   \n1                                                     EN   1.2329e+07   \n2                                                     EN       674816   \n3      DA, NL, EN, FI, FR, DE, IT, JA, KO, NB, PL, PT...  2.15521e+07   \n4      DA, NL, EN, FR, DE, EL, IT, JA, KO, NO, PT, RU...   3.4689e+07   \n...                                                  ...          ...   \n17002                                                 EN  6.47956e+07   \n17003                                                 EN  1.10341e+08   \n17004                                                 EN  2.32079e+07   \n17005                                                 EN   1.9675e+08   \n17006                                             EN, ZH   2.2953e+07   \n\n      Primary Genre                                  Genres  \\\n0             Games                 Games, Strategy, Puzzle   \n1             Games                  Games, Strategy, Board   \n2             Games                  Games, Board, Strategy   \n3             Games                 Games, Strategy, Puzzle   \n4             Games       Games, Strategy, Board, Education   \n...             ...                                     ...   \n17002         Games  Games, Entertainment, Casual, Strategy   \n17003         Games                 Games, Family, Strategy   \n17004         Games                         Games, Strategy   \n17005         Games                 Games, Strategy, Action   \n17006         Games                 Games, Strategy, Puzzle   \n\n      Original Release Date Current Version Release Date  \n0                     39640                        42885  \n1                     39640                        43237  \n2                     39640                        42983  \n3                     39652                        42885  \n4                     39647                        43303  \n...                     ...                          ...  \n17002                 43676                        43676  \n17003                 43678                        43678  \n17004                 43680                        43680  \n17005                 43678                        43678  \n17006                 43679                        43679  \n\n[17007 rows x 18 columns]"
     },
     "execution_count": 4,
     "metadata": {},
     "output_type": "execute_result"
    }
   ],
   "source": [
    "import xlrd\n",
    "\n",
    "myxls=xlrd.open_workbook(filename='misc/appstore_games.xlsx')\n",
    "sheet=myxls.sheet_by_name('appstore_games')\n",
    "header=sheet.row_values(0)[:18]\n",
    "# print(header)\n",
    "data=[]\n",
    "for i in range(1,sheet.nrows):\n",
    "    data.append(sheet.row_values(i)[:18])\n",
    "\n",
    "df2=pd.DataFrame(data, columns=header)\n",
    "df2"
   ]
  },
  {
   "cell_type": "markdown",
   "execution_count": null,
   "metadata": {},
   "outputs": [],
   "source": [
    "## From JSON to DataFrame"
   ]
  },
  {
   "cell_type": "code",
   "execution_count": 5,
   "metadata": {},
   "outputs": [
    {
     "data": {
      "text/html": "<div>\n<style scoped>\n    .dataframe tbody tr th:only-of-type {\n        vertical-align: middle;\n    }\n\n    .dataframe tbody tr th {\n        vertical-align: top;\n    }\n\n    .dataframe thead th {\n        text-align: right;\n    }\n</style>\n<table border=\"1\" class=\"dataframe\">\n  <thead>\n    <tr style=\"text-align: right;\">\n      <th></th>\n      <th>sepalLength</th>\n      <th>sepalWidth</th>\n      <th>petalLength</th>\n      <th>petalWidth</th>\n      <th>species</th>\n    </tr>\n  </thead>\n  <tbody>\n    <tr>\n      <th>0</th>\n      <td>5.1</td>\n      <td>3.5</td>\n      <td>1.4</td>\n      <td>0.2</td>\n      <td>setosa</td>\n    </tr>\n    <tr>\n      <th>1</th>\n      <td>4.9</td>\n      <td>3.0</td>\n      <td>1.4</td>\n      <td>0.2</td>\n      <td>setosa</td>\n    </tr>\n    <tr>\n      <th>2</th>\n      <td>4.7</td>\n      <td>3.2</td>\n      <td>1.3</td>\n      <td>0.2</td>\n      <td>setosa</td>\n    </tr>\n    <tr>\n      <th>3</th>\n      <td>4.6</td>\n      <td>3.1</td>\n      <td>1.5</td>\n      <td>0.2</td>\n      <td>setosa</td>\n    </tr>\n    <tr>\n      <th>4</th>\n      <td>5.0</td>\n      <td>3.6</td>\n      <td>1.4</td>\n      <td>0.2</td>\n      <td>setosa</td>\n    </tr>\n    <tr>\n      <th>...</th>\n      <td>...</td>\n      <td>...</td>\n      <td>...</td>\n      <td>...</td>\n      <td>...</td>\n    </tr>\n    <tr>\n      <th>145</th>\n      <td>6.7</td>\n      <td>3.0</td>\n      <td>5.2</td>\n      <td>2.3</td>\n      <td>virginica</td>\n    </tr>\n    <tr>\n      <th>146</th>\n      <td>6.3</td>\n      <td>2.5</td>\n      <td>5.0</td>\n      <td>1.9</td>\n      <td>virginica</td>\n    </tr>\n    <tr>\n      <th>147</th>\n      <td>6.5</td>\n      <td>3.0</td>\n      <td>5.2</td>\n      <td>2.0</td>\n      <td>virginica</td>\n    </tr>\n    <tr>\n      <th>148</th>\n      <td>6.2</td>\n      <td>3.4</td>\n      <td>5.4</td>\n      <td>2.3</td>\n      <td>virginica</td>\n    </tr>\n    <tr>\n      <th>149</th>\n      <td>5.9</td>\n      <td>3.0</td>\n      <td>5.1</td>\n      <td>1.8</td>\n      <td>virginica</td>\n    </tr>\n  </tbody>\n</table>\n<p>150 rows × 5 columns</p>\n</div>",
      "text/plain": "     sepalLength  sepalWidth  petalLength  petalWidth    species\n0            5.1         3.5          1.4         0.2     setosa\n1            4.9         3.0          1.4         0.2     setosa\n2            4.7         3.2          1.3         0.2     setosa\n3            4.6         3.1          1.5         0.2     setosa\n4            5.0         3.6          1.4         0.2     setosa\n..           ...         ...          ...         ...        ...\n145          6.7         3.0          5.2         2.3  virginica\n146          6.3         2.5          5.0         1.9  virginica\n147          6.5         3.0          5.2         2.0  virginica\n148          6.2         3.4          5.4         2.3  virginica\n149          5.9         3.0          5.1         1.8  virginica\n\n[150 rows x 5 columns]"
     },
     "execution_count": 5,
     "metadata": {},
     "output_type": "execute_result"
    }
   ],
   "source": [
    "import json\n",
    "json_file=open('misc/iris.json', 'r')\n",
    "loader=json.load(json_file)\n",
    "df3=pd.DataFrame(loader)\n",
    "df3"
   ]
  },
  {
   "cell_type": "markdown",
   "execution_count": null,
   "metadata": {},
   "outputs": [],
   "source": [
    "## From MySQL to DataFrame"
   ]
  },
  {
   "cell_type": "code",
   "execution_count": 6,
   "metadata": {},
   "outputs": [
    {
     "data": {
      "text/html": "<div>\n<style scoped>\n    .dataframe tbody tr th:only-of-type {\n        vertical-align: middle;\n    }\n\n    .dataframe tbody tr th {\n        vertical-align: top;\n    }\n\n    .dataframe thead th {\n        text-align: right;\n    }\n</style>\n<table border=\"1\" class=\"dataframe\">\n  <thead>\n    <tr style=\"text-align: right;\">\n      <th></th>\n      <th>Code</th>\n      <th>Name</th>\n      <th>Continent</th>\n      <th>Region</th>\n      <th>SurfaceArea</th>\n      <th>IndepYear</th>\n      <th>Population</th>\n      <th>LifeExpectancy</th>\n      <th>GNP</th>\n      <th>GNPOld</th>\n      <th>LocalName</th>\n      <th>GovernmentForm</th>\n      <th>HeadOfState</th>\n      <th>Capital</th>\n      <th>Code2</th>\n    </tr>\n  </thead>\n  <tbody>\n    <tr>\n      <th>0</th>\n      <td>ABW</td>\n      <td>Aruba</td>\n      <td>North America</td>\n      <td>Caribbean</td>\n      <td>193.0</td>\n      <td>NaN</td>\n      <td>103000</td>\n      <td>78.4</td>\n      <td>828.0</td>\n      <td>793.0</td>\n      <td>Aruba</td>\n      <td>Nonmetropolitan Territory of The Netherlands</td>\n      <td>Beatrix</td>\n      <td>129.0</td>\n      <td>AW</td>\n    </tr>\n    <tr>\n      <th>1</th>\n      <td>AFG</td>\n      <td>Afghanistan</td>\n      <td>Asia</td>\n      <td>Southern and Central Asia</td>\n      <td>652090.0</td>\n      <td>1919.0</td>\n      <td>22720000</td>\n      <td>45.9</td>\n      <td>5976.0</td>\n      <td>NaN</td>\n      <td>Afganistan/Afqanestan</td>\n      <td>Islamic Emirate</td>\n      <td>Mohammad Omar</td>\n      <td>1.0</td>\n      <td>AF</td>\n    </tr>\n    <tr>\n      <th>2</th>\n      <td>AGO</td>\n      <td>Angola</td>\n      <td>Africa</td>\n      <td>Central Africa</td>\n      <td>1246700.0</td>\n      <td>1975.0</td>\n      <td>12878000</td>\n      <td>38.3</td>\n      <td>6648.0</td>\n      <td>7984.0</td>\n      <td>Angola</td>\n      <td>Republic</td>\n      <td>JosÃ© Eduardo dos Santos</td>\n      <td>56.0</td>\n      <td>AO</td>\n    </tr>\n    <tr>\n      <th>3</th>\n      <td>AIA</td>\n      <td>Anguilla</td>\n      <td>North America</td>\n      <td>Caribbean</td>\n      <td>96.0</td>\n      <td>NaN</td>\n      <td>8000</td>\n      <td>76.1</td>\n      <td>63.2</td>\n      <td>NaN</td>\n      <td>Anguilla</td>\n      <td>Dependent Territory of the UK</td>\n      <td>Elisabeth II</td>\n      <td>62.0</td>\n      <td>AI</td>\n    </tr>\n    <tr>\n      <th>4</th>\n      <td>ALB</td>\n      <td>Albania</td>\n      <td>Europe</td>\n      <td>Southern Europe</td>\n      <td>28748.0</td>\n      <td>1912.0</td>\n      <td>3401200</td>\n      <td>71.6</td>\n      <td>3205.0</td>\n      <td>2500.0</td>\n      <td>ShqipÃ«ria</td>\n      <td>Republic</td>\n      <td>Rexhep Mejdani</td>\n      <td>34.0</td>\n      <td>AL</td>\n    </tr>\n    <tr>\n      <th>...</th>\n      <td>...</td>\n      <td>...</td>\n      <td>...</td>\n      <td>...</td>\n      <td>...</td>\n      <td>...</td>\n      <td>...</td>\n      <td>...</td>\n      <td>...</td>\n      <td>...</td>\n      <td>...</td>\n      <td>...</td>\n      <td>...</td>\n      <td>...</td>\n      <td>...</td>\n    </tr>\n    <tr>\n      <th>234</th>\n      <td>YEM</td>\n      <td>Yemen</td>\n      <td>Asia</td>\n      <td>Middle East</td>\n      <td>527968.0</td>\n      <td>1918.0</td>\n      <td>18112000</td>\n      <td>59.8</td>\n      <td>6041.0</td>\n      <td>5729.0</td>\n      <td>Al-Yaman</td>\n      <td>Republic</td>\n      <td>Ali Abdallah Salih</td>\n      <td>1780.0</td>\n      <td>YE</td>\n    </tr>\n    <tr>\n      <th>235</th>\n      <td>YUG</td>\n      <td>Yugoslavia</td>\n      <td>Europe</td>\n      <td>Southern Europe</td>\n      <td>102173.0</td>\n      <td>1918.0</td>\n      <td>10640000</td>\n      <td>72.4</td>\n      <td>17000.0</td>\n      <td>NaN</td>\n      <td>Jugoslavija</td>\n      <td>Federal Republic</td>\n      <td>Vojislav KoÂštunica</td>\n      <td>1792.0</td>\n      <td>YU</td>\n    </tr>\n    <tr>\n      <th>236</th>\n      <td>ZAF</td>\n      <td>South Africa</td>\n      <td>Africa</td>\n      <td>Southern Africa</td>\n      <td>1221037.0</td>\n      <td>1910.0</td>\n      <td>40377000</td>\n      <td>51.1</td>\n      <td>116729.0</td>\n      <td>129092.0</td>\n      <td>South Africa</td>\n      <td>Republic</td>\n      <td>Thabo Mbeki</td>\n      <td>716.0</td>\n      <td>ZA</td>\n    </tr>\n    <tr>\n      <th>237</th>\n      <td>ZMB</td>\n      <td>Zambia</td>\n      <td>Africa</td>\n      <td>Eastern Africa</td>\n      <td>752618.0</td>\n      <td>1964.0</td>\n      <td>9169000</td>\n      <td>37.2</td>\n      <td>3377.0</td>\n      <td>3922.0</td>\n      <td>Zambia</td>\n      <td>Republic</td>\n      <td>Frederick Chiluba</td>\n      <td>3162.0</td>\n      <td>ZM</td>\n    </tr>\n    <tr>\n      <th>238</th>\n      <td>ZWE</td>\n      <td>Zimbabwe</td>\n      <td>Africa</td>\n      <td>Eastern Africa</td>\n      <td>390757.0</td>\n      <td>1980.0</td>\n      <td>11669000</td>\n      <td>37.8</td>\n      <td>5951.0</td>\n      <td>8670.0</td>\n      <td>Zimbabwe</td>\n      <td>Republic</td>\n      <td>Robert G. Mugabe</td>\n      <td>4068.0</td>\n      <td>ZW</td>\n    </tr>\n  </tbody>\n</table>\n<p>239 rows × 15 columns</p>\n</div>",
      "text/plain": "    Code          Name      Continent                     Region  SurfaceArea  \\\n0    ABW         Aruba  North America                  Caribbean        193.0   \n1    AFG   Afghanistan           Asia  Southern and Central Asia     652090.0   \n2    AGO        Angola         Africa             Central Africa    1246700.0   \n3    AIA      Anguilla  North America                  Caribbean         96.0   \n4    ALB       Albania         Europe            Southern Europe      28748.0   \n..   ...           ...            ...                        ...          ...   \n234  YEM         Yemen           Asia                Middle East     527968.0   \n235  YUG    Yugoslavia         Europe            Southern Europe     102173.0   \n236  ZAF  South Africa         Africa            Southern Africa    1221037.0   \n237  ZMB        Zambia         Africa             Eastern Africa     752618.0   \n238  ZWE      Zimbabwe         Africa             Eastern Africa     390757.0   \n\n     IndepYear  Population  LifeExpectancy       GNP    GNPOld  \\\n0          NaN      103000            78.4     828.0     793.0   \n1       1919.0    22720000            45.9    5976.0       NaN   \n2       1975.0    12878000            38.3    6648.0    7984.0   \n3          NaN        8000            76.1      63.2       NaN   \n4       1912.0     3401200            71.6    3205.0    2500.0   \n..         ...         ...             ...       ...       ...   \n234     1918.0    18112000            59.8    6041.0    5729.0   \n235     1918.0    10640000            72.4   17000.0       NaN   \n236     1910.0    40377000            51.1  116729.0  129092.0   \n237     1964.0     9169000            37.2    3377.0    3922.0   \n238     1980.0    11669000            37.8    5951.0    8670.0   \n\n                 LocalName                                GovernmentForm  \\\n0                    Aruba  Nonmetropolitan Territory of The Netherlands   \n1    Afganistan/Afqanestan                               Islamic Emirate   \n2                   Angola                                      Republic   \n3                 Anguilla                 Dependent Territory of the UK   \n4               ShqipÃ«ria                                      Republic   \n..                     ...                                           ...   \n234               Al-Yaman                                      Republic   \n235            Jugoslavija                              Federal Republic   \n236           South Africa                                      Republic   \n237                 Zambia                                      Republic   \n238               Zimbabwe                                      Republic   \n\n                  HeadOfState  Capital Code2  \n0                     Beatrix    129.0    AW  \n1               Mohammad Omar      1.0    AF  \n2    JosÃ© Eduardo dos Santos     56.0    AO  \n3                Elisabeth II     62.0    AI  \n4              Rexhep Mejdani     34.0    AL  \n..                        ...      ...   ...  \n234        Ali Abdallah Salih   1780.0    YE  \n235       Vojislav KoÂštunica   1792.0    YU  \n236               Thabo Mbeki    716.0    ZA  \n237         Frederick Chiluba   3162.0    ZM  \n238          Robert G. Mugabe   4068.0    ZW  \n\n[239 rows x 15 columns]"
     },
     "execution_count": 6,
     "metadata": {},
     "output_type": "execute_result"
    }
   ],
   "source": [
    "import mysql.connector\n",
    "dbdetail={\n",
    "    \"user\": \"admin\",\n",
    "    \"password\": \"admin\",\n",
    "    \"host\": \"localhost\",\n",
    "    \"database\": \"world\"\n",
    "}\n",
    "mydb=mysql.connector.connect(**dbdetail)\n",
    "cursor=mydb.cursor()\n",
    "cursor.execute(\"describe country\")\n",
    "header=cursor.fetchall()\n",
    "head=[]\n",
    "for i in header:\n",
    "    head.append(i[0])\n",
    "# print(head)\n",
    "cursor.execute(\"select * from country\")\n",
    "df4=cursor.fetchall()\n",
    "pd_df=pd.DataFrame(df4,columns=head)\n",
    "pd_df"
   ]
  },
  {
   "cell_type": "markdown",
   "execution_count": 7,
   "metadata": {},
   "outputs": [],
   "source": [
    "## from MongoDB to DataFrame"
   ]
  },
  {
   "cell_type": "code",
   "execution_count": 8,
   "metadata": {},
   "outputs": [
    {
     "data": {
      "text/html": "<div>\n<style scoped>\n    .dataframe tbody tr th:only-of-type {\n        vertical-align: middle;\n    }\n\n    .dataframe tbody tr th {\n        vertical-align: top;\n    }\n\n    .dataframe thead th {\n        text-align: right;\n    }\n</style>\n<table border=\"1\" class=\"dataframe\">\n  <thead>\n    <tr style=\"text-align: right;\">\n      <th></th>\n      <th>_id</th>\n      <th>address</th>\n      <th>borough</th>\n      <th>cuisine</th>\n      <th>grades</th>\n      <th>name</th>\n      <th>restaurant_id</th>\n    </tr>\n  </thead>\n  <tbody>\n    <tr>\n      <th>0</th>\n      <td>5ddc8eddf9d621c82c593187</td>\n      <td>{'building': '469', 'coord': [-73.961704, 40.6...</td>\n      <td>Brooklyn</td>\n      <td>Hamburgers</td>\n      <td>[{'date': 2014-12-30 00:00:00, 'grade': 'A', '...</td>\n      <td>Wendy'S</td>\n      <td>30112340</td>\n    </tr>\n    <tr>\n      <th>1</th>\n      <td>5ddc8eddf9d621c82c593188</td>\n      <td>{'building': '2780', 'coord': [-73.98241999999...</td>\n      <td>Brooklyn</td>\n      <td>American</td>\n      <td>[{'date': 2014-06-10 00:00:00, 'grade': 'A', '...</td>\n      <td>Riviera Caterer</td>\n      <td>40356018</td>\n    </tr>\n    <tr>\n      <th>2</th>\n      <td>5ddc8eddf9d621c82c593189</td>\n      <td>{'building': '351', 'coord': [-73.985135599999...</td>\n      <td>Manhattan</td>\n      <td>Irish</td>\n      <td>[{'date': 2014-09-06 00:00:00, 'grade': 'A', '...</td>\n      <td>Dj Reynolds Pub And Restaurant</td>\n      <td>30191841</td>\n    </tr>\n    <tr>\n      <th>3</th>\n      <td>5ddc8eddf9d621c82c59318a</td>\n      <td>{'building': '7114', 'coord': [-73.9068506, 40...</td>\n      <td>Brooklyn</td>\n      <td>Delicatessen</td>\n      <td>[{'date': 2014-05-29 00:00:00, 'grade': 'A', '...</td>\n      <td>Wilken'S Fine Food</td>\n      <td>40356483</td>\n    </tr>\n    <tr>\n      <th>4</th>\n      <td>5ddc8eddf9d621c82c59318b</td>\n      <td>{'building': '2206', 'coord': [-74.1377286, 40...</td>\n      <td>Staten Island</td>\n      <td>Jewish/Kosher</td>\n      <td>[{'date': 2014-10-06 00:00:00, 'grade': 'A', '...</td>\n      <td>Kosher Island</td>\n      <td>40356442</td>\n    </tr>\n    <tr>\n      <th>...</th>\n      <td>...</td>\n      <td>...</td>\n      <td>...</td>\n      <td>...</td>\n      <td>...</td>\n      <td>...</td>\n      <td>...</td>\n    </tr>\n    <tr>\n      <th>3767</th>\n      <td>5ddc8eddf9d621c82c59403e</td>\n      <td>{'building': '1412', 'coord': [-73.9866522, 40...</td>\n      <td>Manhattan</td>\n      <td>Sandwiches/Salads/Mixed Buffet</td>\n      <td>[{'date': 2014-04-16 00:00:00, 'grade': 'A', '...</td>\n      <td>Europa Cafe</td>\n      <td>40900039</td>\n    </tr>\n    <tr>\n      <th>3768</th>\n      <td>5ddc8eddf9d621c82c59403f</td>\n      <td>{'building': '108', 'coord': [-73.983943799999...</td>\n      <td>Manhattan</td>\n      <td>Japanese</td>\n      <td>[{'date': 2014-05-31 00:00:00, 'grade': 'A', '...</td>\n      <td>Sushi Zen</td>\n      <td>40899971</td>\n    </tr>\n    <tr>\n      <th>3769</th>\n      <td>5ddc8eddf9d621c82c594040</td>\n      <td>{'building': '145', 'coord': [-73.986544, 40.7...</td>\n      <td>Manhattan</td>\n      <td>Café/Coffee/Tea</td>\n      <td>[{'date': 2014-09-22 00:00:00, 'grade': 'A', '...</td>\n      <td>Starbucks Coffee</td>\n      <td>40899767</td>\n    </tr>\n    <tr>\n      <th>3770</th>\n      <td>5ddc8eddf9d621c82c594041</td>\n      <td>{'building': '8405', 'coord': [-74.02521709999...</td>\n      <td>Brooklyn</td>\n      <td>Chinese</td>\n      <td>[{'date': 2014-02-25 00:00:00, 'grade': 'A', '...</td>\n      <td>Chopstix Restaurant</td>\n      <td>40900694</td>\n    </tr>\n    <tr>\n      <th>3771</th>\n      <td>5ddc8eddf9d621c82c594042</td>\n      <td>{'building': '451', 'coord': [-73.9462238, 40....</td>\n      <td>Brooklyn</td>\n      <td>Café/Coffee/Tea</td>\n      <td>[{'date': 2014-04-14 00:00:00, 'grade': 'A', '...</td>\n      <td>Andy'S Cafeteria</td>\n      <td>40899816</td>\n    </tr>\n  </tbody>\n</table>\n<p>3772 rows × 7 columns</p>\n</div>",
      "text/plain": "                           _id  \\\n0     5ddc8eddf9d621c82c593187   \n1     5ddc8eddf9d621c82c593188   \n2     5ddc8eddf9d621c82c593189   \n3     5ddc8eddf9d621c82c59318a   \n4     5ddc8eddf9d621c82c59318b   \n...                        ...   \n3767  5ddc8eddf9d621c82c59403e   \n3768  5ddc8eddf9d621c82c59403f   \n3769  5ddc8eddf9d621c82c594040   \n3770  5ddc8eddf9d621c82c594041   \n3771  5ddc8eddf9d621c82c594042   \n\n                                                address        borough  \\\n0     {'building': '469', 'coord': [-73.961704, 40.6...       Brooklyn   \n1     {'building': '2780', 'coord': [-73.98241999999...       Brooklyn   \n2     {'building': '351', 'coord': [-73.985135599999...      Manhattan   \n3     {'building': '7114', 'coord': [-73.9068506, 40...       Brooklyn   \n4     {'building': '2206', 'coord': [-74.1377286, 40...  Staten Island   \n...                                                 ...            ...   \n3767  {'building': '1412', 'coord': [-73.9866522, 40...      Manhattan   \n3768  {'building': '108', 'coord': [-73.983943799999...      Manhattan   \n3769  {'building': '145', 'coord': [-73.986544, 40.7...      Manhattan   \n3770  {'building': '8405', 'coord': [-74.02521709999...       Brooklyn   \n3771  {'building': '451', 'coord': [-73.9462238, 40....       Brooklyn   \n\n                             cuisine  \\\n0                         Hamburgers   \n1                          American    \n2                              Irish   \n3                       Delicatessen   \n4                      Jewish/Kosher   \n...                              ...   \n3767  Sandwiches/Salads/Mixed Buffet   \n3768                        Japanese   \n3769                 Café/Coffee/Tea   \n3770                         Chinese   \n3771                 Café/Coffee/Tea   \n\n                                                 grades  \\\n0     [{'date': 2014-12-30 00:00:00, 'grade': 'A', '...   \n1     [{'date': 2014-06-10 00:00:00, 'grade': 'A', '...   \n2     [{'date': 2014-09-06 00:00:00, 'grade': 'A', '...   \n3     [{'date': 2014-05-29 00:00:00, 'grade': 'A', '...   \n4     [{'date': 2014-10-06 00:00:00, 'grade': 'A', '...   \n...                                                 ...   \n3767  [{'date': 2014-04-16 00:00:00, 'grade': 'A', '...   \n3768  [{'date': 2014-05-31 00:00:00, 'grade': 'A', '...   \n3769  [{'date': 2014-09-22 00:00:00, 'grade': 'A', '...   \n3770  [{'date': 2014-02-25 00:00:00, 'grade': 'A', '...   \n3771  [{'date': 2014-04-14 00:00:00, 'grade': 'A', '...   \n\n                                name restaurant_id  \n0                            Wendy'S      30112340  \n1                    Riviera Caterer      40356018  \n2     Dj Reynolds Pub And Restaurant      30191841  \n3                 Wilken'S Fine Food      40356483  \n4                      Kosher Island      40356442  \n...                              ...           ...  \n3767                     Europa Cafe      40900039  \n3768                       Sushi Zen      40899971  \n3769                Starbucks Coffee      40899767  \n3770             Chopstix Restaurant      40900694  \n3771                Andy'S Cafeteria      40899816  \n\n[3772 rows x 7 columns]"
     },
     "execution_count": 8,
     "metadata": {},
     "output_type": "execute_result"
    }
   ],
   "source": [
    "import pymongo\n",
    "myclient=pymongo.MongoClient(\"mongodb://localhost:27017\")\n",
    "mydb=myclient['resto']\n",
    "mycol=mydb['resto']\n",
    "data=list(mycol.find())\n",
    "pd_df2=pd.DataFrame(data)\n",
    "pd_df2"
   ]
  },
  {
   "cell_type": "code",
   "execution_count": null,
   "metadata": {},
   "outputs": [],
   "source": []
  }
 ]
}