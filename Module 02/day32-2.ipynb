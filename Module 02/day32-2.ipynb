{
 "nbformat": 4,
 "nbformat_minor": 2,
 "metadata": {
  "language_info": {
   "name": "python",
   "codemirror_mode": {
    "name": "ipython",
    "version": 3
   },
   "version": "3.7.5-final"
  },
  "orig_nbformat": 2,
  "file_extension": ".py",
  "mimetype": "text/x-python",
  "name": "python",
  "npconvert_exporter": "python",
  "pygments_lexer": "ipython3",
  "version": 3,
  "kernelspec": {
   "name": "python37564bit8fe7fded33bc485a88862f6279d285be",
   "display_name": "Python 3.7.5 64-bit"
  }
 },
 "cells": [
  {
   "cell_type": "markdown",
   "execution_count": null,
   "metadata": {},
   "outputs": [],
   "source": [
    "# Folium"
   ]
  },
  {
   "cell_type": "code",
   "execution_count": 1,
   "metadata": {},
   "outputs": [],
   "source": [
    "import folium"
   ]
  },
  {
   "cell_type": "code",
   "execution_count": 57,
   "metadata": {},
   "outputs": [
    {
     "data": {
      "text/html": "<div style=\"width:100%;\"><div style=\"position:relative;width:100%;height:0;padding-bottom:60%;\"><iframe src=\"data:text/html;charset=utf-8;base64,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\" style=\"position:absolute;width:100%;height:100%;left:0;top:0;border:none !important;\" allowfullscreen webkitallowfullscreen mozallowfullscreen></iframe></div></div>",
      "text/plain": "<folium.folium.Map at 0x11dfc6750>"
     },
     "execution_count": 57,
     "metadata": {},
     "output_type": "execute_result"
    }
   ],
   "source": [
    "map = folium.Map(\n",
    "    location=[-6.1753697,106.8266068],\n",
    "    # tiles='Mapbox Bright',\n",
    "    zoom_start=18\n",
    ")\n",
    "folium.Marker([-6.1754080,106.8272088], tooltip='<i>ini Monas</i>',\n",
    "    popup='<b>INI MONAS LHO.!!!</b><br><small>di jakarta</small>',\n",
    "    icon=folium.Icon(color='pink', icon='cloud')\n",
    ").add_to(map)\n",
    "\n",
    "folium.Marker([-6.1754999,106.8272088], tooltip='<i>ini Monas</i>',\n",
    "    popup='<b>INI MONAS LHO.!!!</b><br><small>di jakarta</small>',\n",
    "    icon=folium.Icon(color='red', prefix='fa', icon='save')\n",
    ").add_to(map)\n",
    "\n",
    "folium.Marker([-6.1755999,106.8275088], tooltip='<i>ini Monas</i>',\n",
    "    popup=\"<img width=100px src=https://encrypted-tbn0.gstatic.com/images?q=tbn%3AANd9GcSk8ugQ_h2ornT_Sq6u0trdrXoZlYPsCa1v1vj8pP7XYSOAonCv>\",\n",
    "    icon=folium.Icon(color='red', prefix='fa', icon='save')\n",
    ").add_to(map)\n",
    "# map.save('petaku.html')\n",
    "# geofencing\n",
    "\n",
    "folium.Circle(\n",
    "    location=[-6.1754080,106.8272088],\n",
    "    radius=50,\n",
    "    color='blue',\n",
    "    fill=True,\n",
    "    fill_color='yellow'\n",
    ").add_to(map)\n",
    "\n",
    "map"
   ]
  },
  {
   "cell_type": "markdown",
   "execution_count": null,
   "metadata": {},
   "outputs": [],
   "source": [
    "# PR\n",
    "1. bikin barplot 3d dari kependudukan di situs bps.go.id, ada 6 tahun, bikin 6 barplot (https://www.bps.go.id/statictable/2009/02/20/1267/penduduk-indonesia-menurut-provinsi-1971-1980-1990-1995-2000-dan-2010.html)\n",
    "\n",
    "2. kaggle: pokemon spawn => ambil 1000 data pertama, trus plot di folium, ketika di hover, keluar gambarnya, (markernya di sesuaikan dengan kategori pokemon: ini opsional), detail pokemonnya ambil dari pokeapi"
   ]
  },
  {
   "cell_type": "code",
   "execution_count": null,
   "metadata": {},
   "outputs": [],
   "source": []
  }
 ]
}