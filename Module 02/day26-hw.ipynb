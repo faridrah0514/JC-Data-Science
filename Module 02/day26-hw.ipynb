{
 "nbformat": 4,
 "nbformat_minor": 2,
 "metadata": {
  "language_info": {
   "name": "python",
   "codemirror_mode": {
    "name": "ipython",
    "version": 3
   },
   "version": "3.8.0"
  },
  "orig_nbformat": 2,
  "file_extension": ".py",
  "mimetype": "text/x-python",
  "name": "python",
  "npconvert_exporter": "python",
  "pygments_lexer": "ipython3",
  "version": 3
 },
 "cells": [
  {
   "cell_type": "code",
   "execution_count": 7,
   "metadata": {},
   "outputs": [
    {
     "data": {
      "text/plain": "'0.25.2'"
     },
     "execution_count": 7,
     "metadata": {},
     "output_type": "execute_result"
    }
   ],
   "source": [
    "import pandas as pd\n",
    "pd.__version__"
   ]
  },
  {
   "cell_type": "code",
   "execution_count": 51,
   "metadata": {},
   "outputs": [
    {
     "name": "stdout",
     "output_type": "stream",
     "text": "MultiIndex([(       'Provinsi',   ''),\n            (      'Tepi Laut', 2003),\n            (      'Tepi Laut', 2005),\n            (      'Tepi Laut', 2008),\n            (      'Tepi Laut', 2011),\n            (      'Tepi Laut', 2014),\n            (      'Tepi Laut', 2018),\n            ('Bukan Tepi Laut', 2003),\n            ('Bukan Tepi Laut', 2005),\n            ('Bukan Tepi Laut', 2008),\n            ('Bukan Tepi Laut', 2011),\n            ('Bukan Tepi Laut', 2014),\n            ('Bukan Tepi Laut', 2018)],\n           )\n"
    },
    {
     "data": {
      "text/html": "<div>\n<style scoped>\n    .dataframe tbody tr th:only-of-type {\n        vertical-align: middle;\n    }\n\n    .dataframe tbody tr th {\n        vertical-align: top;\n    }\n\n    .dataframe thead tr th {\n        text-align: left;\n    }\n</style>\n<table border=\"1\" class=\"dataframe\">\n  <thead>\n    <tr>\n      <th></th>\n      <th>Provinsi</th>\n      <th colspan=\"6\" halign=\"left\">Tepi Laut</th>\n    </tr>\n    <tr>\n      <th></th>\n      <th></th>\n      <th>2003</th>\n      <th>2005</th>\n      <th>2008</th>\n      <th>2011</th>\n      <th>2014</th>\n      <th>2018</th>\n    </tr>\n  </thead>\n  <tbody>\n    <tr>\n      <th>33</th>\n      <td>PAPUA</td>\n      <td>846.0</td>\n      <td>827.0</td>\n      <td>474.0</td>\n      <td>522.0</td>\n      <td>646</td>\n      <td>662</td>\n    </tr>\n  </tbody>\n</table>\n</div>",
      "text/plain": "   Provinsi Tepi Laut                               \n                 2003   2005   2008   2011 2014 2018\n33    PAPUA     846.0  827.0  474.0  522.0  646  662"
     },
     "execution_count": 51,
     "metadata": {},
     "output_type": "execute_result"
    }
   ],
   "source": [
    "xls_file=pd.read_excel('misc/bps_file.xlsx', header=[2,3], skipfooter=1, na_values=['-'])\n",
    "xls_file.rename(columns={\"Unnamed: 0_level_0\": \"Provinsi\", \"Unnamed: 0_level_1\":\"\"}, inplace=True)\n",
    "print(xls_file.columns)\n",
    "xls_file[xls_file[('Tepi Laut', 2003)] == xls_file[('Tepi Laut', 2003)].max()][['Provinsi','Tepi Laut']]"
   ]
  },
  {
   "cell_type": "code",
   "execution_count": null,
   "metadata": {},
   "outputs": [],
   "source": []
  }
 ]
}