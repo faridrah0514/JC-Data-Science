{
 "cells": [
  {
   "cell_type": "markdown",
   "metadata": {},
   "source": [
    "# Belajar Numpy"
   ]
  },
  {
   "cell_type": "code",
   "execution_count": 3,
   "metadata": {},
   "outputs": [],
   "source": [
    "import numpy as np"
   ]
  },
  {
   "cell_type": "code",
   "execution_count": 4,
   "metadata": {},
   "outputs": [
    {
     "data": {
      "text/plain": [
       "array([1, 2, 3])"
      ]
     },
     "execution_count": 4,
     "metadata": {},
     "output_type": "execute_result"
    }
   ],
   "source": [
    "x=[1,2,3]\n",
    "x=np.array(x)\n",
    "x"
   ]
  },
  {
   "cell_type": "markdown",
   "metadata": {},
   "source": [
    "#### array 2d"
   ]
  },
  {
   "cell_type": "code",
   "execution_count": 5,
   "metadata": {},
   "outputs": [
    {
     "data": {
      "text/plain": [
       "array([[1, 2, 3],\n",
       "       [4, 5, 6]])"
      ]
     },
     "execution_count": 5,
     "metadata": {},
     "output_type": "execute_result"
    }
   ],
   "source": [
    "y=[\n",
    "    [1,2,3],\n",
    "    [4,5,6]\n",
    "]\n",
    "y=np.array(y)\n",
    "y"
   ]
  },
  {
   "cell_type": "markdown",
   "metadata": {},
   "source": [
    "#### array 3d"
   ]
  },
  {
   "cell_type": "code",
   "execution_count": 6,
   "metadata": {},
   "outputs": [
    {
     "data": {
      "text/plain": [
       "array([[[ 1,  2,  3,  4,  5],\n",
       "        [ 6,  7,  8,  9, 10],\n",
       "        [11, 12, 13, 14, 15]]])"
      ]
     },
     "execution_count": 6,
     "metadata": {},
     "output_type": "execute_result"
    }
   ],
   "source": [
    "z = [[\n",
    "    [1,2,3,4,5],\n",
    "    [6,7,8,9,10],\n",
    "    [11,12,13,14,15]\n",
    "]]\n",
    "z=np.array(z)\n",
    "z"
   ]
  },
  {
   "cell_type": "markdown",
   "metadata": {},
   "source": [
    "#### cek dimensi dan size"
   ]
  },
  {
   "cell_type": "code",
   "execution_count": 8,
   "metadata": {},
   "outputs": [
    {
     "name": "stdout",
     "output_type": "stream",
     "text": [
      "dimensi\n",
      "x: 1 y: 2 z: 3\n",
      "size\n",
      "x: 3 y: 6 z: 15\n",
      "ukuran matrix\n",
      "x: (3,) y: (2, 3) z: (1, 3, 5)\n"
     ]
    }
   ],
   "source": [
    "print(\"dimensi\")\n",
    "print(\"x:\", x.ndim, \"y:\", y.ndim, \"z:\", z.ndim)\n",
    "\n",
    "print(\"size\")\n",
    "print(\"x:\", x.size, \"y:\", y.size, \"z:\", z.size)\n",
    "\n",
    "print(\"ukuran matrix\")\n",
    "print(\"x:\", x.shape, \"y:\", y.shape, \"z:\", z.shape)"
   ]
  },
  {
   "cell_type": "markdown",
   "metadata": {},
   "source": [
    "#### create random array"
   ]
  },
  {
   "cell_type": "markdown",
   "metadata": {},
   "source": [
    "print(np.random.random(10))\n",
    "print(np.random.rand(2,4))\n",
    "print(np.random.randint(7, size=(2,5)))"
   ]
  },
  {
   "cell_type": "markdown",
   "metadata": {},
   "source": [
    "#### numpy array slicing"
   ]
  },
  {
   "cell_type": "code",
   "execution_count": 40,
   "metadata": {},
   "outputs": [
    {
     "name": "stdout",
     "output_type": "stream",
     "text": [
      "[[1 2]\n",
      " [4 5]\n",
      " [7 8]]\n",
      "[[1]\n",
      " [4]\n",
      " [7]]\n",
      "[1 4 7]\n"
     ]
    }
   ],
   "source": [
    "a=[\n",
    "    (1,2,3),\n",
    "    (4,5,6),\n",
    "    (7,8,9)\n",
    "]\n",
    "a=np.array(a)\n",
    "\n",
    "# print(a[0][1])\n",
    "# print(a[0,1])\n",
    "# print(a[0:2, 0:2])\n",
    "# print(a[0:, 0:2])\n",
    "# print(a[::][1:3])\n",
    "print(a[0:, 0:2])\n",
    "# print(a[0:3, 0:1]) -> sintax ini buat slicing per-array\n",
    "print(a[0:3, 0:1])\n",
    "# print(a[0:3, 0]) -> sintax ini buat slicing per-element\n",
    "print(a[0:3, 0])"
   ]
  },
  {
   "cell_type": "markdown",
   "metadata": {},
   "source": [
    "#### more on indexing"
   ]
  },
  {
   "cell_type": "code",
   "execution_count": 101,
   "metadata": {},
   "outputs": [
    {
     "name": "stdout",
     "output_type": "stream",
     "text": [
      "[[ 1  2  3 10]\n",
      " [ 4  5  6 11]\n",
      " [ 7  8  9 12]\n",
      " [13 14 15 16]]\n",
      "\n"
     ]
    },
    {
     "data": {
      "text/plain": [
       "array([2, 5, 8])"
      ]
     },
     "execution_count": 101,
     "metadata": {},
     "output_type": "execute_result"
    }
   ],
   "source": [
    "a=[\n",
    "    (1,2,3,10),\n",
    "    (4,5,6,11),\n",
    "    (7,8,9,12),\n",
    "    [13,14,15,16]\n",
    "]\n",
    "a=np.array(a)\n",
    "print(a)\n",
    "print(\"\")\n",
    "a[0:3, 1]"
   ]
  },
  {
   "cell_type": "markdown",
   "metadata": {},
   "source": [
    "#### reshape"
   ]
  },
  {
   "cell_type": "code",
   "execution_count": 91,
   "metadata": {},
   "outputs": [
    {
     "name": "stdout",
     "output_type": "stream",
     "text": [
      "[[ 1]\n",
      " [ 4]\n",
      " [ 7]\n",
      " [13]]\n",
      "[ 1  4  7 13]\n",
      "[[ 1  4]\n",
      " [ 7 13]]\n",
      "[[ 1  4  7 13]]\n",
      "[[[ 1]]\n",
      "\n",
      " [[ 4]]\n",
      "\n",
      " [[ 7]]\n",
      "\n",
      " [[13]]]\n"
     ]
    }
   ],
   "source": [
    "print(a[0:, :1])\n",
    "print(a[0:, :1].reshape(4,))\n",
    "print(a[0:, :1].reshape(2,2))\n",
    "print(a[0:, :1].reshape(1,4))\n",
    "k=a[0:, :1].reshape(4,1,1)\n",
    "print(k)"
   ]
  },
  {
   "cell_type": "markdown",
   "metadata": {},
   "source": [
    "#### math operation"
   ]
  },
  {
   "cell_type": "code",
   "execution_count": 122,
   "metadata": {},
   "outputs": [
    {
     "name": "stdout",
     "output_type": "stream",
     "text": [
      "[[ 2 -3]\n",
      " [ 2 11]]\n",
      "========\n",
      "[[ -2 -11]\n",
      " [ -4  -5]]\n",
      "========\n",
      "[[  0 -28]\n",
      " [ -3  24]]\n",
      "========\n",
      "[[ 0.         -1.75      ]\n",
      " [-0.33333333  0.375     ]]\n",
      "========\n",
      "[[0 1]\n",
      " [2 3]]\n",
      "========\n",
      "[[ 3 -4]\n",
      " [ 2  6]]\n",
      "========\n",
      "[[ 2 -5]\n",
      " [-1  3]]\n",
      "========\n",
      "[[-11 -32]\n",
      " [  7  20]]\n"
     ]
    }
   ],
   "source": [
    "b=[[0, -7],\n",
    "   [-1, 3]]\n",
    "c=[[2,4],\n",
    "   [3,8]]\n",
    "b=np.array(b)\n",
    "c=np.array(c)\n",
    "\n",
    "print(b+c)\n",
    "print(\"========\")\n",
    "print(b-c)\n",
    "print(\"========\")\n",
    "print(b*c)\n",
    "print(\"========\")\n",
    "print(b/c)\n",
    "print(\"========\")\n",
    "print(b%c)\n",
    "print(\"========\")\n",
    "print(b+3)\n",
    "print(\"========\")\n",
    "b[0] +=2 # nambahin cuma di elemen pertama aja\n",
    "print(b)\n",
    "print(\"========\")\n",
    "print(b.dot(c))"
   ]
  },
  {
   "cell_type": "markdown",
   "metadata": {},
   "source": [
    "### contoh"
   ]
  },
  {
   "cell_type": "code",
   "execution_count": 121,
   "metadata": {},
   "outputs": [
    {
     "name": "stdout",
     "output_type": "stream",
     "text": [
      "(3, 3)\n",
      "(3, 1)\n",
      "[[1.07317073]\n",
      " [0.80487805]\n",
      " [0.51219512]]\n"
     ]
    }
   ],
   "source": [
    "#persamaan tiga dimensi asal-asalan\n",
    "\n",
    "persamaan=[[2,1,4],\n",
    "          [1,1,10],\n",
    "          [3,4,5]]\n",
    "# hasil=[5,7,9] # satu dimensi\n",
    "hasil=[[5],[7],[9]] #dua dimensi juga bisa\n",
    "persamaan=np.array(persamaan)\n",
    "hasil=np.array(hasil)\n",
    "# print(persamaan.shape)\n",
    "# print(hasil.shape)\n",
    "hasil2=np.linalg.solve(persamaan,hasil)\n",
    "print(hasil2)"
   ]
  },
  {
   "cell_type": "code",
   "execution_count": 139,
   "metadata": {},
   "outputs": [
    {
     "name": "stdout",
     "output_type": "stream",
     "text": [
      "[-3  2]\n",
      "-12\n"
     ]
    }
   ],
   "source": [
    "#SPLDV\n",
    "#4x + 7y = 2\n",
    "#3x + 2y = -5\n",
    "\n",
    "matrix=[[4,7],\n",
    "       [3,2]]\n",
    "matrix_hasil=[2,-5]\n",
    "matrix=np.array(matrix)\n",
    "matrix_hasil=np.array(matrix_hasil)\n",
    "hasil=np.linalg.solve(matrix, matrix_hasil)\n",
    "hasil=hasil.astype('int32')\n",
    "print(hasil)\n",
    "x=hasil[0]\n",
    "y=hasil[1]\n",
    "# print(x, y)\n",
    "print(2*x - 3*y)"
   ]
  },
  {
   "cell_type": "code",
   "execution_count": 140,
   "metadata": {},
   "outputs": [
    {
     "name": "stdout",
     "output_type": "stream",
     "text": [
      "[15. 10.]\n"
     ]
    }
   ],
   "source": [
    "#soal ayam dan kambing\n",
    "#ayam + kambing =25\n",
    "#2*ayam + 4*kambing=70\n",
    "\n",
    "matrix=np.array([[1,1],[2,4]])\n",
    "hasil=np.array([25,70])\n",
    "solve=np.linalg.solve(matrix,hasil)\n",
    "\n",
    "print(solve)\n"
   ]
  },
  {
   "cell_type": "code",
   "execution_count": 156,
   "metadata": {},
   "outputs": [
    {
     "name": "stdout",
     "output_type": "stream",
     "text": [
      "[1400. 1000.  900.]\n",
      "\n",
      "buku: 1400.0\n",
      "pensil: 1000\n",
      "penghapus: 900.0\n"
     ]
    }
   ],
   "source": [
    "#soal buku pensi dan penghapus\n",
    "#2b + p + h = 4700\n",
    "#b + 2p + h = 4300\n",
    "#3b + 2p + h = 7100\n",
    "\n",
    "matrix=np.array([[2,1,1],\n",
    "                [1,2,1],\n",
    "                 [3,2,1]])\n",
    "hasil=np.array([4700,4300,7100])\n",
    "solve=np.linalg.solve(matrix,hasil)\n",
    "\n",
    "print(solve)\n",
    "print(f'''\n",
    "buku: {(solve[0])}\n",
    "pensil: {int(round(solve[1]))}\n",
    "penghapus: {round(solve[2])}''')"
   ]
  },
  {
   "cell_type": "markdown",
   "metadata": {},
   "source": [
    "### other properties"
   ]
  },
  {
   "cell_type": "code",
   "execution_count": 167,
   "metadata": {},
   "outputs": [
    {
     "name": "stdout",
     "output_type": "stream",
     "text": [
      "From NumPy lib\n",
      "6\n",
      "1\n",
      "21\n",
      "\n",
      "from manual function\n",
      "maximum value: 6\n",
      "minimum value: 1\n",
      "summary value: 21\n",
      "\n",
      "cara cepat\n",
      "maximum value: 6\n",
      "minimum value: 1\n",
      "summary value: 21\n"
     ]
    }
   ],
   "source": [
    "from functools import reduce\n",
    "\n",
    "def maks(list_x):\n",
    "    maks=list_x[0]\n",
    "    for i in list_x:\n",
    "        if i > maks:\n",
    "            maks = i\n",
    "    print(\"maximum value:\", maks)\n",
    "    \n",
    "def mins(list_x):\n",
    "    mins = list_x[0]\n",
    "    for i in list_x:\n",
    "        if i < mins:\n",
    "            mins = i\n",
    "    print(\"minimum value:\", mins)\n",
    "    \n",
    "def sums(list_x):\n",
    "    sums=0\n",
    "    for i in list_x:\n",
    "        sums+=i\n",
    "    print(\"summary value:\", sums)\n",
    "    \n",
    "#cara cepet\n",
    "def xmax(list_x):\n",
    "    xmax=reduce(lambda a,b: a if (a>b) else b, list_x)\n",
    "    print(\"maximum value:\",xmax)\n",
    "    \n",
    "def xmin(list_x):\n",
    "    xmin=reduce(lambda a,b: a if (a<b) else b, list_x)\n",
    "    print(\"minimum value:\",xmin)\n",
    "    \n",
    "def xsum(list_x):\n",
    "    xsum=reduce(lambda a,b: a + b, list_x)\n",
    "    print(\"summary value:\",xsum)\n",
    "    \n",
    "\n",
    "list_x=[1,2,3,4,5,6]\n",
    "x = np.array(list_x)\n",
    "\n",
    "# print(max(list_x))\n",
    "# print(min(list_x))\n",
    "\n",
    "print(\"From NumPy lib\")\n",
    "print(x.max())\n",
    "print(x.min())\n",
    "print(x.sum())\n",
    "print(\"\")\n",
    "print(\"from manual function\")\n",
    "maks(list_x)\n",
    "mins(list_x)\n",
    "sums(list_x)\n",
    "print(\"\")\n",
    "print(\"cara cepat\")\n",
    "xmax(list_x)\n",
    "xmin(list_x)\n",
    "xsum(list_x)"
   ]
  },
  {
   "cell_type": "markdown",
   "metadata": {},
   "source": [
    "#### statistics"
   ]
  },
  {
   "cell_type": "code",
   "execution_count": 171,
   "metadata": {},
   "outputs": [
    {
     "name": "stdout",
     "output_type": "stream",
     "text": [
      "8.125\n",
      "8.5\n"
     ]
    },
    {
     "ename": "AttributeError",
     "evalue": "module 'numpy' has no attribute 'mode'",
     "output_type": "error",
     "traceback": [
      "\u001b[1;31m---------------------------------------------------------------------------\u001b[0m",
      "\u001b[1;31mAttributeError\u001b[0m                            Traceback (most recent call last)",
      "\u001b[1;32m<ipython-input-171-f3a103139aae>\u001b[0m in \u001b[0;36m<module>\u001b[1;34m\u001b[0m\n\u001b[0;32m      2\u001b[0m \u001b[0mprint\u001b[0m\u001b[1;33m(\u001b[0m\u001b[0mnp\u001b[0m\u001b[1;33m.\u001b[0m\u001b[0mmean\u001b[0m\u001b[1;33m(\u001b[0m\u001b[0my\u001b[0m\u001b[1;33m)\u001b[0m\u001b[1;33m)\u001b[0m\u001b[1;33m\u001b[0m\u001b[1;33m\u001b[0m\u001b[0m\n\u001b[0;32m      3\u001b[0m \u001b[0mprint\u001b[0m\u001b[1;33m(\u001b[0m\u001b[0mnp\u001b[0m\u001b[1;33m.\u001b[0m\u001b[0mmedian\u001b[0m\u001b[1;33m(\u001b[0m\u001b[0my\u001b[0m\u001b[1;33m)\u001b[0m\u001b[1;33m)\u001b[0m\u001b[1;33m\u001b[0m\u001b[1;33m\u001b[0m\u001b[0m\n\u001b[1;32m----> 4\u001b[1;33m \u001b[0mprint\u001b[0m\u001b[1;33m(\u001b[0m\u001b[0mnp\u001b[0m\u001b[1;33m.\u001b[0m\u001b[0mmode\u001b[0m\u001b[1;33m(\u001b[0m\u001b[0my\u001b[0m\u001b[1;33m)\u001b[0m\u001b[1;33m)\u001b[0m\u001b[1;33m\u001b[0m\u001b[1;33m\u001b[0m\u001b[0m\n\u001b[0m\u001b[0;32m      5\u001b[0m \u001b[0mprint\u001b[0m\u001b[1;33m(\u001b[0m\u001b[0mnp\u001b[0m\u001b[1;33m.\u001b[0m\u001b[0mpi\u001b[0m\u001b[1;33m)\u001b[0m\u001b[1;33m\u001b[0m\u001b[1;33m\u001b[0m\u001b[0m\n",
      "\u001b[1;31mAttributeError\u001b[0m: module 'numpy' has no attribute 'mode'"
     ]
    }
   ],
   "source": [
    "y = np.array([1,2,3,4,5,6,7,8,9,10,11,12,13,14,15,10])\n",
    "print(np.mean(y))\n",
    "print(np.median(y))\n",
    "print(np.mode(y))\n",
    "print(np.pi)"
   ]
  },
  {
   "cell_type": "code",
   "execution_count": null,
   "metadata": {},
   "outputs": [],
   "source": []
  }
 ],
 "metadata": {
  "kernelspec": {
   "display_name": "Python 3",
   "language": "python",
   "name": "python3"
  },
  "language_info": {
   "codemirror_mode": {
    "name": "ipython",
    "version": 3
   },
   "file_extension": ".py",
   "mimetype": "text/x-python",
   "name": "python",
   "nbconvert_exporter": "python",
   "pygments_lexer": "ipython3",
   "version": "3.7.4"
  }
 },
 "nbformat": 4,
 "nbformat_minor": 2
}
