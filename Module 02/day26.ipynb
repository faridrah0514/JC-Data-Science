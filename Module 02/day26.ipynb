{
 "nbformat": 4,
 "nbformat_minor": 2,
 "metadata": {
  "language_info": {
   "name": "python",
   "codemirror_mode": {
    "name": "ipython",
    "version": 3
   },
   "version": "3.8.0"
  },
  "orig_nbformat": 2,
  "file_extension": ".py",
  "mimetype": "text/x-python",
  "name": "python",
  "npconvert_exporter": "python",
  "pygments_lexer": "ipython3",
  "version": 3
 },
 "cells": [
  {
   "cell_type": "markdown",
   "execution_count": 2,
   "metadata": {},
   "outputs": [],
   "source": [
    "## Belajar Pandas (2)"
   ]
  },
  {
   "cell_type": "code",
   "execution_count": 32,
   "metadata": {},
   "outputs": [],
   "source": [
    "import pandas as pd"
   ]
  },
  {
   "cell_type": "code",
   "execution_count": 33,
   "metadata": {},
   "outputs": [
    {
     "data": {
      "text/html": "<div>\n<style scoped>\n    .dataframe tbody tr th:only-of-type {\n        vertical-align: middle;\n    }\n\n    .dataframe tbody tr th {\n        vertical-align: top;\n    }\n\n    .dataframe thead th {\n        text-align: right;\n    }\n</style>\n<table border=\"1\" class=\"dataframe\">\n  <thead>\n    <tr style=\"text-align: right;\">\n      <th></th>\n      <th>nama</th>\n      <th>usia</th>\n      <th>kota</th>\n      <th>gaji</th>\n    </tr>\n    <tr>\n      <th>no</th>\n      <th></th>\n      <th></th>\n      <th></th>\n      <th></th>\n    </tr>\n  </thead>\n  <tbody>\n    <tr>\n      <th>1</th>\n      <td>andi</td>\n      <td>21</td>\n      <td>jakarta</td>\n      <td>5000000.0</td>\n    </tr>\n    <tr>\n      <th>2</th>\n      <td>budi</td>\n      <td>22</td>\n      <td>bandung</td>\n      <td>6000000.0</td>\n    </tr>\n    <tr>\n      <th>3</th>\n      <td>caca</td>\n      <td>23</td>\n      <td>bogor</td>\n      <td>7000000.0</td>\n    </tr>\n    <tr>\n      <th>4</th>\n      <td>euis</td>\n      <td>24</td>\n      <td>surabaya</td>\n      <td>7000000.0</td>\n    </tr>\n    <tr>\n      <th>5</th>\n      <td>deni</td>\n      <td>25</td>\n      <td>semarang</td>\n      <td>8000000.0</td>\n    </tr>\n    <tr>\n      <th>6</th>\n      <td>-</td>\n      <td>26</td>\n      <td>depok</td>\n      <td>7500000.0</td>\n    </tr>\n    <tr>\n      <th>7</th>\n      <td>miki</td>\n      <td>27</td>\n      <td>tangerang</td>\n      <td>7600000.0</td>\n    </tr>\n    <tr>\n      <th>8</th>\n      <td>kiki</td>\n      <td>28</td>\n      <td>n.a</td>\n      <td>NaN</td>\n    </tr>\n  </tbody>\n</table>\n</div>",
      "text/plain": "    nama  usia       kota       gaji\nno                                  \n1   andi    21    jakarta  5000000.0\n2   budi    22    bandung  6000000.0\n3   caca    23      bogor  7000000.0\n4   euis    24   surabaya  7000000.0\n5   deni    25   semarang  8000000.0\n6      -    26      depok  7500000.0\n7   miki    27  tangerang  7600000.0\n8   kiki    28        n.a        NaN"
     },
     "execution_count": 33,
     "metadata": {},
     "output_type": "execute_result"
    }
   ],
   "source": [
    "df=pd.read_csv('misc/data_ptabc.csv', delimiter=';', header=2, skipfooter=2, engine='python')\n",
    "df.set_index('no', inplace=True)\n",
    "df"
   ]
  },
  {
   "cell_type": "code",
   "execution_count": 34,
   "metadata": {},
   "outputs": [
    {
     "name": "stdout",
     "output_type": "stream",
     "text": "gaji maksimal: 8000000.0\ngaji minimal: 5000000.0\ngaji rata-rata: 6871428.571428572\ntotal gaji: 48100000.0\nmodus gaji: 0    7000000.0\ndtype: float64\nmedia gaji: 7000000.0\n    nama  usia     kota       gaji\nno                                \n1   andi    21  jakarta  5000000.0\n    nama  usia\nno            \n1   andi    21\n"
    },
    {
     "data": {
      "text/plain": "nama       andi\nusia         21\nkota    jakarta\ngaji      5e+06\nName: 1, dtype: object"
     },
     "execution_count": 34,
     "metadata": {},
     "output_type": "execute_result"
    }
   ],
   "source": [
    "print(\"gaji maksimal:\",df['gaji'].max())\n",
    "print(\"gaji minimal:\", df['gaji'].min())\n",
    "print(\"gaji rata-rata:\", df['gaji'].mean())\n",
    "print(\"total gaji:\", df['gaji'].sum())\n",
    "print(\"modus gaji:\", df['gaji'].mode())\n",
    "print(\"media gaji:\", df['gaji'].median())\n",
    "print(df[df['gaji'] == df['gaji'].min()])\n",
    "print(df[df['gaji'] == df['gaji'].min()][['nama','usia']])\n",
    "df.loc[1]"
   ]
  },
  {
   "cell_type": "code",
   "execution_count": 35,
   "metadata": {},
   "outputs": [
    {
     "name": "stdout",
     "output_type": "stream",
     "text": "nama  usia       kota       gaji\nno                                  \n1   andi    21    jakarta  5000000.0\n2   budi    22    bandung  6000000.0\n3   caca    23      bogor  7000000.0\n4   euis    24   surabaya  7000000.0\n5   deni    25   semarang  8000000.0\n6      -    26      depok  7500000.0\n7   miki    27  tangerang  7600000.0\nno\n1     True\n2    False\n3    False\n4    False\n5    False\n6    False\n7    False\n8    False\ndtype: bool\n    nama  usia     kota       gaji\nno                                \n1   andi    21  jakarta  5000000.0\n    nama  usia     kota       gaji\nno                                \n1   andi    21  jakarta  5000000.0\n2   budi    22  bandung  6000000.0\n    nama  usia     kota       gaji\nno                                \n2   budi    22  bandung  6000000.0\n3   caca    23    bogor  7000000.0\n    nama  usia      kota       gaji\nno                                 \n2   budi    22   bandung  6000000.0\n3   caca    23     bogor  7000000.0\n4   euis    24  surabaya  7000000.0\n"
    }
   ],
   "source": [
    "print(df[df['gaji'] > 23])\n",
    "\n",
    "#menampilkan dari dua kondisi\n",
    "print((df['usia'] < 23) & (df['kota'] == 'jakarta'))\n",
    "print(df[(df['usia'] < 23) & (df['kota'] == 'jakarta')])\n",
    "print(df[(df['usia'] < 23) | (df['kota'] == 'jakarta')])\n",
    "\n",
    "# menampilkan antara value\n",
    "print(df[(df['usia'] > 21) & (df['usia'] < 24)])\n",
    "print(df[df['usia'].between(22,24)])"
   ]
  },
  {
   "cell_type": "code",
   "execution_count": 36,
   "metadata": {},
   "outputs": [
    {
     "name": "stdout",
     "output_type": "stream",
     "text": "['no', 'nama', 'usia', 'kota', 'gaji']\n"
    },
    {
     "data": {
      "text/plain": "['gaji', 'no', 'nama', 'usia', 'kota']"
     },
     "execution_count": 36,
     "metadata": {},
     "output_type": "execute_result"
    }
   ],
   "source": [
    "xls_file=pd.read_excel('misc/data_ptabc.xlsx', header=2, skipfooter=2)\n",
    "# xls_file[list(xls_file.columns)[::-1]]\n",
    "print(xls_file.columns.tolist())\n",
    "kol=xls_file.columns.tolist()\n",
    "kol = kol[-1:] + kol[:-1]\n",
    "kol"
   ]
  },
  {
   "cell_type": "code",
   "execution_count": 37,
   "metadata": {},
   "outputs": [
    {
     "data": {
      "text/plain": "nama    0\nusia    0\nkota    0\ngaji    1\ndtype: int64"
     },
     "execution_count": 37,
     "metadata": {},
     "output_type": "execute_result"
    }
   ],
   "source": [
    "df.isnull().sum()"
   ]
  },
  {
   "cell_type": "code",
   "execution_count": 38,
   "metadata": {},
   "outputs": [],
   "source": [
    "df.to_csv('misc/filebaru.csv',index=False)\n",
    "df.to_excel('misc/filebaru.xlsx',sheet_name='Pandas',index=False)"
   ]
  },
  {
   "cell_type": "markdown",
   "execution_count": null,
   "metadata": {},
   "outputs": [],
   "source": [
    "### read HTML"
   ]
  },
  {
   "cell_type": "code",
   "execution_count": 39,
   "metadata": {},
   "outputs": [
    {
     "name": "stdout",
     "output_type": "stream",
     "text": "Nama  Usia      Kota\n0  Andi    22   Jakarta\n1  Budi    23   Bandung\n2  Caca    24  Surabaya\n"
    }
   ],
   "source": [
    "df_html=pd.read_html('misc/day26.html')\n",
    "print(df_html[0])\n",
    "\n",
    "#write to json file\n",
    "df_html[0].to_json('misc/day26.json', orient='records')"
   ]
  },
  {
   "cell_type": "code",
   "execution_count": 40,
   "metadata": {},
   "outputs": [
    {
     "data": {
      "text/html": "<div>\n<style scoped>\n    .dataframe tbody tr th:only-of-type {\n        vertical-align: middle;\n    }\n\n    .dataframe tbody tr th {\n        vertical-align: top;\n    }\n\n    .dataframe thead th {\n        text-align: right;\n    }\n</style>\n<table border=\"1\" class=\"dataframe\">\n  <thead>\n    <tr style=\"text-align: right;\">\n      <th></th>\n      <th>#</th>\n      <th>Digimon</th>\n      <th>Stage</th>\n      <th>Type</th>\n      <th>Attribute</th>\n      <th>Memory</th>\n      <th>Equip Slots</th>\n      <th>HP</th>\n      <th>SP</th>\n      <th>Atk</th>\n      <th>Def</th>\n      <th>Int</th>\n      <th>Spd</th>\n    </tr>\n  </thead>\n  <tbody>\n    <tr>\n      <th>0</th>\n      <td>1</td>\n      <td>Kuramon</td>\n      <td>Baby</td>\n      <td>Free</td>\n      <td>Neutral</td>\n      <td>2</td>\n      <td>0</td>\n      <td>590</td>\n      <td>77</td>\n      <td>79</td>\n      <td>69</td>\n      <td>68</td>\n      <td>95</td>\n    </tr>\n    <tr>\n      <th>1</th>\n      <td>2</td>\n      <td>Pabumon</td>\n      <td>Baby</td>\n      <td>Free</td>\n      <td>Neutral</td>\n      <td>2</td>\n      <td>0</td>\n      <td>950</td>\n      <td>62</td>\n      <td>76</td>\n      <td>76</td>\n      <td>69</td>\n      <td>68</td>\n    </tr>\n    <tr>\n      <th>2</th>\n      <td>3</td>\n      <td>Punimon</td>\n      <td>Baby</td>\n      <td>Free</td>\n      <td>Neutral</td>\n      <td>2</td>\n      <td>0</td>\n      <td>870</td>\n      <td>50</td>\n      <td>97</td>\n      <td>87</td>\n      <td>50</td>\n      <td>75</td>\n    </tr>\n    <tr>\n      <th>3</th>\n      <td>4</td>\n      <td>Botamon</td>\n      <td>Baby</td>\n      <td>Free</td>\n      <td>Neutral</td>\n      <td>2</td>\n      <td>0</td>\n      <td>690</td>\n      <td>68</td>\n      <td>77</td>\n      <td>95</td>\n      <td>76</td>\n      <td>61</td>\n    </tr>\n    <tr>\n      <th>4</th>\n      <td>5</td>\n      <td>Poyomon</td>\n      <td>Baby</td>\n      <td>Free</td>\n      <td>Neutral</td>\n      <td>2</td>\n      <td>0</td>\n      <td>540</td>\n      <td>98</td>\n      <td>54</td>\n      <td>59</td>\n      <td>95</td>\n      <td>86</td>\n    </tr>\n    <tr>\n      <th>...</th>\n      <td>...</td>\n      <td>...</td>\n      <td>...</td>\n      <td>...</td>\n      <td>...</td>\n      <td>...</td>\n      <td>...</td>\n      <td>...</td>\n      <td>...</td>\n      <td>...</td>\n      <td>...</td>\n      <td>...</td>\n      <td>...</td>\n    </tr>\n    <tr>\n      <th>336</th>\n      <td>337</td>\n      <td>Alphamon NX</td>\n      <td>Mega</td>\n      <td>Vaccine</td>\n      <td>Neutral</td>\n      <td>6</td>\n      <td>1</td>\n      <td>980</td>\n      <td>104</td>\n      <td>109</td>\n      <td>114</td>\n      <td>109</td>\n      <td>116</td>\n    </tr>\n    <tr>\n      <th>337</th>\n      <td>338</td>\n      <td>Crusadermon NX</td>\n      <td>Mega</td>\n      <td>Virus</td>\n      <td>Dark</td>\n      <td>6</td>\n      <td>1</td>\n      <td>1030</td>\n      <td>100</td>\n      <td>118</td>\n      <td>99</td>\n      <td>109</td>\n      <td>121</td>\n    </tr>\n    <tr>\n      <th>338</th>\n      <td>339</td>\n      <td>Leopardmon NX</td>\n      <td>Mega</td>\n      <td>Data</td>\n      <td>Light</td>\n      <td>6</td>\n      <td>1</td>\n      <td>960</td>\n      <td>109</td>\n      <td>112</td>\n      <td>91</td>\n      <td>116</td>\n      <td>126</td>\n    </tr>\n    <tr>\n      <th>339</th>\n      <td>340</td>\n      <td>Omnimon NX</td>\n      <td>Mega</td>\n      <td>Vaccine</td>\n      <td>Light</td>\n      <td>6</td>\n      <td>1</td>\n      <td>1010</td>\n      <td>98</td>\n      <td>116</td>\n      <td>111</td>\n      <td>111</td>\n      <td>113</td>\n    </tr>\n    <tr>\n      <th>340</th>\n      <td>341</td>\n      <td>Gallantmon NX</td>\n      <td>Mega</td>\n      <td>Virus</td>\n      <td>Light</td>\n      <td>6</td>\n      <td>1</td>\n      <td>1070</td>\n      <td>93</td>\n      <td>122</td>\n      <td>109</td>\n      <td>111</td>\n      <td>108</td>\n    </tr>\n  </tbody>\n</table>\n<p>341 rows × 13 columns</p>\n</div>",
      "text/plain": "       #         Digimon Stage     Type Attribute  Memory  Equip Slots    HP  \\\n0      1         Kuramon  Baby     Free   Neutral       2            0   590   \n1      2         Pabumon  Baby     Free   Neutral       2            0   950   \n2      3         Punimon  Baby     Free   Neutral       2            0   870   \n3      4         Botamon  Baby     Free   Neutral       2            0   690   \n4      5         Poyomon  Baby     Free   Neutral       2            0   540   \n..   ...             ...   ...      ...       ...     ...          ...   ...   \n336  337     Alphamon NX  Mega  Vaccine   Neutral       6            1   980   \n337  338  Crusadermon NX  Mega    Virus      Dark       6            1  1030   \n338  339   Leopardmon NX  Mega     Data     Light       6            1   960   \n339  340      Omnimon NX  Mega  Vaccine     Light       6            1  1010   \n340  341   Gallantmon NX  Mega    Virus     Light       6            1  1070   \n\n      SP  Atk  Def  Int  Spd  \n0     77   79   69   68   95  \n1     62   76   76   69   68  \n2     50   97   87   50   75  \n3     68   77   95   76   61  \n4     98   54   59   95   86  \n..   ...  ...  ...  ...  ...  \n336  104  109  114  109  116  \n337  100  118   99  109  121  \n338  109  112   91  116  126  \n339   98  116  111  111  113  \n340   93  122  109  111  108  \n\n[341 rows x 13 columns]"
     },
     "execution_count": 40,
     "metadata": {},
     "output_type": "execute_result"
    }
   ],
   "source": [
    "df=pd.read_html('http://digidb.io/digimon-list/')\n",
    "df[0]"
   ]
  },
  {
   "cell_type": "markdown",
   "execution_count": null,
   "metadata": {},
   "outputs": [],
   "source": [
    "# read HTML with HTTPS"
   ]
  },
  {
   "cell_type": "code",
   "execution_count": 41,
   "metadata": {},
   "outputs": [
    {
     "name": "stdout",
     "output_type": "stream",
     "text": "Number                    Name          Type  Total   HP  Attack  \\\n0         1               Bulbasaur  Grass Poison    318   45      49   \n1         2                 Ivysaur  Grass Poison    405   60      62   \n2         3                Venusaur  Grass Poison    525   80      82   \n3         3  Venusaur Mega Venusaur  Grass Poison    625   80     100   \n4         4              Charmander          Fire    309   39      52   \n..      ...                     ...           ...    ...  ...     ...   \n921     805               Stakataka    Rock Steel    570   61     131   \n922     806             Blacephalon    Fire Ghost    570   53     127   \n923     807                 Zeraora      Electric    600   88     112   \n924     808                  Meltan         Steel    300   46      65   \n925     809                Melmetal         Steel    600  135     143   \n\n     Defense  Sp. Atk  Sp. Def  Speed  \n0         49       65       65     45  \n1         63       80       80     60  \n2         83      100      100     80  \n3        123      122      120     80  \n4         43       60       50     65  \n..       ...      ...      ...    ...  \n921      211       53      101     13  \n922       53      151       79    107  \n923       75      102       80    143  \n924       65       55       35     34  \n925      143       80       65     34  \n\n[926 rows x 10 columns]\n"
    },
    {
     "data": {
      "text/html": "<div>\n<style scoped>\n    .dataframe tbody tr th:only-of-type {\n        vertical-align: middle;\n    }\n\n    .dataframe tbody tr th {\n        vertical-align: top;\n    }\n\n    .dataframe thead th {\n        text-align: right;\n    }\n</style>\n<table border=\"1\" class=\"dataframe\">\n  <thead>\n    <tr style=\"text-align: right;\">\n      <th></th>\n      <th>Number</th>\n      <th>Name</th>\n      <th>Type</th>\n      <th>Total</th>\n      <th>HP</th>\n      <th>Attack</th>\n      <th>Defense</th>\n      <th>Sp. Atk</th>\n      <th>Sp. Def</th>\n      <th>Speed</th>\n    </tr>\n  </thead>\n  <tbody>\n    <tr>\n      <th>183</th>\n      <td>150</td>\n      <td>Mewtwo Mega Mewtwo X</td>\n      <td>Psychic Fighting</td>\n      <td>780</td>\n      <td>106</td>\n      <td>190</td>\n      <td>100</td>\n      <td>154</td>\n      <td>100</td>\n      <td>130</td>\n    </tr>\n  </tbody>\n</table>\n</div>",
      "text/plain": "     Number                  Name              Type  Total   HP  Attack  \\\n183     150  Mewtwo Mega Mewtwo X  Psychic Fighting    780  106     190   \n\n     Defense  Sp. Atk  Sp. Def  Speed  \n183      100      154      100    130  "
     },
     "execution_count": 41,
     "metadata": {},
     "output_type": "execute_result"
    }
   ],
   "source": [
    "import requests\n",
    "url='https://pokemondb.net/pokedex/all'\n",
    "x=requests.get(url)\n",
    "df=pd.read_html(x.content)\n",
    "df=df[0]\n",
    "df.rename(columns={\"#\":\"Number\"}, inplace=True)\n",
    "print(df)\n",
    "\n",
    "#menampilkan pokemon yang paling gede Attack-nya\n",
    "df[df['Attack'] == df['Attack'].max()]\n"
   ]
  },
  {
   "cell_type": "code",
   "execution_count": 42,
   "metadata": {},
   "outputs": [
    {
     "data": {
      "text/html": "<div>\n<style scoped>\n    .dataframe tbody tr th:only-of-type {\n        vertical-align: middle;\n    }\n\n    .dataframe tbody tr th {\n        vertical-align: top;\n    }\n\n    .dataframe thead th {\n        text-align: right;\n    }\n</style>\n<table border=\"1\" class=\"dataframe\">\n  <thead>\n    <tr style=\"text-align: right;\">\n      <th></th>\n      <th>satu</th>\n      <th>B</th>\n    </tr>\n  </thead>\n  <tbody>\n    <tr>\n      <th>0</th>\n      <td>1</td>\n      <td>5</td>\n    </tr>\n    <tr>\n      <th>1</th>\n      <td>2</td>\n      <td>6</td>\n    </tr>\n    <tr>\n      <th>2</th>\n      <td>3</td>\n      <td>7</td>\n    </tr>\n    <tr>\n      <th>3</th>\n      <td>4</td>\n      <td>9</td>\n    </tr>\n  </tbody>\n</table>\n</div>",
      "text/plain": "   satu  B\n0     1  5\n1     2  6\n2     3  7\n3     4  9"
     },
     "execution_count": 42,
     "metadata": {},
     "output_type": "execute_result"
    }
   ],
   "source": [
    "abc=pd.DataFrame({\n",
    "    \"A\": [1,2,3,4],\n",
    "    \"B\": [5,6,7,9]\n",
    "})\n",
    "#mencoba rename\n",
    "abc.rename(columns={\"A\": \"satu\"}, inplace=True)\n",
    "abc"
   ]
  },
  {
   "cell_type": "markdown",
   "execution_count": null,
   "metadata": {},
   "outputs": [],
   "source": [
    "### how to handle empty data"
   ]
  },
  {
   "cell_type": "code",
   "execution_count": 82,
   "metadata": {},
   "outputs": [
    {
     "name": "stdout",
     "output_type": "stream",
     "text": "no      0\nnama    1\nusia    1\nkota    1\ngaji    1\ndtype: int64\n   no       nama  usia       kota       gaji\n0   1       andi  21.0    jakarta  5000000.0\n1   2       budi  25.0    bandung  6000000.0\n2   3       caca  23.0      bogor  7000000.0\n3   4       euis  24.0   surabaya  7000000.0\n4   5       deni  25.0   semarang  8000000.0\n5   6  Anonymous  26.0      depok  7500000.0\n6   7       miki  27.0  tangerang  7600000.0\n7   8       kiki  28.0    Jakarta  3900000.0\n\n   no  nama  usia       kota       gaji\n0   1  andi  21.0    jakarta  5000000.0\n1   2  budi  21.0    bandung  6000000.0\n2   3  caca  23.0      bogor  7000000.0\n3   4  euis  24.0   surabaya  7000000.0\n4   5  deni  25.0   semarang  8000000.0\n5   6  deni  26.0      depok  7500000.0\n6   7  miki  27.0  tangerang  7600000.0\n7   8  kiki  28.0  tangerang  7600000.0\n\n  no  nama     usia       kota     gaji\n0  1  andi       21    jakarta    5e+06\n1  2  budi  bandung    bandung    6e+06\n2  3  caca       23      bogor    7e+06\n3  4  euis       24   surabaya    7e+06\n4  5  deni       25   semarang    8e+06\n5  6    26       26      depok  7.5e+06\n6  7  miki       27  tangerang  7.6e+06\n7  8  kiki       28        NaN      NaN\n\n   no  nama  usia       kota       gaji\n0   1  andi  21.0    jakarta  5000000.0\n1   2  budi  22.0    bandung  6000000.0\n2   3  caca  23.0      bogor  7000000.0\n3   4  euis  24.0   surabaya  7000000.0\n4   5  deni  25.0   semarang  8000000.0\n5   6   NaN  26.0      depok  7500000.0\n6   7  miki  27.0  tangerang  7600000.0\n7   8  kiki  28.0        NaN  7600000.0\n\n   no    nama  usia       kota       gaji\n0   1    andi  21.0    jakarta  5000000.0\n1   2    budi  22.0    bandung  6000000.0\n2   3    caca  23.0      bogor  7000000.0\n3   4    euis  24.0   surabaya  7000000.0\n4   5    deni  25.0   semarang  8000000.0\n5   6  ANONIM  26.0      depok  7500000.0\n6   7    miki  27.0  tangerang  7600000.0\n7   8    kiki  28.0  INDONESIA  7600000.0\n\n   no  nama  usia       kota       gaji\n0   1  andi  21.0    jakarta  5000000.0\n1   2  budi   NaN    bandung  6000000.0\n2   3  caca  23.0      bogor  7000000.0\n3   4  euis  24.0   surabaya  7000000.0\n4   5  deni  25.0   semarang  8000000.0\n5   6   NaN  26.0      depok  7500000.0\n6   7  miki  27.0  tangerang  7600000.0\n"
    },
    {
     "data": {
      "text/html": "<div>\n<style scoped>\n    .dataframe tbody tr th:only-of-type {\n        vertical-align: middle;\n    }\n\n    .dataframe tbody tr th {\n        vertical-align: top;\n    }\n\n    .dataframe thead th {\n        text-align: right;\n    }\n</style>\n<table border=\"1\" class=\"dataframe\">\n  <thead>\n    <tr style=\"text-align: right;\">\n      <th></th>\n      <th>no</th>\n      <th>nama</th>\n      <th>usia</th>\n      <th>kota</th>\n      <th>gaji</th>\n    </tr>\n  </thead>\n  <tbody>\n    <tr>\n      <th>0</th>\n      <td>1</td>\n      <td>andi</td>\n      <td>21.0</td>\n      <td>jakarta</td>\n      <td>5000000.0</td>\n    </tr>\n    <tr>\n      <th>2</th>\n      <td>3</td>\n      <td>caca</td>\n      <td>23.0</td>\n      <td>bogor</td>\n      <td>7000000.0</td>\n    </tr>\n    <tr>\n      <th>3</th>\n      <td>4</td>\n      <td>euis</td>\n      <td>24.0</td>\n      <td>surabaya</td>\n      <td>7000000.0</td>\n    </tr>\n    <tr>\n      <th>4</th>\n      <td>5</td>\n      <td>deni</td>\n      <td>25.0</td>\n      <td>semarang</td>\n      <td>8000000.0</td>\n    </tr>\n    <tr>\n      <th>6</th>\n      <td>7</td>\n      <td>miki</td>\n      <td>27.0</td>\n      <td>tangerang</td>\n      <td>7600000.0</td>\n    </tr>\n    <tr>\n      <th>7</th>\n      <td>8</td>\n      <td>kiki</td>\n      <td>28.0</td>\n      <td>NaN</td>\n      <td>NaN</td>\n    </tr>\n  </tbody>\n</table>\n</div>",
      "text/plain": "   no  nama  usia       kota       gaji\n0   1  andi  21.0    jakarta  5000000.0\n2   3  caca  23.0      bogor  7000000.0\n3   4  euis  24.0   surabaya  7000000.0\n4   5  deni  25.0   semarang  8000000.0\n6   7  miki  27.0  tangerang  7600000.0\n7   8  kiki  28.0        NaN        NaN"
     },
     "execution_count": 82,
     "metadata": {},
     "output_type": "execute_result"
    }
   ],
   "source": [
    "#how to handle empty data, add na_values keyword\n",
    "df=pd.read_csv('misc/data_ptabc.csv',delimiter=';',header=2,skipfooter=2, engine='python',na_values=['-','n.a'])\n",
    "print(df.isnull().sum())\n",
    "#teknik 1\n",
    "ab=df.fillna({\n",
    "    \"nama\": \"Anonymous\",\n",
    "    \"usia\": 25,\n",
    "    \"kota\": \"Jakarta\",\n",
    "    \"gaji\": 3900000\n",
    "}, inplace=False)\n",
    "print(ab)\n",
    "print(\"\")\n",
    "#teknik forward filling\n",
    "bc=df.fillna(method='ffill', axis='index') #index maksudnya menurun kebawah (columns)\n",
    "print(bc)\n",
    "print(\"\")\n",
    "\n",
    "#teknik backward filling\n",
    "cd=df.fillna(method='bfill', axis='columns') #column maksudnya ke samping (row)\n",
    "# cd=df.fillna({\"gaji\":3900000})\n",
    "# cd['gaji'] = cd['gaji'].astype(int)\n",
    "print(cd)\n",
    "print(\"\")\n",
    "\n",
    "#teknik interpolate\n",
    "de=df.interpolate()\n",
    "print(de)\n",
    "print(\"\")\n",
    "#interpolate combine\n",
    "ef=df.interpolate().fillna({\"nama\":\"ANONIM\", \"kota\":\"INDONESIA\"})\n",
    "print(ef)\n",
    "print(\"\")\n",
    "\n",
    "\n",
    "#drop NaN\n",
    "fg=df.dropna()\n",
    "print(fg)\n",
    "print(\"\")\n",
    "\n",
    "#drop NaN with threshold\n",
    "hi=df.dropna(thresh=4) # threshold maksudnya minimal berapa data yang ada dalam satu baris (contohnya adalah minimal 4 data dalam satu baris)\n",
    "print(hi)\n",
    "print(\"\")\n",
    "\n",
    "#drop na with subset\n",
    "ij=df.dropna(subset=['nama','usia'])\n",
    "print(ij)\n",
    "print(\"\")"
   ]
  },
  {
   "cell_type": "markdown",
   "execution_count": null,
   "metadata": {},
   "outputs": [],
   "source": [
    "## cari data desa BPS:\n",
    "- provinsi dengan desa terbanyak di tahun 2003, 2005, 2008, 2011, 2014, 2018\n",
    "- "
   ]
  },
  {
   "cell_type": "code",
   "execution_count": null,
   "metadata": {},
   "outputs": [],
   "source": []
  }
 ]
}