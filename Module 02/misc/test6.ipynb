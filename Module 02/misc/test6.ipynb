{
 "nbformat": 4,
 "nbformat_minor": 2,
 "metadata": {
  "language_info": {
   "name": "python",
   "codemirror_mode": {
    "name": "ipython",
    "version": 3
   },
   "version": "3.8.0"
  },
  "orig_nbformat": 2,
  "file_extension": ".py",
  "mimetype": "text/x-python",
  "name": "python",
  "npconvert_exporter": "python",
  "pygments_lexer": "ipython3",
  "version": 3
 },
 "cells": [
  {
   "source": [
    "import pandas as pd\n",
    "import numpy as np"
   ],
   "cell_type": "code",
   "outputs": [],
   "metadata": {},
   "execution_count": 1
  },
  {
   "source": [
    "arrays=[\n",
    "    ['bar','bar','baz','baz','foo','foo','qox','qox'],\n",
    "    ['satu','dua','satu','dua','satu','dua','satu','dua'],\n",
    "]\n",
    "tuples=list(zip(*arrays))\n",
    "iterables=[\n",
    "    ['bar','foo','baz','cox'],\n",
    "    ['satu','dua']\n",
    "]\n",
    "index=pd.MultiIndex.from_product(iterables=iterables, names=['Satu', 'Dua'])\n",
    "print(index)\n",
    "# index=pd.MultiIndex.from_tuples(tuples, names=['First','Second'])\n",
    "# s=pd.Series(np.random.randn(8), col=index)\n",
    "df=pd.DataFrame(np.random.randn(32).reshape(4,8), columns=index)\n",
    "# s\n",
    "print(df)\n",
    "print(\"test ====>\", index.get_level_values(0))\n",
    "print(\"level 2 ====>\", index.get_level_values(1))\n",
    "\n",
    "df['bar']['satu']"
   ],
   "cell_type": "code",
   "outputs": [
    {
     "output_type": "stream",
     "name": "stdout",
     "text": "MultiIndex([('bar', 'satu'),\n            ('bar',  'dua'),\n            ('foo', 'satu'),\n            ('foo',  'dua'),\n            ('baz', 'satu'),\n            ('baz',  'dua'),\n            ('cox', 'satu'),\n            ('cox',  'dua')],\n           names=['Satu', 'Dua'])\nSatu       bar                 foo                 baz                 cox  \\\nDua       satu       dua      satu       dua      satu       dua      satu   \n0     0.516450 -0.723703 -0.054449  1.967685  0.336341 -1.210089  1.634466   \n1    -0.212780 -0.549511  1.593639 -0.286167  0.264718  0.167977  0.436685   \n2     1.022867  0.628993 -0.037374 -1.410775 -2.007047  1.098713 -1.072297   \n3    -0.609394 -0.092645 -0.378989 -0.073144 -1.690506 -0.786947 -0.222179   \n\nSatu            \nDua        dua  \n0     0.638481  \n1     0.956790  \n2    -0.124339  \n3    -1.927186  \ntest ====> Index(['bar', 'bar', 'foo', 'foo', 'baz', 'baz', 'cox', 'cox'], dtype='object', name='Satu')\nlevel 2 ====> Index(['satu', 'dua', 'satu', 'dua', 'satu', 'dua', 'satu', 'dua'], dtype='object', name='Dua')\n"
    },
    {
     "output_type": "execute_result",
     "data": {
      "text/plain": "0    0.516450\n1   -0.212780\n2    1.022867\n3   -0.609394\nName: satu, dtype: float64"
     },
     "metadata": {},
     "execution_count": 2
    }
   ],
   "metadata": {},
   "execution_count": 2
  },
  {
   "source": [
    "indeks=[\n",
    "    ('satu', 1),\n",
    "    ('satu', 2),\n",
    "    ('dua', 1),\n",
    "    ('dua', 2)\n",
    "]\n",
    "\n",
    "sr=pd.Series(np.random.rand(4), index=indeks,name=\"Test\")\n",
    "mi=pd.MultiIndex.from_tuples(indeks)\n",
    "# sr.reindex(mi)\n",
    "# sr.index\n",
    "sr.unstack()\n",
    "# pd.__version__"
   ],
   "cell_type": "code",
   "outputs": [
    {
     "output_type": "error",
     "ename": "AttributeError",
     "evalue": "'Index' object has no attribute 'remove_unused_levels'",
     "traceback": [
      "\u001b[1;31m---------------------------------------------------------------------------\u001b[0m",
      "\u001b[1;31mAttributeError\u001b[0m                            Traceback (most recent call last)",
      "\u001b[1;32m<ipython-input-3-6615ada83b6e>\u001b[0m in \u001b[0;36m<module>\u001b[1;34m\u001b[0m\n\u001b[0;32m     10\u001b[0m \u001b[1;31m# sr.reindex(mi)\u001b[0m\u001b[1;33m\u001b[0m\u001b[1;33m\u001b[0m\u001b[1;33m\u001b[0m\u001b[0m\n\u001b[0;32m     11\u001b[0m \u001b[1;31m# sr.index\u001b[0m\u001b[1;33m\u001b[0m\u001b[1;33m\u001b[0m\u001b[1;33m\u001b[0m\u001b[0m\n\u001b[1;32m---> 12\u001b[1;33m \u001b[0msr\u001b[0m\u001b[1;33m.\u001b[0m\u001b[0munstack\u001b[0m\u001b[1;33m(\u001b[0m\u001b[1;33m)\u001b[0m\u001b[1;33m\u001b[0m\u001b[1;33m\u001b[0m\u001b[0m\n\u001b[0m\u001b[0;32m     13\u001b[0m \u001b[1;31m# pd.__version__\u001b[0m\u001b[1;33m\u001b[0m\u001b[1;33m\u001b[0m\u001b[1;33m\u001b[0m\u001b[0m\n",
      "\u001b[1;32mC:\\Python38\\lib\\site-packages\\pandas\\core\\series.py\u001b[0m in \u001b[0;36munstack\u001b[1;34m(self, level, fill_value)\u001b[0m\n\u001b[0;32m   3746\u001b[0m         \u001b[1;32mfrom\u001b[0m \u001b[0mpandas\u001b[0m\u001b[1;33m.\u001b[0m\u001b[0mcore\u001b[0m\u001b[1;33m.\u001b[0m\u001b[0mreshape\u001b[0m\u001b[1;33m.\u001b[0m\u001b[0mreshape\u001b[0m \u001b[1;32mimport\u001b[0m \u001b[0munstack\u001b[0m\u001b[1;33m\u001b[0m\u001b[1;33m\u001b[0m\u001b[0m\n\u001b[0;32m   3747\u001b[0m \u001b[1;33m\u001b[0m\u001b[0m\n\u001b[1;32m-> 3748\u001b[1;33m         \u001b[1;32mreturn\u001b[0m \u001b[0munstack\u001b[0m\u001b[1;33m(\u001b[0m\u001b[0mself\u001b[0m\u001b[1;33m,\u001b[0m \u001b[0mlevel\u001b[0m\u001b[1;33m,\u001b[0m \u001b[0mfill_value\u001b[0m\u001b[1;33m)\u001b[0m\u001b[1;33m\u001b[0m\u001b[1;33m\u001b[0m\u001b[0m\n\u001b[0m\u001b[0;32m   3749\u001b[0m \u001b[1;33m\u001b[0m\u001b[0m\n\u001b[0;32m   3750\u001b[0m     \u001b[1;31m# ----------------------------------------------------------------------\u001b[0m\u001b[1;33m\u001b[0m\u001b[1;33m\u001b[0m\u001b[1;33m\u001b[0m\u001b[0m\n",
      "\u001b[1;32mC:\\Python38\\lib\\site-packages\\pandas\\core\\reshape\\reshape.py\u001b[0m in \u001b[0;36munstack\u001b[1;34m(obj, level, fill_value)\u001b[0m\n\u001b[0;32m    416\u001b[0m         \u001b[1;32mif\u001b[0m \u001b[0mis_extension_array_dtype\u001b[0m\u001b[1;33m(\u001b[0m\u001b[0mobj\u001b[0m\u001b[1;33m.\u001b[0m\u001b[0mdtype\u001b[0m\u001b[1;33m)\u001b[0m\u001b[1;33m:\u001b[0m\u001b[1;33m\u001b[0m\u001b[1;33m\u001b[0m\u001b[0m\n\u001b[0;32m    417\u001b[0m             \u001b[1;32mreturn\u001b[0m \u001b[0m_unstack_extension_series\u001b[0m\u001b[1;33m(\u001b[0m\u001b[0mobj\u001b[0m\u001b[1;33m,\u001b[0m \u001b[0mlevel\u001b[0m\u001b[1;33m,\u001b[0m \u001b[0mfill_value\u001b[0m\u001b[1;33m)\u001b[0m\u001b[1;33m\u001b[0m\u001b[1;33m\u001b[0m\u001b[0m\n\u001b[1;32m--> 418\u001b[1;33m         unstacker = _Unstacker(\n\u001b[0m\u001b[0;32m    419\u001b[0m             \u001b[0mobj\u001b[0m\u001b[1;33m.\u001b[0m\u001b[0mvalues\u001b[0m\u001b[1;33m,\u001b[0m\u001b[1;33m\u001b[0m\u001b[1;33m\u001b[0m\u001b[0m\n\u001b[0;32m    420\u001b[0m             \u001b[0mobj\u001b[0m\u001b[1;33m.\u001b[0m\u001b[0mindex\u001b[0m\u001b[1;33m,\u001b[0m\u001b[1;33m\u001b[0m\u001b[1;33m\u001b[0m\u001b[0m\n",
      "\u001b[1;32mC:\\Python38\\lib\\site-packages\\pandas\\core\\reshape\\reshape.py\u001b[0m in \u001b[0;36m__init__\u001b[1;34m(self, values, index, level, value_columns, fill_value, constructor)\u001b[0m\n\u001b[0;32m    110\u001b[0m             \u001b[1;32mraise\u001b[0m \u001b[0mValueError\u001b[0m\u001b[1;33m(\u001b[0m\u001b[1;34m\"must pass column labels for multi-column data\"\u001b[0m\u001b[1;33m)\u001b[0m\u001b[1;33m\u001b[0m\u001b[1;33m\u001b[0m\u001b[0m\n\u001b[0;32m    111\u001b[0m \u001b[1;33m\u001b[0m\u001b[0m\n\u001b[1;32m--> 112\u001b[1;33m         \u001b[0mself\u001b[0m\u001b[1;33m.\u001b[0m\u001b[0mindex\u001b[0m \u001b[1;33m=\u001b[0m \u001b[0mindex\u001b[0m\u001b[1;33m.\u001b[0m\u001b[0mremove_unused_levels\u001b[0m\u001b[1;33m(\u001b[0m\u001b[1;33m)\u001b[0m\u001b[1;33m\u001b[0m\u001b[1;33m\u001b[0m\u001b[0m\n\u001b[0m\u001b[0;32m    113\u001b[0m \u001b[1;33m\u001b[0m\u001b[0m\n\u001b[0;32m    114\u001b[0m         \u001b[0mself\u001b[0m\u001b[1;33m.\u001b[0m\u001b[0mlevel\u001b[0m \u001b[1;33m=\u001b[0m \u001b[0mself\u001b[0m\u001b[1;33m.\u001b[0m\u001b[0mindex\u001b[0m\u001b[1;33m.\u001b[0m\u001b[0m_get_level_number\u001b[0m\u001b[1;33m(\u001b[0m\u001b[0mlevel\u001b[0m\u001b[1;33m)\u001b[0m\u001b[1;33m\u001b[0m\u001b[1;33m\u001b[0m\u001b[0m\n",
      "\u001b[1;31mAttributeError\u001b[0m: 'Index' object has no attribute 'remove_unused_levels'"
     ]
    }
   ],
   "metadata": {},
   "execution_count": 3
  },
  {
   "source": [
    "# header=pd.MultiIndex.from_product([['satu','dua'],[4,5,6]])\n",
    "# header2=pd.MultiIndex.from_tuples([('satu',4),('satu',5),('satu',6)])\n",
    "# print(header2)\n",
    "# sr=pd.Series([1,2,3], index=header2)\n",
    "# print(sr)\n",
    "\n",
    "# # print(header)\n",
    "index=[\n",
    "    ('satu',2012),\n",
    "    ('satu',2013),\n",
    "    ('dua',2012),\n",
    "    ('dua',2013)\n",
    "]\n",
    "ind=pd.MultiIndex.from_tuples(index)\n",
    "print(ind)\n",
    "sr=pd.Series([[1,2,3,4],[5,6,7,8],[9,10,11,12],[13,14,15,16]], index=ind)\n",
    "print(sr)\n",
    "sr=sr.reindex(ind)\n",
    "sr_new=sr.unstack()\n",
    "print(sr_new)\n",
    "sr_new.stack()"
   ],
   "cell_type": "code",
   "outputs": [
    {
     "output_type": "stream",
     "name": "stdout",
     "text": "MultiIndex([('satu', 2012),\n            ('satu', 2013),\n            ( 'dua', 2012),\n            ( 'dua', 2013)],\n           )\nsatu  2012        [1, 2, 3, 4]\n      2013        [5, 6, 7, 8]\ndua   2012     [9, 10, 11, 12]\n      2013    [13, 14, 15, 16]\ndtype: object\n                 2012              2013\ndua   [9, 10, 11, 12]  [13, 14, 15, 16]\nsatu     [1, 2, 3, 4]      [5, 6, 7, 8]\n"
    },
    {
     "output_type": "execute_result",
     "data": {
      "text/plain": "dua   2012     [9, 10, 11, 12]\n      2013    [13, 14, 15, 16]\nsatu  2012        [1, 2, 3, 4]\n      2013        [5, 6, 7, 8]\ndtype: object"
     },
     "metadata": {},
     "execution_count": 54
    }
   ],
   "metadata": {},
   "execution_count": 54
  },
  {
   "source": [
    "ind\n",
    "df=pd.DataFrame([[1,2,3,4],[5,6,7,8],[9,10,11,12],[13,14,15,16]], index=ind)\n",
    "df['tiga-dua'] = df[3]/df[2]\n",
    "df['satu-nol']=df[1]/df[0]\n",
    "df"
   ],
   "cell_type": "code",
   "outputs": [
    {
     "output_type": "execute_result",
     "data": {
      "text/plain": "            0   1   2   3  tiga-dua  satu-nol\nsatu 2012   1   2   3   4  1.333333  2.000000\n     2013   5   6   7   8  1.142857  1.200000\ndua  2012   9  10  11  12  1.090909  1.111111\n     2013  13  14  15  16  1.066667  1.076923",
      "text/html": "<div>\n<style scoped>\n    .dataframe tbody tr th:only-of-type {\n        vertical-align: middle;\n    }\n\n    .dataframe tbody tr th {\n        vertical-align: top;\n    }\n\n    .dataframe thead th {\n        text-align: right;\n    }\n</style>\n<table border=\"1\" class=\"dataframe\">\n  <thead>\n    <tr style=\"text-align: right;\">\n      <th></th>\n      <th></th>\n      <th>0</th>\n      <th>1</th>\n      <th>2</th>\n      <th>3</th>\n      <th>tiga-dua</th>\n      <th>satu-nol</th>\n    </tr>\n  </thead>\n  <tbody>\n    <tr>\n      <th rowspan=\"2\" valign=\"top\">satu</th>\n      <th>2012</th>\n      <td>1</td>\n      <td>2</td>\n      <td>3</td>\n      <td>4</td>\n      <td>1.333333</td>\n      <td>2.000000</td>\n    </tr>\n    <tr>\n      <th>2013</th>\n      <td>5</td>\n      <td>6</td>\n      <td>7</td>\n      <td>8</td>\n      <td>1.142857</td>\n      <td>1.200000</td>\n    </tr>\n    <tr>\n      <th rowspan=\"2\" valign=\"top\">dua</th>\n      <th>2012</th>\n      <td>9</td>\n      <td>10</td>\n      <td>11</td>\n      <td>12</td>\n      <td>1.090909</td>\n      <td>1.111111</td>\n    </tr>\n    <tr>\n      <th>2013</th>\n      <td>13</td>\n      <td>14</td>\n      <td>15</td>\n      <td>16</td>\n      <td>1.066667</td>\n      <td>1.076923</td>\n    </tr>\n  </tbody>\n</table>\n</div>"
     },
     "metadata": {},
     "execution_count": 68
    }
   ],
   "metadata": {},
   "execution_count": 68
  },
  {
   "source": [
    "array=np.random.rand(2,4)\n",
    "array\n",
    "baris=[\n",
    "    ['a','a','b','b'],\n",
    "    [2010,2011,2010,2011]\n",
    "]\n",
    "kolom=['satu','dua']\n",
    "df=pd.DataFrame(array,,columns=baris)\n",
    "df"
   ],
   "cell_type": "code",
   "outputs": [
    {
     "output_type": "error",
     "ename": "SyntaxError",
     "evalue": "invalid syntax (<ipython-input-71-254d54e671db>, line 8)",
     "traceback": [
      "\u001b[1;36m  File \u001b[1;32m\"<ipython-input-71-254d54e671db>\"\u001b[1;36m, line \u001b[1;32m8\u001b[0m\n\u001b[1;33m    df=pd.DataFrame(array,,columns=baris)\u001b[0m\n\u001b[1;37m                          ^\u001b[0m\n\u001b[1;31mSyntaxError\u001b[0m\u001b[1;31m:\u001b[0m invalid syntax\n"
     ]
    }
   ],
   "metadata": {},
   "execution_count": 71
  },
  {
   "cell_type": "code",
   "execution_count": null,
   "metadata": {},
   "outputs": [],
   "source": []
  }
 ]
}