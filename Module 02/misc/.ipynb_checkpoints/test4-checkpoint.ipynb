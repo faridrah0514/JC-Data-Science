{
 "cells": [
  {
   "cell_type": "markdown",
   "metadata": {},
   "source": [
    "# Test"
   ]
  },
  {
   "cell_type": "code",
   "execution_count": 1,
   "metadata": {},
   "outputs": [
    {
     "data": {
      "text/plain": [
       "alfa       0.25\n",
       "beta       0.50\n",
       "charlie    0.75\n",
       "dudi       1.00\n",
       "dtype: float64"
      ]
     },
     "execution_count": 1,
     "metadata": {},
     "output_type": "execute_result"
    }
   ],
   "source": [
    "import pandas as pd\n",
    "pd.__version__\n",
    "arr=[0.25,0.5,0.75,1.0]\n",
    "\n",
    "index=['alfa','beta','charlie','dudi']\n",
    "data=pd.Series(arr,index=index)\n",
    "data"
   ]
  },
  {
   "cell_type": "code",
   "execution_count": 76,
   "metadata": {},
   "outputs": [
    {
     "name": "stdout",
     "output_type": "stream",
     "text": [
      "nama  umur      kota   Hobby\n",
      "satu   Andi    22   Jakarta     NaN\n",
      "dua    Budi    23   Bandung     NaN\n",
      "tiga   Caca    24  Surabaya     NaN\n",
      "empat  Dino    25  Semarang  Futsal\n",
      "\n",
      "satu      Jakarta\n",
      "dua       Bandung\n",
      "tiga     Surabaya\n",
      "empat    Semarang\n",
      "Name: kota, dtype: object\n",
      "\n",
      "nama         Andi\n",
      "umur           22\n",
      "kota      Jakarta\n",
      "Status    Menikah\n",
      "dtype: object\n",
      "{'nama': 'Andi', 'umur': 22, 'kota': 'Jakarta', 'Status': 'Menikah'}\n",
      "['nama', 'umur', 'kota']\n"
     ]
    },
    {
     "data": {
      "text/html": [
       "<div>\n",
       "<style scoped>\n",
       "    .dataframe tbody tr th:only-of-type {\n",
       "        vertical-align: middle;\n",
       "    }\n",
       "\n",
       "    .dataframe tbody tr th {\n",
       "        vertical-align: top;\n",
       "    }\n",
       "\n",
       "    .dataframe thead th {\n",
       "        text-align: right;\n",
       "    }\n",
       "</style>\n",
       "<table border=\"1\" class=\"dataframe\">\n",
       "  <thead>\n",
       "    <tr style=\"text-align: right;\">\n",
       "      <th></th>\n",
       "      <th>nama</th>\n",
       "      <th>usia</th>\n",
       "    </tr>\n",
       "  </thead>\n",
       "  <tbody>\n",
       "    <tr>\n",
       "      <td>a</td>\n",
       "      <td>Andi</td>\n",
       "      <td>21</td>\n",
       "    </tr>\n",
       "    <tr>\n",
       "      <td>b</td>\n",
       "      <td>Budi</td>\n",
       "      <td>22</td>\n",
       "    </tr>\n",
       "    <tr>\n",
       "      <td>c</td>\n",
       "      <td>Caca</td>\n",
       "      <td>23</td>\n",
       "    </tr>\n",
       "  </tbody>\n",
       "</table>\n",
       "</div>"
      ],
      "text/plain": [
       "   nama  usia\n",
       "a  Andi    21\n",
       "b  Budi    22\n",
       "c  Caca    23"
      ]
     },
     "execution_count": 76,
     "metadata": {},
     "output_type": "execute_result"
    }
   ],
   "source": [
    "database=[\n",
    "    {\"nama\":\"Andi\", \"umur\": 22, \"kota\":\"Jakarta\"},\n",
    "    {\"nama\":\"Budi\", \"umur\": 23, \"kota\":\"Bandung\"},\n",
    "    {\"nama\":\"Caca\", \"umur\": 24, \"kota\":\"Surabaya\"},\n",
    "    {\"nama\":\"Dino\", \"umur\": 25, \"kota\":\"Semarang\", \"Hobby\":\"Futsal\"},\n",
    "]\n",
    "norm_dict={\n",
    "    \"nama\": \"Andi\",\n",
    "    \"umur\": 22,\n",
    "    \"kota\": \"Jakarta\",\n",
    "    \"Status\": \"Menikah\"\n",
    "\n",
    "}\n",
    "data=pd.DataFrame(database, index=['satu','dua','tiga','empat'])\n",
    "print(data)\n",
    "print(\"\")\n",
    "print(data['kota'])\n",
    "data2=pd.Series(norm_dict)\n",
    "print(\"\")\n",
    "print(data2)\n",
    "print(dict(data2))\n",
    "print(list(database[0].keys()))\n",
    "test={\n",
    "    \"nama\": ['Andi', 'Budi','Caca'],\n",
    "    \"usia\": [21,22,23]\n",
    "}\n",
    "test2=pd.DataFrame(test, index=['a','b','c'])\n",
    "test2"
   ]
  },
  {
   "cell_type": "code",
   "execution_count": 99,
   "metadata": {},
   "outputs": [
    {
     "name": "stdout",
     "output_type": "stream",
     "text": [
      "foo  bar  zoo\n",
      "0  Andi    8    7\n",
      "1     3    5    8\n",
      "2     1    5    2\n",
      "3     3    4    6\n",
      "4     0    7    6\n",
      "\n",
      "2\n",
      "\n",
      "(5, 3)\n",
      "\n",
      "int64\n",
      "Index(['foo', 'bar', 'zoo'], dtype='object')\n",
      "{0: 'Andi', 1: 3, 2: 1, 3: 3, 4: 0}\n",
      "False\n",
      "RangeIndex(start=0, stop=5, step=1)\n"
     ]
    }
   ],
   "source": [
    "import numpy as np\n",
    "data=np.array([[7,8,7],\n",
    " [3,5,8],\n",
    " [1,5,2],\n",
    " [3,4,6],\n",
    " [0,7,6]])\n",
    "df=pd.DataFrame(data,columns=['foo','bar','zoo'])\n",
    "df['foo'][0] = 'Andi'\n",
    "print(df)\n",
    "print(\"\")\n",
    "print(df.ndim)\n",
    "print(\"\")\n",
    "print(df.shape)\n",
    "print(\"\")\n",
    "print(df.index.dtype)\n",
    "print(df.keys())\n",
    "print(dict(df['foo']))\n",
    "# print('Andi' in df['foo'])\n",
    "print(df.index)"
   ]
  },
  {
   "cell_type": "code",
   "execution_count": null,
   "metadata": {},
   "outputs": [],
   "source": []
  }
 ],
 "metadata": {
  "file_extension": ".py",
  "kernelspec": {
   "display_name": "Python 3",
   "language": "python",
   "name": "python3"
  },
  "language_info": {
   "codemirror_mode": {
    "name": "ipython",
    "version": 3
   },
   "file_extension": ".py",
   "mimetype": "text/x-python",
   "name": "python",
   "nbconvert_exporter": "python",
   "pygments_lexer": "ipython3",
   "version": "3.8.0"
  },
  "mimetype": "text/x-python",
  "name": "python",
  "npconvert_exporter": "python",
  "pygments_lexer": "ipython3",
  "version": 3
 },
 "nbformat": 4,
 "nbformat_minor": 2
}
