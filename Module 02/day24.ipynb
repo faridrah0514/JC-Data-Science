{
 "nbformat": 4,
 "nbformat_minor": 2,
 "metadata": {
  "language_info": {
   "name": "python",
   "codemirror_mode": {
    "name": "ipython",
    "version": 3
   },
   "version": "3.7.4"
  },
  "orig_nbformat": 2,
  "file_extension": ".py",
  "mimetype": "text/x-python",
  "name": "python",
  "npconvert_exporter": "python",
  "pygments_lexer": "ipython3",
  "version": 3
 },
 "cells": [
  {
   "cell_type": "markdown",
   "execution_count": 1,
   "metadata": {},
   "outputs": [],
   "source": [
    "# numpy 3"
   ]
  },
  {
   "cell_type": "code",
   "execution_count": 36,
   "metadata": {},
   "outputs": [
    {
     "name": "stdout",
     "output_type": "stream",
     "text": "[20, 3, 2, 4, 10, 5, 4, 1, 7]\n"
    }
   ],
   "source": [
    "import numpy as np\n",
    "x = [20,3,2,4,10,5,4,1,7]\n",
    "y = np.array(x)\n",
    "print(x)"
   ]
  },
  {
   "cell_type": "code",
   "execution_count": 17,
   "metadata": {},
   "outputs": [],
   "source": [
    "# np.sort(y)[::-1]"
   ]
  },
  {
   "cell_type": "code",
   "execution_count": 49,
   "metadata": {},
   "outputs": [
    {
     "name": "stdout",
     "output_type": "stream",
     "text": "[1, 2, 3]\n[3, 2, 1]\n"
    }
   ],
   "source": [
    "x = [20,3,2,4,10,5,4,-1,7,111]\n",
    "def sort_asc(x):\n",
    "    for i in range(len(x)):\n",
    "        m=0\n",
    "        for _ in range(len(x)):\n",
    "            if x[m] > x[i]:\n",
    "                x[m], x[i] = x[i], x[m]\n",
    "            m+=1\n",
    "    print(x)\n",
    "\n",
    "def sort_desc(x):\n",
    "    for i in range(len(x)):\n",
    "        m=0\n",
    "        for _ in range(len(x)):\n",
    "            if x[m] < x[i]:\n",
    "                x[m], x[i] = x[i], x[m]\n",
    "            m+=1\n",
    "    print(x)\n",
    "\n",
    "sort_asc(x)\n",
    "sort_desc(x)"
   ]
  },
  {
   "cell_type": "code",
   "execution_count": 47,
   "metadata": {},
   "outputs": [
    {
     "name": "stdout",
     "output_type": "stream",
     "text": "[-1, 2, 3, 4, 4, 5, 7, 10, 20, 111]\n"
    }
   ],
   "source": [
    "#cara mas lintang\n",
    "x = [20,3,2,4,10,5,4,-1,7,111]\n",
    "sortir =[]\n",
    "i=0\n",
    "minX=x[0]\n",
    "while len(x) > 0:\n",
    "    if x[i] < minX:\n",
    "        minX=x[i]\n",
    "    i+=1\n",
    "    if i == len(x):\n",
    "        sortir.append(minX)\n",
    "        x.remove(minX)\n",
    "        if x:\n",
    "            minX=x[0]\n",
    "        i=0\n",
    "print(sortir)"
   ]
  },
  {
   "cell_type": "code",
   "execution_count": 53,
   "metadata": {},
   "outputs": [
    {
     "name": "stdout",
     "output_type": "stream",
     "text": "[[ 8 10 11]\n [ 4  7  9]]\n[[ 9  4  7]\n [10  8 11]]\n"
    }
   ],
   "source": [
    "z=np.array([\n",
    "    [10,8,11],\n",
    "    [9,4,7]\n",
    "])\n",
    "print(np.sort(z))\n",
    "print(np.sort(z, axis=0))\n",
    "# print(z)"
   ]
  },
  {
   "cell_type": "code",
   "execution_count": 70,
   "metadata": {},
   "outputs": [
    {
     "name": "stdout",
     "output_type": "stream",
     "text": "[[0 1]\n [2 3]\n [4 5]\n [6 7]\n [8 9]]\n\n[[1 0]\n [3 2]\n [5 4]\n [7 6]\n [9 8]]\n\n[[0 0]\n [2 2]\n [4 4]\n [6 6]\n [8 8]]\n\n[[0 2 4 6 8]\n [1 3 5 7 9]]\n"
    }
   ],
   "source": [
    "x=np.arange(10).reshape(5,-1)\n",
    "print(x)\n",
    "print(\"\")\n",
    "print(x[:,[1,0]])\n",
    "print(\"\")\n",
    "print(x[:,[0,0]])\n",
    "print(\"\")\n",
    "print(np.swapaxes(x,0,1))"
   ]
  },
  {
   "cell_type": "code",
   "execution_count": 79,
   "metadata": {},
   "outputs": [
    {
     "name": "stdout",
     "output_type": "stream",
     "text": "None\n[ 0.49671415 -0.1382643   0.64768854  1.52302986 -0.23415337 -0.23413696\n  1.57921282  0.76743473 -0.46947439  0.54256004 -0.46341769 -0.46572975\n  0.24196227 -1.91328024 -1.72491783 -0.56228753 -1.01283112  0.31424733\n -0.90802408 -1.4123037   1.46564877 -0.2257763   0.0675282  -1.42474819\n -0.54438272  0.11092259 -1.15099358  0.37569802 -0.60063869 -0.29169375\n -0.60170661  1.85227818 -0.01349722 -1.05771093  0.82254491 -1.22084365\n  0.2088636  -1.95967012 -1.32818605  0.19686124  0.73846658  0.17136828\n -0.11564828 -0.3011037  -1.47852199 -0.71984421 -0.46063877  1.05712223\n  0.34361829 -1.76304016  0.32408397 -0.38508228 -0.676922    0.61167629\n  1.03099952  0.93128012 -0.83921752 -0.30921238  0.33126343  0.97554513\n -0.47917424 -0.18565898 -1.10633497 -1.19620662  0.81252582  1.35624003\n -0.07201012  1.0035329   0.36163603 -0.64511975  0.36139561  1.53803657\n -0.03582604  1.56464366 -2.6197451   0.8219025   0.08704707 -0.29900735\n  0.09176078 -1.98756891 -0.21967189  0.35711257  1.47789404 -0.51827022\n -0.8084936  -0.50175704  0.91540212  0.32875111 -0.5297602   0.51326743\n  0.09707755  0.96864499 -0.70205309 -0.32766215 -0.39210815 -1.46351495\n  0.29612028  0.26105527  0.00511346 -0.23458713]\n[-5.         -4.47368421 -3.94736842 -3.42105263 -2.89473684 -2.36842105\n -1.84210526 -1.31578947 -0.78947368 -0.26315789  0.26315789  0.78947368\n  1.31578947  1.84210526  2.36842105  2.89473684  3.42105263  3.94736842\n  4.47368421  5.        ]\n"
    }
   ],
   "source": [
    "print(np.random.seed(42))\n",
    "print(np.random.randn(100))\n",
    "print(np.linspace(-5,5,20))"
   ]
  },
  {
   "cell_type": "code",
   "execution_count": 78,
   "metadata": {},
   "outputs": [
    {
     "name": "stdout",
     "output_type": "stream",
     "text": "[[0 1]\n [2 3]\n [4 5]\n [6 7]\n [8 9]]\n[[0 2 4 6 8]\n [1 3 5 7 9]]\n"
    }
   ],
   "source": [
    "y = np.arange(10).reshape((5,-1))\n",
    "print(y)\n",
    "print(y.transpose())"
   ]
  },
  {
   "cell_type": "code",
   "execution_count": 101,
   "metadata": {},
   "outputs": [
    {
     "name": "stdout",
     "output_type": "stream",
     "text": "[]\n"
    }
   ],
   "source": [
    "c=np.array([[1,2,3,4,5,6]])\n",
    "print(c[1:,np.newaxis,:2])"
   ]
  },
  {
   "cell_type": "code",
   "execution_count": 183,
   "metadata": {},
   "outputs": [
    {
     "name": "stdout",
     "output_type": "stream",
     "text": "[1 2 3 4 5 6 7 8]\n[20 21 22 23 24 25 26 27]\n[[ 1 20]\n [ 2 21]\n [ 3 22]\n [ 4 23]\n [ 5 24]\n [ 6 25]\n [ 7 26]\n [ 8 27]]\n"
    }
   ],
   "source": [
    "#load dari CSV file, tulis ke CSV lain\n",
    "\n",
    "import numpy as np\n",
    "id, usia=np.loadtxt('misc/0.csv', delimiter=',', skiprows=1, dtype='int32', unpack=True)\n",
    "# usia=usia.reshape(-1,1)\n",
    "# id=id.reshape(-1,1)\n",
    "\n",
    "print(id)\n",
    "print(usia)\n",
    "# id=np.vstack(usia)\n",
    "# print(id)\n",
    "data=np.vstack((id,usia)).transpose()\n",
    "print(data)\n",
    "# np.savetxt('misc/1.csv', (id,usia), fmt='%d', delimiter=',',header='id,usia')\n",
    "np.savetxt('misc/1.csv', data , fmt='%d', header='id,usia', delimiter=',', comments='')"
   ]
  },
  {
   "cell_type": "code",
   "execution_count": null,
   "metadata": {},
   "outputs": [],
   "source": []
  },
  {
   "cell_type": "code",
   "execution_count": 134,
   "metadata": {},
   "outputs": [
    {
     "name": "stdout",
     "output_type": "stream",
     "text": "1.16.5\n[0 1 2 3 4 5 6 7 8 9]\n[[ True  True  True]\n [ True  True  True]\n [ True  True  True]]\n[[ True  True  True]\n [ True  True  True]\n [ True  True  True]]\n[ 0 -1  2 -1  4 -1  6 -1  8 -1]\n[0 1 2 3 4 5 6 7 8 9]\n[[0 1 2 3 4]\n [5 6 7 8 9]]\n\n#Q8\n"
    },
    {
     "data": {
      "text/plain": "array([[1, 1, 1, 1, 1],\n       [1, 1, 1, 1, 1]])"
     },
     "execution_count": 134,
     "metadata": {},
     "output_type": "execute_result"
    }
   ],
   "source": [
    "print(np.__version__)\n",
    "z=np.array([0,1,2,3,4,5,6,7,8,9])\n",
    "print(z)\n",
    "x = np.ones((3,3), dtype='bool')\n",
    "y = np.full((3,3), True, dtype='bool')\n",
    "print(x)\n",
    "print(y)\n",
    "# arr2=z[z % 2 != 0]\n",
    "# print(arr2)\n",
    "# z[z % 2 != 0] = -1\n",
    "# print(z)\n",
    "\n",
    "out=np.where(z % 2 != 0, -1, z)\n",
    "print(out)\n",
    "print(z)\n",
    "q7=np.arange(10)\n",
    "q7=q7.reshape(2,-1)\n",
    "print(q7)\n",
    "print(\"\")\n",
    "print(\"#Q8\")\n",
    "q8a=np.arange(10).reshape(2,-1)\n",
    "q8b=np.repeat(1,10).reshape(2,-1)\n",
    "q8b"
   ]
  }
 ]
}